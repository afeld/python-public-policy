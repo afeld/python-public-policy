{
 "cells": [
  {
   "cell_type": "markdown",
   "metadata": {
    "id": "br6IoqhOkfW8"
   },
   "source": [
    "# Homework 4\n",
    "\n",
    "_[General assignment information](https://python-public-policy.afeld.me/en/columbia/assignments.html)_"
   ]
  },
  {
   "cell_type": "markdown",
   "metadata": {
    "editable": true,
    "id": "Rj4Wq1CrlSjj",
    "slideshow": {
     "slide_type": ""
    },
    "tags": []
   },
   "source": [
    "## Coding\n",
    "\n",
    "**Goal:** Find complaint types that increased or decreased when COVID-19 hit New York City in mid-March 2020.\n",
    "\n",
    "Each step builds on one another, to simulate what the [Final Project](https://python-public-policy.afeld.me/en/columbia/final_project.html) will be like. That said, if you get stuck on Steps 0-5, you can jump ahead and do Steps 6-7, since they don't depend on previous Steps.\n",
    "\n",
    "This notebook is specific with the DataFrame names to make troubleshooting easier."
   ]
  },
  {
   "cell_type": "markdown",
   "metadata": {
    "editable": true,
    "id": "BtvfdWpGlLGP",
    "slideshow": {
     "slide_type": ""
    },
    "tags": []
   },
   "source": [
    "### Step 1: Load data\n",
    "\n",
    "Load [311 data](https://data.cityofnewyork.us/Social-Services/311-Service-Requests-from-2010-to-Present/erm2-nwe9/explore) from January-March 2020 into a DataFrame called `df_2020`.\n",
    "\n",
    "https://storage.googleapis.com/python-public-policy2/data/311_covid.csv.zip"
   ]
  },
  {
   "cell_type": "code",
   "execution_count": null,
   "metadata": {
    "tags": [
     "solution"
    ]
   },
   "outputs": [],
   "source": [
    "# your code here"
   ]
  },
  {
   "cell_type": "markdown",
   "metadata": {
    "editable": true,
    "id": "JQo1Pa951V-P",
    "slideshow": {
     "slide_type": ""
    },
    "tags": []
   },
   "source": [
    "### Step 2: Convert dates\n",
    "\n",
    "Adapt the code from [Lecture 4](https://python-public-policy.afeld.me/en/columbia/lecture_4.html) to convert the `Created Date` to a `datetime`."
   ]
  },
  {
   "cell_type": "code",
   "execution_count": null,
   "metadata": {
    "tags": [
     "solution"
    ]
   },
   "outputs": [],
   "source": [
    "# your code here"
   ]
  },
  {
   "cell_type": "markdown",
   "metadata": {
    "editable": true,
    "id": "_AISfaNylvfX",
    "slideshow": {
     "slide_type": ""
    },
    "tags": []
   },
   "source": [
    "### Step 3: Date counts\n",
    "\n",
    "Create a DataFrame called `date_counts` that has the count of complaints per Complaint Type per day, then display it."
   ]
  },
  {
   "cell_type": "code",
   "execution_count": null,
   "metadata": {
    "tags": [
     "solution"
    ]
   },
   "outputs": [],
   "source": [
    "# your code here"
   ]
  },
  {
   "cell_type": "markdown",
   "metadata": {
    "id": "cnYXtBEGCxKp"
   },
   "source": [
    "### Step 4: Plotting over time\n",
    "\n",
    "Create a line chart of the count of complaints over time, [one line per `Complaint Type`](https://plotly.com/python/line-charts/#line-plots-with-column-encoding-color)."
   ]
  },
  {
   "cell_type": "code",
   "execution_count": null,
   "metadata": {
    "tags": [
     "solution"
    ]
   },
   "outputs": [],
   "source": [
    "# your code here"
   ]
  },
  {
   "cell_type": "markdown",
   "metadata": {
    "id": "zJlm08A3CtJn"
   },
   "source": [
    "______________________________________________________________________\n",
    "\n",
    "This has the information we need, but is a lot to look at. Let's only show complaint types that changed greatly (in March 2020) relative to the same period in the previous year (March 2019)."
   ]
  },
  {
   "cell_type": "markdown",
   "metadata": {
    "id": "blbSpASlq2BN"
   },
   "source": [
    "### Step 5: March 2020 counts\n",
    "\n",
    "Create a DataFrame called `mar_counts` that has the count of each `Complaint Type` in March 2020 in a column called `2020`. Use [`.to_frame()`](https://pandas.pydata.org/pandas-docs/stable/reference/api/pandas.Series.to_frame.html) (instead of [`.reset_index()`](https://pandas.pydata.org/pandas-docs/stable/reference/api/pandas.Series.reset_index.html)) to use the `Complaint Type` as the index. It should end up looking something like this:\n",
    "\n",
    "Complaint Type | 2020\n",
    "--- | ---\n",
    "APPLIANCE | 824\n",
    "Abandoned Vehicle | 2500\n",
    "Adopt-A-Basket | 7\n",
    "… | …\n",
    "\n",
    "_Note there is no numeric index._"
   ]
  },
  {
   "cell_type": "code",
   "execution_count": null,
   "metadata": {
    "tags": [
     "solution"
    ]
   },
   "outputs": [],
   "source": [
    "# your code here"
   ]
  },
  {
   "cell_type": "markdown",
   "metadata": {
    "id": "Fr1wKrqVILOF"
   },
   "source": [
    "### Step 6: Get March 2019 data\n",
    "\n",
    "For this step, you'll practice filtering data directly in the NYC Open Data Portal.\n",
    "\n",
    "1. Download the data.\n",
    "   1. Visit the [311 data](https://data.cityofnewyork.us/Social-Services/311-Service-Requests-from-2010-to-Present/erm2-nwe9/explore) page.\n",
    "   1. From that page, filter the data to `Created Date`s in March 2019.\n",
    "   1. Confirm that it's around 222k rows.\n",
    "   1. Click `Export`.\n",
    "   1. Click `CSV`. It will start downloading a file.\n",
    "   1. Rename the file `311_mar_2019.csv`.\n",
    "1. [Upload the CSV.](https://python-public-policy.afeld.me/en/columbia/assignments/open_ended.html#storing-data)\n",
    "\n",
    "If the above is taking a long time due to a slow network connection or whatever else, load the data from:\n",
    "\n",
    "https://storage.googleapis.com/python-public-policy2/data/311_mar_2019.csv.zip\n",
    "\n",
    "Load it into a DataFrame called `mar_2019`."
   ]
  },
  {
   "cell_type": "code",
   "execution_count": null,
   "metadata": {
    "tags": [
     "solution"
    ]
   },
   "outputs": [],
   "source": [
    "# your code here"
   ]
  },
  {
   "cell_type": "markdown",
   "metadata": {
    "id": "g8lAFy31LfLy"
   },
   "source": [
    "### Step 7: March 2019 counts\n",
    "\n",
    "1. Get the `Complaint Type` counts for March 2019.\n",
    "1. Add these to the `mar_counts` DataFrame as a column called `2019`.\n",
    "   - Reminder that adding a Series as a new column to a DataFrame matches rows based on the index."
   ]
  },
  {
   "cell_type": "code",
   "execution_count": null,
   "metadata": {
    "tags": [
     "solution"
    ]
   },
   "outputs": [],
   "source": [
    "# your code here"
   ]
  },
  {
   "cell_type": "markdown",
   "metadata": {
    "id": "NmfzxOwEuTWt"
   },
   "source": [
    "### Step 8: Percent change\n",
    "\n",
    "Use `mar_counts` to calculate the percent change from March 2019 to March 2020 for each `Complaint Type`. Save as the `pct_change` column. Should result in something like this:\n",
    "\n",
    "Complaint Type | 2020 | 2019 | pct_change\n",
    "--- | --- | --- | ---\n",
    "APPLIANCE | 824 | 1042 | -0.20\n",
    "Abandoned Vehicle | 2500 | 1 | 2499.00\n",
    "Adopt-A-Basket | 7 | NaN | NaN\n",
    "… | … | … | …"
   ]
  },
  {
   "cell_type": "code",
   "execution_count": null,
   "metadata": {
    "tags": [
     "solution"
    ]
   },
   "outputs": [],
   "source": [
    "# your code here"
   ]
  },
  {
   "cell_type": "markdown",
   "metadata": {
    "id": "nu5-RoTCFRPr"
   },
   "source": [
    "### Step 9: Filter\n",
    "\n",
    "Filter to `Complaint Type`s that both:\n",
    "\n",
    "- Occurred at least 50 times in March 2020\n",
    "- Changed (increased _or_ decreased) by more than 90%\n",
    "\n",
    "and save the DataFrame as `top_changed`. A couple of things that may be helpful:\n",
    "\n",
    "- [Selecting Subsets of Data in Pandas](https://medium.com/dunder-data/selecting-subsets-of-data-in-pandas-39e811c81a0c#0eb4), starting from \"Multiple condition expression\"\n",
    "- [Getting absolute values](https://pandas.pydata.org/pandas-docs/stable/reference/api/pandas.DataFrame.abs.html)"
   ]
  },
  {
   "cell_type": "code",
   "execution_count": null,
   "metadata": {
    "tags": [
     "solution"
    ]
   },
   "outputs": [],
   "source": [
    "# your code here"
   ]
  },
  {
   "cell_type": "markdown",
   "metadata": {
    "id": "ENFrJrS3w7H_"
   },
   "source": [
    "### Step 10: Top changed\n",
    "\n",
    "Filter the `date_counts` to only the `top_changed` `Complaint Type`s. Save as `top_changed_by_day`."
   ]
  },
  {
   "cell_type": "code",
   "execution_count": null,
   "metadata": {
    "tags": [
     "solution"
    ]
   },
   "outputs": [],
   "source": [
    "# your code here"
   ]
  },
  {
   "cell_type": "markdown",
   "metadata": {
    "id": "xJflRexSypwA"
   },
   "source": [
    "### Step 11: Plotting changed complaints\n",
    "\n",
    "Make a similar plot to Step 4, but with only the top complaints (`top_changed_by_day`)."
   ]
  },
  {
   "cell_type": "code",
   "execution_count": null,
   "metadata": {
    "tags": [
     "solution"
    ]
   },
   "outputs": [],
   "source": [
    "# your code here"
   ]
  },
  {
   "cell_type": "markdown",
   "metadata": {
    "id": "9X1Cjz1i0f_h"
   },
   "source": [
    "## Question 0\n",
    "\n",
    "***Did the change of any of the `Complaint Type`s in Step 10/11 surprise you? Why or why not? (Speak at least one specifically.)***"
   ]
  },
  {
   "cell_type": "markdown",
   "metadata": {
    "tags": [
     "solution"
    ]
   },
   "source": [
    "YOUR RESPONSE HERE"
   ]
  },
  {
   "cell_type": "markdown",
   "metadata": {},
   "source": [
    "Then, give these a read:\n",
    "\n",
    "- [NY Daily News article](https://www.nydailynews.com/coronavirus/ny-coronavirus-price-gouging-new-york-city-20200429-z5zs4ygfxbcmrpgzfrnlbxsnea-story.html)\n",
    "- [Press release from Department of Consumer and Worker Protection](https://web.archive.org/web/20240105080030/https://www.nyc.gov/site/dca/media/pr031720-DCWP-Emergency-Rule-Price-Gouging-Illegal.page)\n",
    "\n",
    "Overall caveat for this assignment: [**correlation does not imply causation**](https://www.khanacademy.org/math/probability/scatterplots-a1/creating-interpreting-scatterplots/v/correlation-and-causality)."
   ]
  },
  {
   "cell_type": "markdown",
   "metadata": {
    "editable": true,
    "slideshow": {
     "slide_type": ""
    },
    "tags": []
   },
   "source": [
    "## Charting against COVID-19 case counts\n",
    "\n",
    "\n",
    "\n",
    "Let's take a look at the `Consumer Complaint`s against the COVID-19 case numbers in NYC in the same graph. You'll need to:\n",
    "\n",
    "1. Find data that provides the COVID-19 case counts for NYC by day.\n",
    "1. Create a DataFrame with only the `Consumer Complaint` `Complaint Type` counts, by day.\n",
    "1. Chart the two against each other for February through March.\n",
    "\n",
    "The result should look something like this (without the black box):\n",
    "\n",
    "![solution chart](extras/img/hw_4_two_y.png)\n",
    "\n",
    "Some resources that may be helpful:\n",
    "\n",
    "- [Reading CSV data from GitHub](https://projectosyo.wixsite.com/datadoubleconfirm/single-post/2019/04/15/Reading-csv-data-from-Github---Python)\n",
    "- [Two Y Axes in plotly](https://plotly.com/python/multiple-axes/#two-y-axes)\n",
    "   - Note that the `plotly.graph_objects` syntax is a bit different than the `plotly.express` syntax we've been using. With `go.Scatter()`, you don't provide the DataFrame and the names of the columns; you pass `x` and `y` as lists/Series of the values themselves.\n",
    "- [Setting the Range of Axes Manually in plotly](https://plotly.com/python/axes/#setting-the-range-of-axes-manually)"
   ]
  },
  {
   "cell_type": "code",
   "execution_count": null,
   "metadata": {
    "tags": [
     "solution"
    ]
   },
   "outputs": [],
   "source": [
    "# your code here"
   ]
  },
  {
   "cell_type": "code",
   "execution_count": null,
   "metadata": {
    "tags": [
     "solution"
    ]
   },
   "outputs": [],
   "source": [
    "# your code here"
   ]
  },
  {
   "cell_type": "code",
   "execution_count": null,
   "metadata": {
    "tags": [
     "solution"
    ]
   },
   "outputs": [],
   "source": [
    "# your code here"
   ]
  },
  {
   "cell_type": "markdown",
   "metadata": {
    "editable": true,
    "slideshow": {
     "slide_type": ""
    },
    "tags": []
   },
   "source": [
    "### What observations do you have?"
   ]
  },
  {
   "cell_type": "markdown",
   "metadata": {
    "editable": true,
    "slideshow": {
     "slide_type": ""
    },
    "tags": [
     "solution"
    ]
   },
   "source": [
    "YOUR RESPONSE HERE"
   ]
  },
  {
   "cell_type": "markdown",
   "metadata": {
    "editable": true,
    "id": "CbrIfq1J4oEU",
    "slideshow": {
     "slide_type": ""
    },
    "tags": []
   },
   "source": [
    "Now [turn in the assignment](https://python-public-policy.afeld.me/en/columbia/assignments.html).\n",
    "\n",
    "## Tutorials\n",
    "\n",
    "In the videos below, don't get hung up on mentions of JavaScript, Node.js, or Twilio — those were technologies used for another course.\n",
    "\n",
    "1. Watch:\n",
    "   1. [What are APIs?](https://www.youtube.com/watch?v=OVvTv9Hy91Q)\n",
    "   1. [APIs, Conceptually](https://drive.google.com/file/d/10VCtYI5Im9MnvDcn4vnUeWbqztF77tyL/view?usp=sharing)\n",
    "1. Read [Understanding And Using REST APIs](https://www.smashingmagazine.com/2018/01/understanding-using-rest-api/)\n",
    "1. Watch:\n",
    "   1. [Let's look at some data](https://drive.google.com/file/d/10_2UPxa0ThWus47jKKeefGji5ZZmnr-e/view?usp=sharing)\n",
    "   1. [Data formats](https://drive.google.com/file/d/10dR1oMt7V-Hk75mkIpnguq70mukSz6OA/view?usp=sharing)\n",
    "   1. [API documentation](https://drive.google.com/file/d/10fOxW42-ODIgHlLgLCP_wklrxB8G4K3A/view?usp=sharing)\n",
    "1. Read [Python’s Requests Library (Guide)](https://realpython.com/python-requests/) through `The Message Body`\n",
    "\n",
    "## Participation\n",
    "\n",
    "Reminder about the [between-class participation requirement](https://python-public-policy.afeld.me/en/columbia/syllabus.html#participation)."
   ]
  }
 ],
 "metadata": {
  "kernelspec": {
   "display_name": "Python 3",
   "language": "python",
   "name": "python3"
  },
  "language_info": {
   "codemirror_mode": {
    "name": "ipython",
    "version": 3
   },
   "file_extension": ".py",
   "mimetype": "text/x-python",
   "name": "python",
   "nbconvert_exporter": "python",
   "pygments_lexer": "ipython3",
   "version": "3.11.11"
  }
 },
 "nbformat": 4,
 "nbformat_minor": 4
}
