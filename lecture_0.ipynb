{
 "cells": [
  {
   "cell_type": "markdown",
   "metadata": {
    "editable": true,
    "slideshow": {
     "slide_type": "skip"
    },
    "tags": []
   },
   "source": [
    "# Lecture 0: Intro to coding"
   ]
  },
  {
   "cell_type": "markdown",
   "metadata": {
    "slideshow": {
     "slide_type": "slide"
    }
   },
   "source": [
    "## NYU Wagner - Python Coding for Public Policy\n",
    "\n",
    "Aidan Feldman\n",
    "\n",
    "_Please sign attendance sheet_\n",
    "\n",
    "[![Snakes](./extras/img/snakes.png)](https://ifunny.co/picture/20sDBytiA)"
   ]
  },
  {
   "cell_type": "markdown",
   "metadata": {
    "editable": true,
    "slideshow": {
     "slide_type": "slide"
    },
    "tags": []
   },
   "source": [
    "## Structure for today\n",
    "\n",
    "1. Intros\n",
    "1. Intro to Python/code\n",
    "1. Going over course info like the syllabus"
   ]
  },
  {
   "cell_type": "markdown",
   "metadata": {
    "editable": true,
    "slideshow": {
     "slide_type": "slide"
    },
    "tags": []
   },
   "source": [
    "Each class, we'll take breaks roughly halfway through."
   ]
  },
  {
   "cell_type": "markdown",
   "metadata": {
    "slideshow": {
     "slide_type": "slide"
    }
   },
   "source": [
    "## About me\n",
    "\n",
    "- Coding since 2005 🖥\n",
    "- Government since 2014 🦅\n",
    "- Teaching since 2011 🎓\n",
    "- Also a modern dancer 💃 and cyclist 🚲"
   ]
  },
  {
   "cell_type": "markdown",
   "metadata": {
    "editable": true,
    "slideshow": {
     "slide_type": "subslide"
    },
    "tags": []
   },
   "source": [
    "### Day jobs\n",
    "\n",
    "Currently [freelancing](https://blog.afeld.me/know-any-teams-who-could-use-my-help-87a4247c51c1) with the [Colorado Behavioral Health Administration](https://bha.colorado.gov/). In the past, have worked for/with:\n",
    "\n",
    "- [Reinvent Albany](https://reinventalbany.org/)\n",
    "- NYC\n",
    "   - [Planning Labs](https://medium.com/nyc-planning-digital)\n",
    "   - [Office of Technology & Innovation (OTI)](https://www.nyc.gov/content/oti/pages/)\n",
    "- [California Department of Transportation (CalTrans)](https://dot.ca.gov/)\n",
    "- [General Services Administration (GSA)](https://www.gsa.gov/)\n",
    "   - [18F](https://18f.gsa.gov)\n",
    "   - [TTS](https://www.gsa.gov/about-us/organization/federal-acquisition-service/technology-transformation-services)\n",
    "- [Census xD](https://www.xd.gov/)\n",
    "- [Upsolve](https://upsolve.org/)\n",
    "- [GitHub](https://github.com/)\n",
    "- [Artsy](https://www.artsy.net/)"
   ]
  },
  {
   "cell_type": "markdown",
   "metadata": {
    "slideshow": {
     "slide_type": "slide"
    }
   },
   "source": [
    "## Access these slides\n",
    "\n",
    "You can get there through Brightspace."
   ]
  },
  {
   "cell_type": "markdown",
   "metadata": {
    "editable": true,
    "slideshow": {
     "slide_type": "slide"
    },
    "tags": []
   },
   "source": [
    "## [Survey](https://docs.google.com/forms/d/e/1FAIpQLSfZI-dMv1-AbZN1bGkfFfrTpWWas6AvIoKoYQuWoNu0uSxefQ/viewform?usp=header)"
   ]
  },
  {
   "cell_type": "markdown",
   "metadata": {
    "editable": true,
    "slideshow": {
     "slide_type": "subslide"
    },
    "tags": []
   },
   "source": [
    "> [This study] found that the modern language aptitude test was the strongest predictor of how quickly people would learn to code in Python … language aptitude explained 43 percent, fluid reasoning explained 12.8 percent, … and numeracy just 6 percent [of the variance].\n",
    "\n",
    "https://www.psychologytoday.com/us/blog/brain-waves/202003/learning-code-requires-language-skills-not-math"
   ]
  },
  {
   "cell_type": "markdown",
   "metadata": {
    "slideshow": {
     "slide_type": "fragment"
    }
   },
   "source": [
    "**In other words:** Being good at learning foreign languages is a better predictor for coding aptitude than being good at math."
   ]
  },
  {
   "cell_type": "markdown",
   "metadata": {
    "slideshow": {
     "slide_type": "slide"
    }
   },
   "source": [
    "## Disclaimers"
   ]
  },
  {
   "cell_type": "markdown",
   "metadata": {
    "slideshow": {
     "slide_type": "subslide"
    }
   },
   "source": [
    "### Me\n",
    "\n",
    "- Here to teach you to:\n",
    "   - Understand the power of code\n",
    "   - Not be afraid of code\n",
    "   - Do a lot with just a little code\n",
    "   - Troubleshoot\n",
    "   - Google stuff\n",
    "- Terrible memory\n",
    "   - Names\n",
    "- Not a statistician"
   ]
  },
  {
   "cell_type": "markdown",
   "metadata": {
    "slideshow": {
     "slide_type": "subslide"
    }
   },
   "source": [
    "### You\n",
    "\n",
    "- Are not going to:\n",
    "   - Be good at coding seven weeks in\n",
    "   - Understand everything the first time\n",
    "- Will want to throw your computer out a window at one or many points in the class\n",
    "   - Celebrate the little victories\n",
    "- Will get out of it what you put into it"
   ]
  },
  {
   "cell_type": "markdown",
   "metadata": {
    "editable": true,
    "slideshow": {
     "slide_type": "slide"
    },
    "tags": []
   },
   "source": [
    "## Spreadsheets vs. programming languages"
   ]
  },
  {
   "cell_type": "markdown",
   "metadata": {
    "slideshow": {
     "slide_type": "subslide"
    }
   },
   "source": [
    "What do you like about spreadsheets?"
   ]
  },
  {
   "cell_type": "markdown",
   "metadata": {
    "slideshow": {
     "slide_type": "subslide"
    }
   },
   "source": [
    "### Why spreadsheets\n",
    "\n",
    "- The easy stuff is easy\n",
    "- Lots of people know how to use them\n",
    "- Mostly just have to point, click, and scroll\n",
    "- Data and logic live together as one"
   ]
  },
  {
   "cell_type": "markdown",
   "metadata": {
    "slideshow": {
     "slide_type": "subslide"
    }
   },
   "source": [
    "### Why programming languages\n",
    "\n",
    "- Data and logic _don't_ live together\n",
    "   - Why might this matter?"
   ]
  },
  {
   "cell_type": "markdown",
   "metadata": {
    "slideshow": {
     "slide_type": "fragment"
    }
   },
   "source": [
    "- More powerful, flexible, and expressive than spreadsheet formulas; don't have to cram into a single line\n",
    "\n",
    "   ```\n",
    "   =SUM(INDEX(C3:E9,MATCH(B13,C3:C9,0),MATCH(B14,C3:E3,0)))\n",
    "   ```\n",
    "\n",
    "- Better at working with large data\n",
    "   - [Google Sheets](https://support.google.com/drive/answer/37603) and [Excel](https://support.microsoft.com/en-us/office/excel-specifications-and-limits-1672b34d-7043-467e-8e27-269d656771c3) have hard limits at 1-5 million rows, but get slow long before that\n",
    "- Reusable code (packages)\n",
    "- Automation"
   ]
  },
  {
   "cell_type": "markdown",
   "metadata": {
    "editable": true,
    "slideshow": {
     "slide_type": "subslide"
    },
    "tags": []
   },
   "source": [
    "### Side-by-side<sup>1</sup>\n",
    "\n",
    "|                       Task |      Spreadsheets      | Programming Languages |\n",
    "| -------------------------: | :--------------------: | :-------------------: |\n",
    "|           **Loading data** |          Easy          |        Medium         |\n",
    "|           **Viewing data** |          Easy          |        Medium         |\n",
    "|         **Filtering data** |          Easy          |        Medium         |\n",
    "|      **Manipulating data** |         Medium         |        Medium         |\n",
    "|           **Joining data** |          Hard          |        Medium         |\n",
    "| **Complicated transforms** | Impossible<sup>2</sup> |        Medium         |\n",
    "|             **Automation** | Impossible<sup>2</sup> |        Medium         |\n",
    "|        **Making reusable** |   Limited<sup>3</sup>  |        Medium         |\n",
    "|         **Large datasets** |       Impossible       |         Hard          |\n",
    "\n",
    "1. These ratings are obviously subjective\n",
    "1. Not including scripting, including [Excel's new Python+pandas support](https://support.microsoft.com/en-us/office/introduction-to-python-in-excel-55643c2e-ff56-4168-b1ce-9428c8308545)\n",
    "1. [Google Sheets supports named functions](https://support.google.com/docs/answer/12504534)"
   ]
  },
  {
   "cell_type": "markdown",
   "metadata": {
    "slideshow": {
     "slide_type": "subslide"
    }
   },
   "source": [
    "### Python vs. other languages\n",
    "\n",
    "Why are you taking _this_ class instead of R or whatever else?\n",
    "\n",
    "![Python logo](https://upload.wikimedia.org/wikipedia/commons/thumb/c/c3/Python-logo-notext.svg/110px-Python-logo-notext.svg.png)"
   ]
  },
  {
   "cell_type": "markdown",
   "metadata": {
    "slideshow": {
     "slide_type": "subslide"
    }
   },
   "source": [
    "### Python vs. other languages\n",
    "\n",
    "- Good for general-purpose _and_ data stuff\n",
    "- Widely used in both industry and academia\n",
    "- Relatively easy to learn\n",
    "- Open source\n",
    "\n",
    "![Python logo](https://upload.wikimedia.org/wikipedia/commons/thumb/c/c3/Python-logo-notext.svg/110px-Python-logo-notext.svg.png)"
   ]
  },
  {
   "cell_type": "markdown",
   "metadata": {
    "slideshow": {
     "slide_type": "slide"
    }
   },
   "source": [
    "## What _is_ Python?"
   ]
  },
  {
   "cell_type": "markdown",
   "metadata": {
    "slideshow": {
     "slide_type": "fragment"
    }
   },
   "source": [
    "- A general-purpose programming language\n",
    "- Text that your computer understands\n",
    "    - Usually saved in a text file\n",
    "    - _This is true of most programming languages_\n",
    "- Popular for data analysis and data science"
   ]
  },
  {
   "cell_type": "markdown",
   "metadata": {
    "editable": true,
    "slideshow": {
     "slide_type": "subslide"
    },
    "tags": []
   },
   "source": [
    "### Where to Python\n",
    "\n",
    "Pyton can be run in:\n",
    "\n",
    "- A text file, using the `python` command\n",
    "- [The interactive Python interpreter / command prompt / shell](https://www.python.org/shell/)\n",
    "- A [Jupyter notebook](https://docs.jupyter.org/en/latest/#what-is-a-notebook)\n",
    "    - [Various other tools](https://python-public-policy.afeld.me/en/nyu/resources.html#jupyter-outside-this-course) are built around them\n",
    "    - What we'll be using for this class\n",
    "\n",
    "Each can be on your computer (\"local\"), or in the cloud somewhere."
   ]
  },
  {
   "cell_type": "markdown",
   "metadata": {
    "slideshow": {
     "slide_type": "subslide"
    }
   },
   "source": [
    "![Trinity using the command line in the Matrix](https://nmap.org/movies/matrix/trinity-nmapscreen-hd-crop-1200x728.jpg)"
   ]
  },
  {
   "cell_type": "markdown",
   "metadata": {
    "slideshow": {
     "slide_type": "subslide"
    }
   },
   "source": [
    "### Try it!\n",
    "\n",
    "1. Go to [python.org/shell](https://www.python.org/shell/)\n",
    "1. Do some math (after typing each line, press `Enter` to submit)\n",
    "    1. `1 + 1`\n",
    "    1. `10 / 4`\n",
    "    1. `10 / 3`\n",
    "    1. Calculate the number of minutes in a year"
   ]
  },
  {
   "cell_type": "markdown",
   "metadata": {
    "editable": true,
    "slideshow": {
     "slide_type": "fragment"
    },
    "tags": []
   },
   "source": [
    "### Try to break it!\n",
    "\n",
    "It's ok, you won't hurt it."
   ]
  },
  {
   "cell_type": "markdown",
   "metadata": {
    "slideshow": {
     "slide_type": "fragment"
    }
   },
   "source": [
    "What happened?"
   ]
  },
  {
   "cell_type": "markdown",
   "metadata": {
    "editable": true,
    "slideshow": {
     "slide_type": "slide"
    },
    "tags": []
   },
   "source": [
    "## Jupyter\n",
    "\n",
    "1. Go to [Google Colab](https://colab.research.google.com)\n",
    "1. Create a notebook.\n",
    "1. Paste in [the following example](https://plotly.com/python/linear-fits/#linear-fit-trendlines-with-plotly-express).\n",
    "1. Press the ▶️ button (or `Control`+`Enter` on your keyboard).\n",
    "\n",
    "```python\n",
    "import plotly.express as px\n",
    "\n",
    "df = px.data.tips()\n",
    "fig = px.scatter(df, x=\"total_bill\", y=\"tip\", trendline=\"ols\")\n",
    "fig.show()\n",
    "```  "
   ]
  },
  {
   "cell_type": "markdown",
   "metadata": {
    "editable": true,
    "slideshow": {
     "slide_type": "subslide"
    },
    "tags": []
   },
   "source": [
    "FYI `px.data.tips()` loads one of [Plotly's sample datasets](https://plotly.com/python-api-reference/generated/plotly.express.data.html). You don't need that when plotting other datasets."
   ]
  },
  {
   "cell_type": "markdown",
   "metadata": {
    "editable": true,
    "slideshow": {
     "slide_type": "subslide"
    },
    "tags": []
   },
   "source": [
    "- Web based programming environment\n",
    "- Supports Python by default, and other languages with plugins\n",
    "- Nicely displays output of your code so you can check and share the results\n",
    "- Avoids using the command line\n",
    "- Avoids installation problems across different computers and operating systems"
   ]
  },
  {
   "cell_type": "markdown",
   "metadata": {
    "editable": true,
    "slideshow": {
     "slide_type": ""
    },
    "tags": []
   },
   "source": [
    "We're using a service called [Google Colab](https://colab.research.google.com) for its Jupyter/notebook functionality."
   ]
  },
  {
   "cell_type": "markdown",
   "metadata": {
    "slideshow": {
     "slide_type": "subslide"
    }
   },
   "source": [
    "### Command line vs. Jupyter\n",
    "\n",
    "![Command line vs. Jupyter output](extras/img/cli_vs_jupyter.png)"
   ]
  },
  {
   "cell_type": "markdown",
   "metadata": {
    "slideshow": {
     "slide_type": "subslide"
    }
   },
   "source": [
    "### Jupyter basics\n",
    "\n",
    "A \"cell\" can be either code or [Markdown](https://www.markdownguide.org/getting-started/) (text). Raw Markdown looks like this:\n",
    "\n",
    "```\n",
    "## A heading\n",
    "\n",
    "Plain text\n",
    "\n",
    "[A link](https://somewhere.com)\n",
    "```"
   ]
  },
  {
   "cell_type": "markdown",
   "metadata": {
    "editable": true,
    "slideshow": {
     "slide_type": "subslide"
    },
    "tags": []
   },
   "source": [
    "#### Running\n",
    "\n",
    "- You \"run\" a cell by either:\n",
    "    - Pressing the ▶️ button\n",
    "    - Pressing `Control`+`Enter` on your keyboard\n",
    "- Cells don't run unless you tell them to, in the order you do so\n",
    "    - Generally, you want to do so from the top every time you open a notebook"
   ]
  },
  {
   "cell_type": "markdown",
   "metadata": {
    "editable": true,
    "slideshow": {
     "slide_type": "subslide"
    },
    "tags": []
   },
   "source": [
    "#### Output\n",
    "\n",
    "- The last thing in a code cell is what gets displayed when it's run\n",
    "- The output gets saved as part of the notebook\n",
    "- Just because there's existing output from a cell, doesn't mean that cell has been run during this session"
   ]
  },
  {
   "cell_type": "markdown",
   "metadata": {
    "editable": true,
    "slideshow": {
     "slide_type": "subslide"
    },
    "tags": []
   },
   "source": [
    "### [Opening a class notebook](https://python-public-policy.afeld.me/en/nyu/assignments.html#getting-started)"
   ]
  },
  {
   "cell_type": "markdown",
   "metadata": {
    "editable": true,
    "slideshow": {
     "slide_type": "subslide"
    },
    "tags": []
   },
   "source": [
    "Can use for:\n",
    "\n",
    "- Playing with examples\n",
    "- Taking notes"
   ]
  },
  {
   "cell_type": "markdown",
   "metadata": {
    "editable": true,
    "slideshow": {
     "slide_type": "subslide"
    },
    "tags": []
   },
   "source": [
    "### Computers are not smart.\n",
    "\n",
    "They do exactly what you tell them to do (not what you _meant_ them to do) in the order you tell them to do it."
   ]
  },
  {
   "cell_type": "markdown",
   "metadata": {
    "editable": true,
    "slideshow": {
     "slide_type": "slide"
    },
    "tags": []
   },
   "source": [
    "## Fundamental programming concepts"
   ]
  },
  {
   "cell_type": "markdown",
   "metadata": {
    "editable": true,
    "slideshow": {
     "slide_type": "subslide"
    },
    "tags": []
   },
   "source": [
    "### Objects\n",
    "\n",
    "- Jelly\n",
    "- Jar of peanut butter\n",
    "- Knife\n",
    "\n",
    "In code, they represent a \"thing\", which often has associated actions."
   ]
  },
  {
   "cell_type": "markdown",
   "metadata": {
    "editable": true,
    "slideshow": {
     "slide_type": "subslide"
    },
    "tags": []
   },
   "source": [
    "### Abstraction\n",
    "\n",
    "Verbs like:\n",
    "\n",
    "- \"Open\"\n",
    "- \"Spread\"\n",
    "\n",
    "In code, known as functions/methods, which hide the details of what's happening (the \"implementation\"). Similarly, \"the sandwich\" is an abstraction for an object, which contains other objects."
   ]
  },
  {
   "cell_type": "markdown",
   "metadata": {
    "editable": true,
    "slideshow": {
     "slide_type": "subslide"
    },
    "tags": []
   },
   "source": [
    "### Pronouns/nicknames\n",
    "\n",
    "- \"It\"\n",
    "- \"PB\"\n",
    "\n",
    "In code, known as variables."
   ]
  },
  {
   "cell_type": "markdown",
   "metadata": {
    "editable": true,
    "slideshow": {
     "slide_type": "subslide"
    },
    "tags": []
   },
   "source": [
    "- **Variables:**\n",
    "   - Statistics: [\"any characteristics, number, or quantity that can be measured or counted,\"](https://www.abs.gov.au/websitedbs/D3310114.nsf/home/statistical+language+-+what+are+variables) which we'll see as columns of tables\n",
    "   - Programming: Buckets for values\n",
    "- **Functions:** Buckets for code\n",
    "   - You'll learn more about these in the homework"
   ]
  },
  {
   "cell_type": "markdown",
   "metadata": {
    "editable": true,
    "slideshow": {
     "slide_type": "subslide"
    },
    "tags": []
   },
   "source": [
    "### Variables and functions\n",
    "\n",
    "- Make it possible to reuse the respective thing elsewhere\n",
    "- [Can be named _almost_ anything you want](https://realpython.com/python-variables/#variable-names)\n",
    "- Should have names that are meaningful, for readability"
   ]
  },
  {
   "cell_type": "markdown",
   "metadata": {
    "editable": true,
    "slideshow": {
     "slide_type": "slide"
    },
    "tags": []
   },
   "source": [
    "## Class materials walkthrough\n",
    "\n",
    "[Important links](https://python-public-policy.afeld.me/en/nyu/#important-links)"
   ]
  },
  {
   "cell_type": "markdown",
   "metadata": {
    "editable": true,
    "slideshow": {
     "slide_type": "slide"
    },
    "tags": []
   },
   "source": [
    "## Politics/protests/war"
   ]
  },
  {
   "cell_type": "markdown",
   "metadata": {
    "editable": true,
    "slideshow": {
     "slide_type": "slide"
    },
    "tags": []
   },
   "source": [
    "## Accomodations\n",
    "\n",
    "- Illness, childcare, mental health issues, etc.\n",
    "- Reach out via email"
   ]
  },
  {
   "cell_type": "markdown",
   "metadata": {
    "editable": true,
    "slideshow": {
     "slide_type": "slide"
    },
    "tags": []
   },
   "source": [
    "## [Homework 0](https://python-public-policy.afeld.me/en/nyu/hw_0.html)\n",
    "\n",
    "1. [Getting started](https://python-public-policy.afeld.me/en/nyu/assignments.html#getting-started)\n",
    "1. Walk through the assignment\n",
    "1. [Submission](https://python-public-policy.afeld.me/en/nyu/assignments.html#submission)"
   ]
  }
 ],
 "metadata": {
  "celltoolbar": "Slideshow",
  "file_extension": ".py",
  "kernelspec": {
   "display_name": "Python 3",
   "language": "python",
   "name": "python3"
  },
  "language_info": {
   "codemirror_mode": {
    "name": "ipython",
    "version": 3
   },
   "file_extension": ".py",
   "mimetype": "text/x-python",
   "name": "python",
   "nbconvert_exporter": "python",
   "pygments_lexer": "ipython3",
   "version": "3.12.12"
  },
  "mimetype": "text/x-python",
  "name": "python",
  "npconvert_exporter": "python",
  "pygments_lexer": "ipython3",
  "version": 3
 },
 "nbformat": 4,
 "nbformat_minor": 4
}
