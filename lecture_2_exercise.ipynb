{
 "cells": [
  {
   "cell_type": "markdown",
   "metadata": {
    "editable": true,
    "slideshow": {
     "slide_type": ""
    },
    "tags": []
   },
   "source": [
    "# Lecture 2 in-class exercise\n",
    "\n",
    "1. [Make a copy of this notebook.](https://python-public-policy.afeld.me/en/{{school_slug}}/assignments.html#getting-started)\n",
    "1. Find a dataset that seems interesting on the [NYC Open Data Portal](https://opendata.cityofnewyork.us/).\n",
    "    - Find something in a tabular format rather than a map, etc.\n",
    "    - Don't spend long on this.\n",
    "1. If the dataset is large (say, over 10,000 rows), [make it smaller](https://python-public-policy.afeld.me/en/{{school_slug}}/assignments/open_ended.html#reducing-data-size) in some way.\n",
    "1. [Upload the file and read it in with pandas.](https://python-public-policy.afeld.me/en/{{school_slug}}/assignments/open_ended.html#storing-data)\n",
    "1. Display the data.\n",
    "1. Do a bit of [filtering in pandas](https://pandas.pydata.org/docs/user_guide/10min.html#boolean-indexing).\n",
    "    - Doesn't need to be done for data cleaning necessarily — any subset is fine.\n",
    "\n",
    "You're welcome to talk with your neighbors."
   ]
  },
  {
   "cell_type": "code",
   "execution_count": 1,
   "metadata": {
    "editable": true,
    "slideshow": {
     "slide_type": ""
    },
    "tags": [
     "solution"
    ]
   },
   "outputs": [],
   "source": [
    "# your code here"
   ]
  }
 ],
 "metadata": {
  "file_extension": ".py",
  "kernelspec": {
   "display_name": "Python 3 (ipykernel)",
   "language": "python",
   "name": "python3"
  },
  "language_info": {
   "codemirror_mode": {
    "name": "ipython",
    "version": 3
   },
   "file_extension": ".py",
   "mimetype": "text/x-python",
   "name": "python",
   "nbconvert_exporter": "python",
   "pygments_lexer": "ipython3",
   "version": "3.11.13"
  },
  "mimetype": "text/x-python",
  "name": "python",
  "npconvert_exporter": "python",
  "pygments_lexer": "ipython3",
  "toc": {
   "base_numbering": 1,
   "nav_menu": {},
   "number_sections": true,
   "sideBar": true,
   "skip_h1_title": false,
   "title_cell": "Table of Contents",
   "title_sidebar": "Contents",
   "toc_cell": false,
   "toc_position": {},
   "toc_section_display": true,
   "toc_window_display": false
  },
  "version": 3
 },
 "nbformat": 4,
 "nbformat_minor": 4
}
