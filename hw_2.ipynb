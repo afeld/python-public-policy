{
 "cells": [
  {
   "cell_type": "markdown",
   "metadata": {
    "editable": true,
    "slideshow": {
     "slide_type": ""
    },
    "tags": []
   },
   "source": [
    "# Homework 2\n",
    "\n",
    "_[General assignment information](https://python-public-policy.afeld.me/en/columbia/assignments.html)_"
   ]
  },
  {
   "cell_type": "markdown",
   "metadata": {},
   "source": [
    "## Tutorials\n",
    "\n",
    "- [`merge()`](https://pandas.pydata.org/docs/user_guide/merging.html#merge)\n",
    "- [How to manipulate textual data](https://pandas.pydata.org/docs/getting_started/intro_tutorials/10_text_data.html)\n",
    "- [How to create new columns derived from existing columns](https://pandas.pydata.org/docs/getting_started/intro_tutorials/05_add_columns.html)"
   ]
  },
  {
   "cell_type": "markdown",
   "metadata": {},
   "source": [
    "## Coding\n",
    "\n",
    "The goal here is to practice joining datasets through pandas. Hint: The instructions here are intentionally incomplete."
   ]
  },
  {
   "cell_type": "markdown",
   "metadata": {
    "editable": true,
    "slideshow": {
     "slide_type": ""
    },
    "tags": []
   },
   "source": [
    "### Step 0\n",
    "\n",
    "Find an NYC dataset with a borough column.\n",
    "\n",
    "- Use [Scout](https://scout.tsdataclinic.com/explore/NYC) to filter by column name.\n",
    "- Don't spend too long on this step.\n",
    "- [Keep the dataset small](https://python-public-policy.afeld.me/en/columbia/assignments/open_ended.html#reducing-data-size) (under 500,000-ish rows) to make it easier to work with."
   ]
  },
  {
   "cell_type": "markdown",
   "metadata": {
    "editable": true,
    "slideshow": {
     "slide_type": ""
    },
    "tags": []
   },
   "source": [
    "**What's the URL of your dataset?**"
   ]
  },
  {
   "cell_type": "markdown",
   "metadata": {
    "editable": true,
    "slideshow": {
     "slide_type": ""
    },
    "tags": [
     "solution"
    ]
   },
   "source": [
    "YOUR RESPONSE HERE"
   ]
  },
  {
   "cell_type": "markdown",
   "metadata": {
    "editable": true,
    "slideshow": {
     "slide_type": ""
    },
    "tags": []
   },
   "source": [
    "### Step 1\n",
    "\n",
    "[Load it into Jupyter.](https://python-public-policy.afeld.me/en/columbia/assignments/open_ended.html#storing-data)"
   ]
  },
  {
   "cell_type": "code",
   "execution_count": null,
   "metadata": {
    "tags": [
     "solution"
    ]
   },
   "outputs": [],
   "source": [
    "# your code here"
   ]
  },
  {
   "cell_type": "markdown",
   "metadata": {
    "editable": true,
    "slideshow": {
     "slide_type": ""
    },
    "tags": []
   },
   "source": [
    "### Step 2\n",
    "\n",
    "Open the [Population by Borough](https://data.cityofnewyork.us/City-Government/New-York-City-Population-by-Borough-1950-2040/xywu-7bv9) dataset and [load it into Jupyter](https://python-public-policy.afeld.me/en/columbia/assignments/open_ended.html#storing-data)."
   ]
  },
  {
   "cell_type": "code",
   "execution_count": null,
   "metadata": {
    "tags": [
     "solution"
    ]
   },
   "outputs": [],
   "source": [
    "# your code here"
   ]
  },
  {
   "cell_type": "markdown",
   "metadata": {
    "editable": true,
    "slideshow": {
     "slide_type": ""
    },
    "tags": []
   },
   "source": [
    "### Step 3\n",
    "\n",
    "Use [`merge()`](https://pandas.pydata.org/docs/user_guide/merging.html#merge) to combine the two, and output the resulting table."
   ]
  },
  {
   "cell_type": "code",
   "execution_count": null,
   "metadata": {
    "tags": [
     "solution"
    ]
   },
   "outputs": [],
   "source": [
    "# your code here"
   ]
  },
  {
   "cell_type": "markdown",
   "metadata": {},
   "source": [
    "<details>\n",
    "<summary><strong>Hint</strong></summary>\n",
    "Having trouble merging the datasets? Try looking at the unique values in the columns you're trying to merge on.\n",
    "</details>"
   ]
  },
  {
   "cell_type": "markdown",
   "metadata": {
    "editable": true,
    "slideshow": {
     "slide_type": ""
    },
    "tags": []
   },
   "source": [
    "### Step 4\n",
    "\n",
    "Using the two datasets above, use pandas to produce an aggregate per-capita statistic by borough.\n",
    "\n",
    "The dataset you chose before may not work for this. That's fine, pick another.\n",
    "\n",
    "<details>\n",
    "<summary><strong>Hint</strong></summary>\n",
    "You're creating a \"number of [thing] per capita by borough\" table.\n",
    "\n",
    "1. Do a [`groupby()`](https://pandas.pydata.org/docs/user_guide/groupby.html) on the original dataset.\n",
    "1. Join with the populations by borough.\n",
    "1. Compute the per-capita values as a new column.\n",
    "</details>"
   ]
  },
  {
   "cell_type": "code",
   "execution_count": null,
   "metadata": {
    "tags": [
     "solution"
    ]
   },
   "outputs": [],
   "source": [
    "# your code here"
   ]
  },
  {
   "cell_type": "markdown",
   "metadata": {},
   "source": [
    "Now [turn in the assignment](https://python-public-policy.afeld.me/en/columbia/assignments.html).\n",
    "\n",
    "## Tutorials\n",
    "\n",
    "- [Pythonic Data Cleaning With Pandas and NumPy](https://realpython.com/python-data-cleaning-numpy-pandas/)\n",
    "- [\"You’re Not Mapping Rats, You're Mapping Gentrification\"](https://deadspin.com/you-re-not-mapping-rats-you-re-mapping-gentrification-1835005060/) — article about bias in 311 data\n",
    "- [The Spatial Data Equity Tool](https://medium.com/@urban_institute/introducing-a-spatial-equity-data-tool-b959c40298cf)\n",
    "- [Intro to Plotly Express](https://plotly.com/python/plotly-express/). You don't have to work through every one of these examples; just review to get familiar with what types of charts are possible.\n",
    "\n",
    "### Optional\n",
    "\n",
    "- [Truthy vs Falsy Values in Python](https://www.geeksforgeeks.org/truthy-vs-falsy-values-in-python/)\n",
    "- [Data Cleaning IS Analysis, Not Grunt Work](https://counting.substack.com/p/data-cleaning-is-analysis-not-grunt)\n",
    "- [Python Tools for Record Linkage](https://pbpython.com/record-linking.html)\n",
    "- [Reshaping and pivot tables](https://pandas.pydata.org/pandas-docs/stable/user_guide/reshaping.html)\n",
    "- [How to reshape the layout of tables](https://pandas.pydata.org/pandas-docs/stable/getting_started/intro_tutorials/07_reshape_table_layout.html)\n",
    "\n",
    "## Participation\n",
    "\n",
    "Reminder about the [between-class participation requirement](https://python-public-policy.afeld.me/en/columbia/syllabus.html#participation)."
   ]
  }
 ],
 "metadata": {
  "file_extension": ".py",
  "kernelspec": {
   "display_name": "Python 3",
   "language": "python",
   "name": "python3"
  },
  "language_info": {
   "codemirror_mode": {
    "name": "ipython",
    "version": 3
   },
   "file_extension": ".py",
   "mimetype": "text/x-python",
   "name": "python",
   "nbconvert_exporter": "python",
   "pygments_lexer": "ipython3",
   "version": "3.11.11"
  },
  "mimetype": "text/x-python",
  "name": "python",
  "npconvert_exporter": "python",
  "pygments_lexer": "ipython3",
  "toc": {
   "base_numbering": 1,
   "nav_menu": {},
   "number_sections": true,
   "sideBar": true,
   "skip_h1_title": false,
   "title_cell": "Table of Contents",
   "title_sidebar": "Contents",
   "toc_cell": false,
   "toc_position": {},
   "toc_section_display": true,
   "toc_window_display": false
  },
  "version": 3
 },
 "nbformat": 4,
 "nbformat_minor": 4
}
