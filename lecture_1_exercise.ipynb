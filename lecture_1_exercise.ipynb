{
 "cells": [
  {
   "cell_type": "markdown",
   "metadata": {
    "editable": true,
    "slideshow": {
     "slide_type": ""
    },
    "tags": []
   },
   "source": [
    "# Lecture 1 in-class exercise\n",
    "\n",
    "We'll be doing calculations on [2021 Yellow Taxi Trips](https://data.cityofnewyork.us/Transportation/2021-Yellow-Taxi-Trip-Data/m6nq-qud6) data. We'll live-code this together.\n",
    "\n",
    "## Step 0\n",
    "\n",
    "The data needs to available on the machine where Python is running in order to process it, so let's download from the NYC Open Data site directly:"
   ]
  },
  {
   "cell_type": "code",
   "execution_count": 1,
   "metadata": {},
   "outputs": [
    {
     "name": "stdout",
     "output_type": "stream",
     "text": [
      "2025-03-17 00:00:28 URL:https://data.cityofnewyork.us/resource/m6nq-qud6.csv [136065] -> \"2021_yellow_taxi_trips.csv\" [1]\r\n"
     ]
    }
   ],
   "source": [
    "!wget -O 2021_yellow_taxi_trips.csv --no-verbose https://data.cityofnewyork.us/resource/m6nq-qud6.csv"
   ]
  },
  {
   "cell_type": "markdown",
   "metadata": {},
   "source": [
    "This is using a command-line program to do the downloading. We'll download data ourselves manually later. Look at the files in the current directory:"
   ]
  },
  {
   "cell_type": "code",
   "execution_count": 2,
   "metadata": {},
   "outputs": [
    {
     "name": "stdout",
     "output_type": "stream",
     "text": [
      "2021_yellow_taxi_trips.csv          lecture_1_exercise.ipynb\r\n",
      "LICENSE.md                          lecture_1_exercise_solution.ipynb\r\n",
      "Makefile                            lecture_2.ipynb\r\n",
      "\u001b[1m\u001b[36m__pycache__\u001b[m\u001b[m                         lecture_2.slides.html\r\n",
      "\u001b[1m\u001b[36m_build\u001b[m\u001b[m                              lecture_2_exercise.ipynb\r\n",
      "_config.yml                         lecture_2_exercise_2_solution.ipynb\r\n",
      "\u001b[1m\u001b[36m_static\u001b[m\u001b[m                             lecture_3.ipynb\r\n",
      "_toc.yml                            lecture_3.slides.html\r\n",
      "\u001b[1m\u001b[36massignments\u001b[m\u001b[m                         lecture_3_exercise_solution.ipynb\r\n",
      "assignments.md                      lecture_4.ipynb\r\n",
      "attendance.csv                      lecture_4.slides.html\r\n",
      "conf.py                             lecture_5.ipynb\r\n",
      "curve.ipynb                         lecture_5.slides.html\r\n",
      "\u001b[35mdata\u001b[m\u001b[m                                lecture_5_exercise_solution.ipynb\r\n",
      "\u001b[1m\u001b[36mextras\u001b[m\u001b[m                              lecture_6.ipynb\r\n",
      "\u001b[1m\u001b[36mfinal_project\u001b[m\u001b[m                       lecture_6.slides.html\r\n",
      "final_project.md                    lectures.md\r\n",
      "home.md                             \u001b[1m\u001b[36mmeta\u001b[m\u001b[m\r\n",
      "hw_0.ipynb                          meta.md\r\n",
      "hw_1.md                             nbdime_config.json\r\n",
      "hw_2.ipynb                          pyproject.toml\r\n",
      "hw_3.ipynb                          registration.md\r\n",
      "hw_4.ipynb                          resources.md\r\n",
      "index.md                            \u001b[1m\u001b[36mresults\u001b[m\u001b[m\r\n",
      "joining_late.md                     simple.html\r\n",
      "lecture_0.ipynb                     simple.ipynb\r\n",
      "lecture_0.slides.html               \u001b[35msolutions\u001b[m\u001b[m\r\n",
      "lecture_1.ipynb                     syllabus.md\r\n",
      "lecture_1.slides.html               \u001b[1m\u001b[36mtmp\u001b[m\u001b[m\r\n"
     ]
    }
   ],
   "source": [
    "!ls"
   ]
  },
  {
   "cell_type": "markdown",
   "metadata": {},
   "source": [
    "You should see `2021_yellow_taxi_trips.csv` there."
   ]
  },
  {
   "cell_type": "markdown",
   "metadata": {},
   "source": [
    "## Step 1\n",
    "\n",
    "Print out the trip distances."
   ]
  },
  {
   "cell_type": "code",
   "execution_count": 3,
   "metadata": {},
   "outputs": [],
   "source": [
    "# your code here"
   ]
  },
  {
   "cell_type": "markdown",
   "metadata": {},
   "source": [
    "## Step 2\n",
    "\n",
    "Calculate the average ride distance."
   ]
  },
  {
   "cell_type": "code",
   "execution_count": 4,
   "metadata": {},
   "outputs": [],
   "source": [
    "# your code here"
   ]
  },
  {
   "cell_type": "markdown",
   "metadata": {
    "editable": true,
    "slideshow": {
     "slide_type": ""
    },
    "tags": []
   },
   "source": [
    "## Step 3\n",
    "\n",
    "Your turn! Calculate the percent of trips that were paid for by credit card.\n",
    "\n",
    "- The data dictionary will be helpful - see the Attachment on [the dataset page](https://data.cityofnewyork.us/Transportation/2021-Yellow-Taxi-Trip-Data/m6nq-qud6).\n",
    "- You're welcome to talk with your neighbors."
   ]
  },
  {
   "cell_type": "code",
   "execution_count": 5,
   "metadata": {
    "editable": true,
    "slideshow": {
     "slide_type": ""
    },
    "tags": []
   },
   "outputs": [],
   "source": [
    "# your code here"
   ]
  }
 ],
 "metadata": {
  "file_extension": ".py",
  "kernelspec": {
   "display_name": "Python [conda env:python-public-policy] *",
   "language": "python",
   "name": "conda-env-python-public-policy-py"
  },
  "language_info": {
   "codemirror_mode": {
    "name": "ipython",
    "version": 3
   },
   "file_extension": ".py",
   "mimetype": "text/x-python",
   "name": "python",
   "nbconvert_exporter": "python",
   "pygments_lexer": "ipython3",
   "version": "3.11.11"
  },
  "mimetype": "text/x-python",
  "name": "python",
  "npconvert_exporter": "python",
  "pygments_lexer": "ipython3",
  "version": 3
 },
 "nbformat": 4,
 "nbformat_minor": 4
}
