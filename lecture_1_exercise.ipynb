{
 "cells": [
  {
   "cell_type": "markdown",
   "metadata": {
    "editable": true,
    "slideshow": {
     "slide_type": ""
    },
    "tags": []
   },
   "source": [
    "# Lecture 1 in-class exercise\n",
    "\n",
    "We'll be doing calculations on [2021 Yellow Taxi Trips](https://data.cityofnewyork.us/Transportation/2021-Yellow-Taxi-Trip-Data/m6nq-qud6) data. We'll live-code this together.\n",
    "\n",
    "## Step 0\n",
    "\n",
    "The data needs to available on the machine where Python is running in order to process it, so let's download from the NYC Open Data site directly:"
   ]
  },
  {
   "cell_type": "code",
   "execution_count": 1,
   "metadata": {},
   "outputs": [
    {
     "name": "stdout",
     "output_type": "stream",
     "text": [
      "2025-06-29 23:01:23 URL:https://data.cityofnewyork.us/resource/m6nq-qud6.csv [136065] -> \"2021_yellow_taxi_trips.csv\" [1]\r\n"
     ]
    }
   ],
   "source": [
    "!wget -O 2021_yellow_taxi_trips.csv --no-verbose https://data.cityofnewyork.us/resource/m6nq-qud6.csv"
   ]
  },
  {
   "cell_type": "markdown",
   "metadata": {},
   "source": [
    "This is using a command-line program to do the downloading. We'll download data ourselves manually later. Look at the files in the current directory:"
   ]
  },
  {
   "cell_type": "code",
   "execution_count": 2,
   "metadata": {},
   "outputs": [
    {
     "name": "stdout",
     "output_type": "stream",
     "text": [
      "\u001b[1m\u001b[36m__pycache__\u001b[m\u001b[m                         lecture_1.slides.html\r\n",
      "\u001b[1m\u001b[36m_build\u001b[m\u001b[m                              lecture_2_exercise_2_solution.ipynb\r\n",
      "_config.yml                         lecture_2_exercise.ipynb\r\n",
      "\u001b[1m\u001b[36m_static\u001b[m\u001b[m                             lecture_2_makeup.slides.html\r\n",
      "_toc.yml                            lecture_2.ipynb\r\n",
      "2021_yellow_taxi_trips.csv          lecture_2.slides.html\r\n",
      "\u001b[1m\u001b[36massignments\u001b[m\u001b[m                         lecture_3_demo_solution.ipynb\r\n",
      "assignments.md                      lecture_3_exercise_solution.ipynb\r\n",
      "attendance.csv                      lecture_3.ipynb\r\n",
      "brackets.ipynb                      lecture_3.slides.html\r\n",
      "conf.py                             lecture_4_demo_solution.ipynb\r\n",
      "curve.ipynb                         lecture_4.ipynb\r\n",
      "\u001b[35mdata\u001b[m\u001b[m                                lecture_4.slides.html\r\n",
      "\u001b[1m\u001b[36mextras\u001b[m\u001b[m                              lecture_5_exercise_solution.ipynb\r\n",
      "\u001b[1m\u001b[36mfinal_project\u001b[m\u001b[m                       lecture_5.ipynb\r\n",
      "final_project.md                    lecture_5.slides.html\r\n",
      "home.md                             lecture_6.ipynb\r\n",
      "hw_0.ipynb                          lecture_6.slides.html\r\n",
      "hw_1.md                             lectures.md\r\n",
      "hw_2.ipynb                          LICENSE.md\r\n",
      "hw_3.ipynb                          Makefile\r\n",
      "hw_4.md                             \u001b[1m\u001b[36mmeta\u001b[m\u001b[m\r\n",
      "index.md                            meta.md\r\n",
      "joining_late.md                     nbdime_config.json\r\n",
      "lecture_0.ipynb                     pyproject.toml\r\n",
      "lecture_0.slides.html               registration.md\r\n",
      "lecture_1_demo_solution.ipynb       resources.md\r\n",
      "lecture_1_exercise_solution.ipynb   \u001b[35msolutions\u001b[m\u001b[m\r\n",
      "lecture_1_exercise.ipynb            syllabus.md\r\n",
      "lecture_1.ipynb                     \u001b[1m\u001b[36mtmp\u001b[m\u001b[m\r\n"
     ]
    }
   ],
   "source": [
    "!ls"
   ]
  },
  {
   "cell_type": "markdown",
   "metadata": {},
   "source": [
    "You should see `2021_yellow_taxi_trips.csv` there."
   ]
  },
  {
   "cell_type": "markdown",
   "metadata": {},
   "source": [
    "## Step 1\n",
    "\n",
    "Print out the trip distances."
   ]
  },
  {
   "cell_type": "code",
   "execution_count": 3,
   "metadata": {},
   "outputs": [],
   "source": [
    "# your code here"
   ]
  },
  {
   "cell_type": "markdown",
   "metadata": {},
   "source": [
    "## Step 2\n",
    "\n",
    "Calculate the average ride distance."
   ]
  },
  {
   "cell_type": "code",
   "execution_count": 4,
   "metadata": {},
   "outputs": [],
   "source": [
    "# your code here"
   ]
  },
  {
   "cell_type": "markdown",
   "metadata": {
    "editable": true,
    "slideshow": {
     "slide_type": ""
    },
    "tags": []
   },
   "source": [
    "## Step 3\n",
    "\n",
    "Your turn! Calculate the percent of trips that were paid for by credit card.\n",
    "\n",
    "- The data dictionary will be helpful - see the Attachment on [the dataset page](https://data.cityofnewyork.us/Transportation/2021-Yellow-Taxi-Trip-Data/m6nq-qud6).\n",
    "- You're welcome to talk with your neighbors."
   ]
  },
  {
   "cell_type": "code",
   "execution_count": 5,
   "metadata": {
    "editable": true,
    "slideshow": {
     "slide_type": ""
    },
    "tags": []
   },
   "outputs": [],
   "source": [
    "# your code here"
   ]
  }
 ],
 "metadata": {
  "file_extension": ".py",
  "kernelspec": {
   "display_name": "Python 3",
   "language": "python",
   "name": "python3"
  },
  "language_info": {
   "codemirror_mode": {
    "name": "ipython",
    "version": 3
   },
   "file_extension": ".py",
   "mimetype": "text/x-python",
   "name": "python",
   "nbconvert_exporter": "python",
   "pygments_lexer": "ipython3",
   "version": "3.11.13"
  },
  "mimetype": "text/x-python",
  "name": "python",
  "npconvert_exporter": "python",
  "pygments_lexer": "ipython3",
  "version": 3
 },
 "nbformat": 4,
 "nbformat_minor": 4
}
