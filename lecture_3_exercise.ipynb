{
 "cells": [
  {
   "cell_type": "markdown",
   "metadata": {
    "editable": true,
    "slideshow": {
     "slide_type": ""
    },
    "tags": []
   },
   "source": [
    "# Lecture 3 in-class exercise"
   ]
  },
  {
   "cell_type": "markdown",
   "metadata": {},
   "source": [
    "## Step 0\n",
    "\n",
    "Load the requests per capita dataset from https://storage.googleapis.com/python-public-policy2/data/311_community_districts.csv.zip."
   ]
  },
  {
   "cell_type": "code",
   "execution_count": 1,
   "metadata": {
    "execution": {
     "iopub.execute_input": "2025-01-18T15:52:53.790161Z",
     "iopub.status.busy": "2025-01-18T15:52:53.789912Z",
     "iopub.status.idle": "2025-01-18T15:52:53.794885Z",
     "shell.execute_reply": "2025-01-18T15:52:53.794347Z"
    },
    "tags": [
     "solution"
    ]
   },
   "outputs": [],
   "source": [
    "# your code here"
   ]
  },
  {
   "cell_type": "markdown",
   "metadata": {},
   "source": [
    "## Step 1\n",
    "\n",
    "Make a [histogram](https://plotly.com/python/histograms/) of the requests per capita."
   ]
  },
  {
   "cell_type": "code",
   "execution_count": 2,
   "metadata": {
    "execution": {
     "iopub.execute_input": "2025-01-18T15:52:53.797402Z",
     "iopub.status.busy": "2025-01-18T15:52:53.797203Z",
     "iopub.status.idle": "2025-01-18T15:52:53.799511Z",
     "shell.execute_reply": "2025-01-18T15:52:53.799132Z"
    },
    "tags": [
     "solution"
    ]
   },
   "outputs": [],
   "source": [
    "# your code here"
   ]
  }
 ],
 "metadata": {
  "kernelspec": {
   "display_name": "Python [conda env:python-public-policy] *",
   "language": "python",
   "name": "conda-env-python-public-policy-py"
  },
  "language_info": {
   "codemirror_mode": {
    "name": "ipython",
    "version": 3
   },
   "file_extension": ".py",
   "mimetype": "text/x-python",
   "name": "python",
   "nbconvert_exporter": "python",
   "pygments_lexer": "ipython3",
   "version": "3.11.11"
  }
 },
 "nbformat": 4,
 "nbformat_minor": 4
}
