{
 "cells": [
  {
   "cell_type": "code",
   "execution_count": 1,
   "metadata": {
    "editable": true,
    "slideshow": {
     "slide_type": "skip"
    },
    "tags": []
   },
   "outputs": [],
   "source": [
    "# a bit of setup just for lecture; ignore me\n",
    "import numpy as np\n",
    "\n",
    "np.random.seed(5)"
   ]
  },
  {
   "cell_type": "markdown",
   "metadata": {
    "id": "SA9q8DQPL6oZ",
    "slideshow": {
     "slide_type": "slide"
    }
   },
   "source": [
    "# Lecture 1: Working with data\n",
    "\n",
    "_Please sign attendance sheet_"
   ]
  },
  {
   "cell_type": "markdown",
   "metadata": {
    "editable": true,
    "slideshow": {
     "slide_type": "slide"
    },
    "tags": []
   },
   "source": [
    "- How was the homework? 👍/👎\n",
    "- Questions?\n",
    "- Reminder about the [between-class participation](https://python-public-policy.afeld.me/en/columbia/syllabus.html#participation)"
   ]
  },
  {
   "cell_type": "markdown",
   "metadata": {
    "editable": true,
    "slideshow": {
     "slide_type": "slide"
    },
    "tags": [
     "columbia-only"
    ]
   },
   "source": [
    "## Additional programming concepts"
   ]
  },
  {
   "cell_type": "markdown",
   "metadata": {
    "editable": true,
    "slideshow": {
     "slide_type": "subslide"
    },
    "tags": [
     "columbia-only"
    ]
   },
   "source": [
    "### Functions\n",
    "\n",
    "- Functions == methods\n",
    "- Arguments == parameters\n",
    "\n",
    "For simplicity, we'll use them interchangeably."
   ]
  },
  {
   "cell_type": "markdown",
   "metadata": {
    "editable": true,
    "slideshow": {
     "slide_type": "subslide"
    },
    "tags": [
     "columbia-only"
    ]
   },
   "source": [
    "### Packages\n",
    "\n",
    "- a.k.a. \"libraries\"\n",
    "- Developers have create them to make code/functionality reusable and easily sharable\n",
    "- Software plugins that you `import`\n",
    "- Main packages we’ll use:\n",
    "    - `pandas`\n",
    "    - `plotly`"
   ]
  },
  {
   "cell_type": "markdown",
   "metadata": {
    "editable": true,
    "slideshow": {
     "slide_type": "subslide"
    },
    "tags": [
     "columbia-only"
    ]
   },
   "source": [
    "> A module is a file containing Python definitions and statements.\n",
    "\n",
    "https://docs.python.org/3/tutorial/modules.html"
   ]
  },
  {
   "cell_type": "markdown",
   "metadata": {
    "editable": true,
    "slideshow": {
     "slide_type": "slide"
    },
    "tags": [
     "columbia-only"
    ]
   },
   "source": [
    "## Working with files in Python\n",
    "\n",
    "We'll open the file, then read it row by row.\n",
    "\n",
    "```python\n",
    "# set up the file object\n",
    "with open(\"moby_dick.txt\") as file:\n",
    "    for line in file:\n",
    "        print(line)\n",
    "```"
   ]
  },
  {
   "cell_type": "markdown",
   "metadata": {
    "editable": true,
    "slideshow": {
     "slide_type": "slide"
    },
    "tags": []
   },
   "source": [
    "## Working with CSVs in pure Python\n",
    "\n",
    "We will use Python's CSV [DictReader](https://docs.python.org/3/library/csv.html#csv.DictReader). We'll open the file, parse it as a CSV, then operate row by row."
   ]
  },
  {
   "cell_type": "markdown",
   "metadata": {
    "editable": true,
    "slideshow": {
     "slide_type": "subslide"
    },
    "tags": []
   },
   "source": [
    "### Example\n",
    "\n",
    "```python\n",
    "import csv\n",
    "\n",
    "\n",
    "# set up the file object\n",
    "with open(\"people.csv\") as csvfile:\n",
    "    # set up the reader\n",
    "    reader = csv.DictReader(csvfile)\n",
    "    # loop through the rows\n",
    "    for row in reader:\n",
    "        # access the data in various columns\n",
    "        first = row[\"first_name\"]\n",
    "        last = row[\"last_name\"]\n",
    "\n",
    "        print(f\"{first} {last}\")\n",
    "```"
   ]
  },
  {
   "cell_type": "markdown",
   "metadata": {
    "editable": true,
    "slideshow": {
     "slide_type": "subslide"
    },
    "tags": []
   },
   "source": [
    "### [In-class exercise](https://python-public-policy.afeld.me/en/columbia/lecture_1_exercise.html)"
   ]
  },
  {
   "cell_type": "markdown",
   "metadata": {
    "editable": true,
    "slideshow": {
     "slide_type": "slide"
    },
    "tags": []
   },
   "source": [
    "## 311 requests\n",
    "\n",
    "Who's called 311 before?"
   ]
  },
  {
   "cell_type": "markdown",
   "metadata": {
    "editable": true,
    "slideshow": {
     "slide_type": "subslide"
    },
    "tags": []
   },
   "source": [
    "[NYC 311 homepage](https://portal.311.nyc.gov/)"
   ]
  },
  {
   "cell_type": "markdown",
   "metadata": {
    "editable": true,
    "slideshow": {
     "slide_type": "subslide"
    },
    "tags": []
   },
   "source": [
    "### [311 data](https://data.cityofnewyork.us/Social-Services/311-Service-Requests-from-2010-to-Present/erm2-nwe9)"
   ]
  },
  {
   "cell_type": "markdown",
   "metadata": {
    "editable": true,
    "id": "CRAqTQ2rbXAA",
    "slideshow": {
     "slide_type": "slide"
    },
    "tags": []
   },
   "source": [
    "## Today's goal\n",
    "\n",
    "- Which 311 complaints are most common?\n",
    "- Which agencies are responsible for handling them?"
   ]
  },
  {
   "cell_type": "markdown",
   "metadata": {
    "id": "9rvnMzjSMK36",
    "slideshow": {
     "slide_type": "slide"
    }
   },
   "source": [
    "## Pandas\n",
    "\n",
    "- A Python package (bundled up code that you can reuse)\n",
    "- Very common for data science in Python\n",
    "- [A lot like R](https://pandas.pydata.org/docs/getting_started/comparison/comparison_with_r.html)\n",
    "   - Both organize around \"data frames\""
   ]
  },
  {
   "cell_type": "markdown",
   "metadata": {
    "editable": true,
    "slideshow": {
     "slide_type": "subslide"
    },
    "tags": []
   },
   "source": [
    "### Start by importing necessary packages"
   ]
  },
  {
   "cell_type": "code",
   "execution_count": 2,
   "metadata": {
    "editable": true,
    "id": "Q4l2QosJLzP6",
    "slideshow": {
     "slide_type": ""
    },
    "tags": []
   },
   "outputs": [],
   "source": [
    "import pandas as pd"
   ]
  },
  {
   "cell_type": "markdown",
   "metadata": {
    "editable": true,
    "id": "R1G04BmMMFJb",
    "slideshow": {
     "slide_type": "subslide"
    },
    "tags": []
   },
   "source": [
    "### Read and save 311 Service Requests dataset as a pandas DataFrame\n",
    "\n",
    "We're using a sample to make it easier/faster to work with. This will take a while (~30 seconds)."
   ]
  },
  {
   "cell_type": "code",
   "execution_count": 3,
   "metadata": {
    "editable": true,
    "id": "iQgE8qFAMbiF",
    "slideshow": {
     "slide_type": ""
    },
    "tags": []
   },
   "outputs": [
    {
     "name": "stderr",
     "output_type": "stream",
     "text": [
      "/var/folders/kr/nx0m1j811kz5vy8c87ffchzr0000gn/T/ipykernel_81083/4056869583.py:1: DtypeWarning: Columns (8,20,31,34) have mixed types. Specify dtype option on import or set low_memory=False.\n",
      "  requests = pd.read_csv(\n"
     ]
    }
   ],
   "source": [
    "requests = pd.read_csv(\n",
    "    \"https://storage.googleapis.com/python-public-policy2/data/311_requests_2018-19_sample.csv.zip\"\n",
    ")"
   ]
  },
  {
   "cell_type": "markdown",
   "metadata": {},
   "source": [
    "Ignore the `DtypeWarning` for now; we'll come back to it."
   ]
  },
  {
   "cell_type": "markdown",
   "metadata": {
    "id": "MgQ0ykVeNFsF",
    "slideshow": {
     "slide_type": "slide"
    }
   },
   "source": [
    "## Preview the data contents"
   ]
  },
  {
   "cell_type": "code",
   "execution_count": 4,
   "metadata": {
    "id": "YdtFBy0Il7E7",
    "outputId": "7bb49293-60dd-4df6-e5df-1eec7f2343ce",
    "slideshow": {
     "slide_type": "subslide"
    }
   },
   "outputs": [
    {
     "data": {
      "text/html": [
       "<div>\n",
       "<style scoped>\n",
       "    .dataframe tbody tr th:only-of-type {\n",
       "        vertical-align: middle;\n",
       "    }\n",
       "\n",
       "    .dataframe tbody tr th {\n",
       "        vertical-align: top;\n",
       "    }\n",
       "\n",
       "    .dataframe thead th {\n",
       "        text-align: right;\n",
       "    }\n",
       "</style>\n",
       "<table border=\"1\" class=\"dataframe\">\n",
       "  <thead>\n",
       "    <tr style=\"text-align: right;\">\n",
       "      <th></th>\n",
       "      <th>Unique Key</th>\n",
       "      <th>Created Date</th>\n",
       "      <th>Closed Date</th>\n",
       "      <th>Agency</th>\n",
       "      <th>Agency Name</th>\n",
       "      <th>Complaint Type</th>\n",
       "      <th>Descriptor</th>\n",
       "      <th>Location Type</th>\n",
       "      <th>Incident Zip</th>\n",
       "      <th>Incident Address</th>\n",
       "      <th>...</th>\n",
       "      <th>Vehicle Type</th>\n",
       "      <th>Taxi Company Borough</th>\n",
       "      <th>Taxi Pick Up Location</th>\n",
       "      <th>Bridge Highway Name</th>\n",
       "      <th>Bridge Highway Direction</th>\n",
       "      <th>Road Ramp</th>\n",
       "      <th>Bridge Highway Segment</th>\n",
       "      <th>Latitude</th>\n",
       "      <th>Longitude</th>\n",
       "      <th>Location</th>\n",
       "    </tr>\n",
       "  </thead>\n",
       "  <tbody>\n",
       "    <tr>\n",
       "      <th>0</th>\n",
       "      <td>39885889</td>\n",
       "      <td>08/01/2018 12:05:13 AM</td>\n",
       "      <td>08/01/2018 12:05:13 AM</td>\n",
       "      <td>DOT</td>\n",
       "      <td>Department of Transportation</td>\n",
       "      <td>Street Condition</td>\n",
       "      <td>Pothole</td>\n",
       "      <td>NaN</td>\n",
       "      <td>11235</td>\n",
       "      <td>3143 SHORE PARKWAY</td>\n",
       "      <td>...</td>\n",
       "      <td>NaN</td>\n",
       "      <td>NaN</td>\n",
       "      <td>NaN</td>\n",
       "      <td>NaN</td>\n",
       "      <td>NaN</td>\n",
       "      <td>NaN</td>\n",
       "      <td>NaN</td>\n",
       "      <td>40.585156</td>\n",
       "      <td>-73.959119</td>\n",
       "      <td>(40.585155533520144, -73.95911915841708)</td>\n",
       "    </tr>\n",
       "    <tr>\n",
       "      <th>1</th>\n",
       "      <td>39886470</td>\n",
       "      <td>08/01/2018 12:06:05 AM</td>\n",
       "      <td>08/01/2018 12:06:05 AM</td>\n",
       "      <td>DOT</td>\n",
       "      <td>Department of Transportation</td>\n",
       "      <td>Street Condition</td>\n",
       "      <td>Pothole</td>\n",
       "      <td>NaN</td>\n",
       "      <td>11235</td>\n",
       "      <td>3153 SHORE PARKWAY</td>\n",
       "      <td>...</td>\n",
       "      <td>NaN</td>\n",
       "      <td>NaN</td>\n",
       "      <td>NaN</td>\n",
       "      <td>NaN</td>\n",
       "      <td>NaN</td>\n",
       "      <td>NaN</td>\n",
       "      <td>NaN</td>\n",
       "      <td>40.585218</td>\n",
       "      <td>-73.958608</td>\n",
       "      <td>(40.58521848090658, -73.95860788382927)</td>\n",
       "    </tr>\n",
       "    <tr>\n",
       "      <th>2</th>\n",
       "      <td>39893543</td>\n",
       "      <td>08/01/2018 12:06:16 AM</td>\n",
       "      <td>08/03/2018 02:03:55 PM</td>\n",
       "      <td>HPD</td>\n",
       "      <td>Department of Housing Preservation and Develop...</td>\n",
       "      <td>HEAT/HOT WATER</td>\n",
       "      <td>ENTIRE BUILDING</td>\n",
       "      <td>RESIDENTIAL BUILDING</td>\n",
       "      <td>11221</td>\n",
       "      <td>729 LAFAYETTE AVENUE</td>\n",
       "      <td>...</td>\n",
       "      <td>NaN</td>\n",
       "      <td>NaN</td>\n",
       "      <td>NaN</td>\n",
       "      <td>NaN</td>\n",
       "      <td>NaN</td>\n",
       "      <td>NaN</td>\n",
       "      <td>NaN</td>\n",
       "      <td>40.690733</td>\n",
       "      <td>-73.943964</td>\n",
       "      <td>(40.69073285353906, -73.943963521266)</td>\n",
       "    </tr>\n",
       "    <tr>\n",
       "      <th>3</th>\n",
       "      <td>39886233</td>\n",
       "      <td>08/01/2018 12:06:29 AM</td>\n",
       "      <td>08/01/2018 02:54:24 AM</td>\n",
       "      <td>NYPD</td>\n",
       "      <td>New York City Police Department</td>\n",
       "      <td>Noise - Residential</td>\n",
       "      <td>Banging/Pounding</td>\n",
       "      <td>Residential Building/House</td>\n",
       "      <td>11693</td>\n",
       "      <td>82-01 BEACH CHANNEL DRIVE</td>\n",
       "      <td>...</td>\n",
       "      <td>NaN</td>\n",
       "      <td>NaN</td>\n",
       "      <td>NaN</td>\n",
       "      <td>NaN</td>\n",
       "      <td>NaN</td>\n",
       "      <td>NaN</td>\n",
       "      <td>NaN</td>\n",
       "      <td>40.589931</td>\n",
       "      <td>-73.808896</td>\n",
       "      <td>(40.58993080750793, -73.80889570815852)</td>\n",
       "    </tr>\n",
       "    <tr>\n",
       "      <th>4</th>\n",
       "      <td>39880309</td>\n",
       "      <td>08/01/2018 12:06:51 AM</td>\n",
       "      <td>08/01/2018 04:54:26 AM</td>\n",
       "      <td>NYPD</td>\n",
       "      <td>New York City Police Department</td>\n",
       "      <td>Noise - Residential</td>\n",
       "      <td>Loud Music/Party</td>\n",
       "      <td>Residential Building/House</td>\n",
       "      <td>11216</td>\n",
       "      <td>64 HERKIMER STREET</td>\n",
       "      <td>...</td>\n",
       "      <td>NaN</td>\n",
       "      <td>NaN</td>\n",
       "      <td>NaN</td>\n",
       "      <td>NaN</td>\n",
       "      <td>NaN</td>\n",
       "      <td>NaN</td>\n",
       "      <td>NaN</td>\n",
       "      <td>40.679716</td>\n",
       "      <td>-73.951234</td>\n",
       "      <td>(40.67971590505359, -73.95123396494363)</td>\n",
       "    </tr>\n",
       "  </tbody>\n",
       "</table>\n",
       "<p>5 rows × 41 columns</p>\n",
       "</div>"
      ],
      "text/plain": [
       "   Unique Key            Created Date             Closed Date Agency  \\\n",
       "0    39885889  08/01/2018 12:05:13 AM  08/01/2018 12:05:13 AM    DOT   \n",
       "1    39886470  08/01/2018 12:06:05 AM  08/01/2018 12:06:05 AM    DOT   \n",
       "2    39893543  08/01/2018 12:06:16 AM  08/03/2018 02:03:55 PM    HPD   \n",
       "3    39886233  08/01/2018 12:06:29 AM  08/01/2018 02:54:24 AM   NYPD   \n",
       "4    39880309  08/01/2018 12:06:51 AM  08/01/2018 04:54:26 AM   NYPD   \n",
       "\n",
       "                                         Agency Name       Complaint Type  \\\n",
       "0                       Department of Transportation     Street Condition   \n",
       "1                       Department of Transportation     Street Condition   \n",
       "2  Department of Housing Preservation and Develop...       HEAT/HOT WATER   \n",
       "3                    New York City Police Department  Noise - Residential   \n",
       "4                    New York City Police Department  Noise - Residential   \n",
       "\n",
       "         Descriptor               Location Type Incident Zip  \\\n",
       "0           Pothole                         NaN        11235   \n",
       "1           Pothole                         NaN        11235   \n",
       "2   ENTIRE BUILDING        RESIDENTIAL BUILDING        11221   \n",
       "3  Banging/Pounding  Residential Building/House        11693   \n",
       "4  Loud Music/Party  Residential Building/House        11216   \n",
       "\n",
       "            Incident Address  ... Vehicle Type Taxi Company Borough  \\\n",
       "0         3143 SHORE PARKWAY  ...          NaN                  NaN   \n",
       "1         3153 SHORE PARKWAY  ...          NaN                  NaN   \n",
       "2       729 LAFAYETTE AVENUE  ...          NaN                  NaN   \n",
       "3  82-01 BEACH CHANNEL DRIVE  ...          NaN                  NaN   \n",
       "4         64 HERKIMER STREET  ...          NaN                  NaN   \n",
       "\n",
       "  Taxi Pick Up Location Bridge Highway Name Bridge Highway Direction  \\\n",
       "0                   NaN                 NaN                      NaN   \n",
       "1                   NaN                 NaN                      NaN   \n",
       "2                   NaN                 NaN                      NaN   \n",
       "3                   NaN                 NaN                      NaN   \n",
       "4                   NaN                 NaN                      NaN   \n",
       "\n",
       "  Road Ramp Bridge Highway Segment   Latitude  Longitude  \\\n",
       "0       NaN                    NaN  40.585156 -73.959119   \n",
       "1       NaN                    NaN  40.585218 -73.958608   \n",
       "2       NaN                    NaN  40.690733 -73.943964   \n",
       "3       NaN                    NaN  40.589931 -73.808896   \n",
       "4       NaN                    NaN  40.679716 -73.951234   \n",
       "\n",
       "                                   Location  \n",
       "0  (40.585155533520144, -73.95911915841708)  \n",
       "1   (40.58521848090658, -73.95860788382927)  \n",
       "2     (40.69073285353906, -73.943963521266)  \n",
       "3   (40.58993080750793, -73.80889570815852)  \n",
       "4   (40.67971590505359, -73.95123396494363)  \n",
       "\n",
       "[5 rows x 41 columns]"
      ]
     },
     "execution_count": 4,
     "metadata": {},
     "output_type": "execute_result"
    }
   ],
   "source": [
    "requests.head()  # defaults to providing the first 5 if you don't specify a number"
   ]
  },
  {
   "cell_type": "code",
   "execution_count": 5,
   "metadata": {
    "editable": true,
    "id": "WgDL8mn5MPTh",
    "outputId": "6fae2f9d-681d-454b-f80d-809df194e855",
    "scrolled": true,
    "slideshow": {
     "slide_type": "subslide"
    },
    "tags": []
   },
   "outputs": [
    {
     "data": {
      "text/html": [
       "<div>\n",
       "<style scoped>\n",
       "    .dataframe tbody tr th:only-of-type {\n",
       "        vertical-align: middle;\n",
       "    }\n",
       "\n",
       "    .dataframe tbody tr th {\n",
       "        vertical-align: top;\n",
       "    }\n",
       "\n",
       "    .dataframe thead th {\n",
       "        text-align: right;\n",
       "    }\n",
       "</style>\n",
       "<table border=\"1\" class=\"dataframe\">\n",
       "  <thead>\n",
       "    <tr style=\"text-align: right;\">\n",
       "      <th></th>\n",
       "      <th>Unique Key</th>\n",
       "      <th>Created Date</th>\n",
       "      <th>Closed Date</th>\n",
       "      <th>Agency</th>\n",
       "      <th>Agency Name</th>\n",
       "      <th>Complaint Type</th>\n",
       "      <th>Descriptor</th>\n",
       "      <th>Location Type</th>\n",
       "      <th>Incident Zip</th>\n",
       "      <th>Incident Address</th>\n",
       "      <th>...</th>\n",
       "      <th>Vehicle Type</th>\n",
       "      <th>Taxi Company Borough</th>\n",
       "      <th>Taxi Pick Up Location</th>\n",
       "      <th>Bridge Highway Name</th>\n",
       "      <th>Bridge Highway Direction</th>\n",
       "      <th>Road Ramp</th>\n",
       "      <th>Bridge Highway Segment</th>\n",
       "      <th>Latitude</th>\n",
       "      <th>Longitude</th>\n",
       "      <th>Location</th>\n",
       "    </tr>\n",
       "  </thead>\n",
       "  <tbody>\n",
       "    <tr>\n",
       "      <th>499990</th>\n",
       "      <td>43622247</td>\n",
       "      <td>08/24/2019 01:33:43 AM</td>\n",
       "      <td>NaN</td>\n",
       "      <td>NYPD</td>\n",
       "      <td>New York City Police Department</td>\n",
       "      <td>Noise - Residential</td>\n",
       "      <td>Loud Music/Party</td>\n",
       "      <td>Residential Building/House</td>\n",
       "      <td>11385.0</td>\n",
       "      <td>578 FAIRVIEW AVENUE</td>\n",
       "      <td>...</td>\n",
       "      <td>NaN</td>\n",
       "      <td>NaN</td>\n",
       "      <td>NaN</td>\n",
       "      <td>NaN</td>\n",
       "      <td>NaN</td>\n",
       "      <td>NaN</td>\n",
       "      <td>NaN</td>\n",
       "      <td>40.707576</td>\n",
       "      <td>-73.907325</td>\n",
       "      <td>(40.70757578135031, -73.90732527364065)</td>\n",
       "    </tr>\n",
       "    <tr>\n",
       "      <th>499991</th>\n",
       "      <td>43620877</td>\n",
       "      <td>08/24/2019 01:34:32 AM</td>\n",
       "      <td>NaN</td>\n",
       "      <td>NYPD</td>\n",
       "      <td>New York City Police Department</td>\n",
       "      <td>Noise - Residential</td>\n",
       "      <td>Loud Music/Party</td>\n",
       "      <td>Residential Building/House</td>\n",
       "      <td>11201.0</td>\n",
       "      <td>160 NAVY WALK</td>\n",
       "      <td>...</td>\n",
       "      <td>NaN</td>\n",
       "      <td>NaN</td>\n",
       "      <td>NaN</td>\n",
       "      <td>NaN</td>\n",
       "      <td>NaN</td>\n",
       "      <td>NaN</td>\n",
       "      <td>NaN</td>\n",
       "      <td>40.693967</td>\n",
       "      <td>-73.980210</td>\n",
       "      <td>(40.6939671536727, -73.98020958205214)</td>\n",
       "    </tr>\n",
       "    <tr>\n",
       "      <th>499992</th>\n",
       "      <td>43619232</td>\n",
       "      <td>08/24/2019 01:38:44 AM</td>\n",
       "      <td>NaN</td>\n",
       "      <td>NYPD</td>\n",
       "      <td>New York City Police Department</td>\n",
       "      <td>Noise - Street/Sidewalk</td>\n",
       "      <td>Loud Music/Party</td>\n",
       "      <td>Street/Sidewalk</td>\n",
       "      <td>11238.0</td>\n",
       "      <td>981 DEAN STREET</td>\n",
       "      <td>...</td>\n",
       "      <td>NaN</td>\n",
       "      <td>NaN</td>\n",
       "      <td>NaN</td>\n",
       "      <td>NaN</td>\n",
       "      <td>NaN</td>\n",
       "      <td>NaN</td>\n",
       "      <td>NaN</td>\n",
       "      <td>40.678030</td>\n",
       "      <td>-73.957620</td>\n",
       "      <td>(40.67803039848778, -73.95762012074778)</td>\n",
       "    </tr>\n",
       "    <tr>\n",
       "      <th>499993</th>\n",
       "      <td>43626613</td>\n",
       "      <td>08/24/2019 01:43:57 AM</td>\n",
       "      <td>NaN</td>\n",
       "      <td>NYPD</td>\n",
       "      <td>New York City Police Department</td>\n",
       "      <td>Noise - Street/Sidewalk</td>\n",
       "      <td>Loud Talking</td>\n",
       "      <td>Street/Sidewalk</td>\n",
       "      <td>10023.0</td>\n",
       "      <td>WEST   65 STREET</td>\n",
       "      <td>...</td>\n",
       "      <td>NaN</td>\n",
       "      <td>NaN</td>\n",
       "      <td>NaN</td>\n",
       "      <td>NaN</td>\n",
       "      <td>NaN</td>\n",
       "      <td>NaN</td>\n",
       "      <td>NaN</td>\n",
       "      <td>40.775372</td>\n",
       "      <td>-73.987710</td>\n",
       "      <td>(40.7753720958196, -73.98770974232366)</td>\n",
       "    </tr>\n",
       "    <tr>\n",
       "      <th>499994</th>\n",
       "      <td>43619756</td>\n",
       "      <td>08/24/2019 01:44:27 AM</td>\n",
       "      <td>NaN</td>\n",
       "      <td>NYPD</td>\n",
       "      <td>New York City Police Department</td>\n",
       "      <td>Noise - Residential</td>\n",
       "      <td>Loud Music/Party</td>\n",
       "      <td>Residential Building/House</td>\n",
       "      <td>11208.0</td>\n",
       "      <td>211 NICHOLS AVENUE</td>\n",
       "      <td>...</td>\n",
       "      <td>NaN</td>\n",
       "      <td>NaN</td>\n",
       "      <td>NaN</td>\n",
       "      <td>NaN</td>\n",
       "      <td>NaN</td>\n",
       "      <td>NaN</td>\n",
       "      <td>NaN</td>\n",
       "      <td>40.685495</td>\n",
       "      <td>-73.868876</td>\n",
       "      <td>(40.68549515215576, -73.8688762456483)</td>\n",
       "    </tr>\n",
       "    <tr>\n",
       "      <th>499995</th>\n",
       "      <td>43622302</td>\n",
       "      <td>08/24/2019 01:46:09 AM</td>\n",
       "      <td>NaN</td>\n",
       "      <td>NYPD</td>\n",
       "      <td>New York City Police Department</td>\n",
       "      <td>Noise - Residential</td>\n",
       "      <td>Loud Music/Party</td>\n",
       "      <td>Residential Building/House</td>\n",
       "      <td>10009.0</td>\n",
       "      <td>431 EAST    9 STREET</td>\n",
       "      <td>...</td>\n",
       "      <td>NaN</td>\n",
       "      <td>NaN</td>\n",
       "      <td>NaN</td>\n",
       "      <td>NaN</td>\n",
       "      <td>NaN</td>\n",
       "      <td>NaN</td>\n",
       "      <td>NaN</td>\n",
       "      <td>40.727536</td>\n",
       "      <td>-73.983295</td>\n",
       "      <td>(40.72753608835362, -73.98329522742081)</td>\n",
       "    </tr>\n",
       "    <tr>\n",
       "      <th>499996</th>\n",
       "      <td>43619709</td>\n",
       "      <td>08/24/2019 01:49:49 AM</td>\n",
       "      <td>NaN</td>\n",
       "      <td>NYPD</td>\n",
       "      <td>New York City Police Department</td>\n",
       "      <td>Noise - Residential</td>\n",
       "      <td>Loud Music/Party</td>\n",
       "      <td>Residential Building/House</td>\n",
       "      <td>10304.0</td>\n",
       "      <td>191 BROAD STREET</td>\n",
       "      <td>...</td>\n",
       "      <td>NaN</td>\n",
       "      <td>NaN</td>\n",
       "      <td>NaN</td>\n",
       "      <td>NaN</td>\n",
       "      <td>NaN</td>\n",
       "      <td>NaN</td>\n",
       "      <td>NaN</td>\n",
       "      <td>40.624157</td>\n",
       "      <td>-74.081006</td>\n",
       "      <td>(40.62415703282506, -74.08100614362155)</td>\n",
       "    </tr>\n",
       "    <tr>\n",
       "      <th>499997</th>\n",
       "      <td>43623124</td>\n",
       "      <td>08/24/2019 01:56:35 AM</td>\n",
       "      <td>NaN</td>\n",
       "      <td>NYPD</td>\n",
       "      <td>New York City Police Department</td>\n",
       "      <td>Noise - Street/Sidewalk</td>\n",
       "      <td>Loud Music/Party</td>\n",
       "      <td>Street/Sidewalk</td>\n",
       "      <td>10031.0</td>\n",
       "      <td>534 WEST  153 STREET</td>\n",
       "      <td>...</td>\n",
       "      <td>NaN</td>\n",
       "      <td>NaN</td>\n",
       "      <td>NaN</td>\n",
       "      <td>NaN</td>\n",
       "      <td>NaN</td>\n",
       "      <td>NaN</td>\n",
       "      <td>NaN</td>\n",
       "      <td>40.830718</td>\n",
       "      <td>-73.945006</td>\n",
       "      <td>(40.83071800761314, -73.94500557250639)</td>\n",
       "    </tr>\n",
       "    <tr>\n",
       "      <th>499998</th>\n",
       "      <td>43625595</td>\n",
       "      <td>08/24/2019 01:56:40 AM</td>\n",
       "      <td>NaN</td>\n",
       "      <td>NYPD</td>\n",
       "      <td>New York City Police Department</td>\n",
       "      <td>Noise - Commercial</td>\n",
       "      <td>Loud Music/Party</td>\n",
       "      <td>Club/Bar/Restaurant</td>\n",
       "      <td>10452.0</td>\n",
       "      <td>EAST  170 STREET</td>\n",
       "      <td>...</td>\n",
       "      <td>NaN</td>\n",
       "      <td>NaN</td>\n",
       "      <td>NaN</td>\n",
       "      <td>NaN</td>\n",
       "      <td>NaN</td>\n",
       "      <td>NaN</td>\n",
       "      <td>NaN</td>\n",
       "      <td>40.839882</td>\n",
       "      <td>-73.916783</td>\n",
       "      <td>(40.839882158779105, -73.91678321635897)</td>\n",
       "    </tr>\n",
       "    <tr>\n",
       "      <th>499999</th>\n",
       "      <td>43622817</td>\n",
       "      <td>08/24/2019 01:57:58 AM</td>\n",
       "      <td>NaN</td>\n",
       "      <td>NYPD</td>\n",
       "      <td>New York City Police Department</td>\n",
       "      <td>Noise - Commercial</td>\n",
       "      <td>Loud Music/Party</td>\n",
       "      <td>Store/Commercial</td>\n",
       "      <td>10033.0</td>\n",
       "      <td>247 AUDUBON AVENUE</td>\n",
       "      <td>...</td>\n",
       "      <td>NaN</td>\n",
       "      <td>NaN</td>\n",
       "      <td>NaN</td>\n",
       "      <td>NaN</td>\n",
       "      <td>NaN</td>\n",
       "      <td>NaN</td>\n",
       "      <td>NaN</td>\n",
       "      <td>40.846376</td>\n",
       "      <td>-73.934048</td>\n",
       "      <td>(40.84637632367179, -73.93404825809533)</td>\n",
       "    </tr>\n",
       "  </tbody>\n",
       "</table>\n",
       "<p>10 rows × 41 columns</p>\n",
       "</div>"
      ],
      "text/plain": [
       "        Unique Key            Created Date Closed Date Agency  \\\n",
       "499990    43622247  08/24/2019 01:33:43 AM         NaN   NYPD   \n",
       "499991    43620877  08/24/2019 01:34:32 AM         NaN   NYPD   \n",
       "499992    43619232  08/24/2019 01:38:44 AM         NaN   NYPD   \n",
       "499993    43626613  08/24/2019 01:43:57 AM         NaN   NYPD   \n",
       "499994    43619756  08/24/2019 01:44:27 AM         NaN   NYPD   \n",
       "499995    43622302  08/24/2019 01:46:09 AM         NaN   NYPD   \n",
       "499996    43619709  08/24/2019 01:49:49 AM         NaN   NYPD   \n",
       "499997    43623124  08/24/2019 01:56:35 AM         NaN   NYPD   \n",
       "499998    43625595  08/24/2019 01:56:40 AM         NaN   NYPD   \n",
       "499999    43622817  08/24/2019 01:57:58 AM         NaN   NYPD   \n",
       "\n",
       "                            Agency Name           Complaint Type  \\\n",
       "499990  New York City Police Department      Noise - Residential   \n",
       "499991  New York City Police Department      Noise - Residential   \n",
       "499992  New York City Police Department  Noise - Street/Sidewalk   \n",
       "499993  New York City Police Department  Noise - Street/Sidewalk   \n",
       "499994  New York City Police Department      Noise - Residential   \n",
       "499995  New York City Police Department      Noise - Residential   \n",
       "499996  New York City Police Department      Noise - Residential   \n",
       "499997  New York City Police Department  Noise - Street/Sidewalk   \n",
       "499998  New York City Police Department       Noise - Commercial   \n",
       "499999  New York City Police Department       Noise - Commercial   \n",
       "\n",
       "              Descriptor               Location Type Incident Zip  \\\n",
       "499990  Loud Music/Party  Residential Building/House      11385.0   \n",
       "499991  Loud Music/Party  Residential Building/House      11201.0   \n",
       "499992  Loud Music/Party             Street/Sidewalk      11238.0   \n",
       "499993      Loud Talking             Street/Sidewalk      10023.0   \n",
       "499994  Loud Music/Party  Residential Building/House      11208.0   \n",
       "499995  Loud Music/Party  Residential Building/House      10009.0   \n",
       "499996  Loud Music/Party  Residential Building/House      10304.0   \n",
       "499997  Loud Music/Party             Street/Sidewalk      10031.0   \n",
       "499998  Loud Music/Party         Club/Bar/Restaurant      10452.0   \n",
       "499999  Loud Music/Party            Store/Commercial      10033.0   \n",
       "\n",
       "            Incident Address  ... Vehicle Type Taxi Company Borough  \\\n",
       "499990   578 FAIRVIEW AVENUE  ...          NaN                  NaN   \n",
       "499991         160 NAVY WALK  ...          NaN                  NaN   \n",
       "499992       981 DEAN STREET  ...          NaN                  NaN   \n",
       "499993      WEST   65 STREET  ...          NaN                  NaN   \n",
       "499994    211 NICHOLS AVENUE  ...          NaN                  NaN   \n",
       "499995  431 EAST    9 STREET  ...          NaN                  NaN   \n",
       "499996      191 BROAD STREET  ...          NaN                  NaN   \n",
       "499997  534 WEST  153 STREET  ...          NaN                  NaN   \n",
       "499998      EAST  170 STREET  ...          NaN                  NaN   \n",
       "499999    247 AUDUBON AVENUE  ...          NaN                  NaN   \n",
       "\n",
       "       Taxi Pick Up Location Bridge Highway Name Bridge Highway Direction  \\\n",
       "499990                   NaN                 NaN                      NaN   \n",
       "499991                   NaN                 NaN                      NaN   \n",
       "499992                   NaN                 NaN                      NaN   \n",
       "499993                   NaN                 NaN                      NaN   \n",
       "499994                   NaN                 NaN                      NaN   \n",
       "499995                   NaN                 NaN                      NaN   \n",
       "499996                   NaN                 NaN                      NaN   \n",
       "499997                   NaN                 NaN                      NaN   \n",
       "499998                   NaN                 NaN                      NaN   \n",
       "499999                   NaN                 NaN                      NaN   \n",
       "\n",
       "       Road Ramp Bridge Highway Segment   Latitude  Longitude  \\\n",
       "499990       NaN                    NaN  40.707576 -73.907325   \n",
       "499991       NaN                    NaN  40.693967 -73.980210   \n",
       "499992       NaN                    NaN  40.678030 -73.957620   \n",
       "499993       NaN                    NaN  40.775372 -73.987710   \n",
       "499994       NaN                    NaN  40.685495 -73.868876   \n",
       "499995       NaN                    NaN  40.727536 -73.983295   \n",
       "499996       NaN                    NaN  40.624157 -74.081006   \n",
       "499997       NaN                    NaN  40.830718 -73.945006   \n",
       "499998       NaN                    NaN  40.839882 -73.916783   \n",
       "499999       NaN                    NaN  40.846376 -73.934048   \n",
       "\n",
       "                                        Location  \n",
       "499990   (40.70757578135031, -73.90732527364065)  \n",
       "499991    (40.6939671536727, -73.98020958205214)  \n",
       "499992   (40.67803039848778, -73.95762012074778)  \n",
       "499993    (40.7753720958196, -73.98770974232366)  \n",
       "499994    (40.68549515215576, -73.8688762456483)  \n",
       "499995   (40.72753608835362, -73.98329522742081)  \n",
       "499996   (40.62415703282506, -74.08100614362155)  \n",
       "499997   (40.83071800761314, -73.94500557250639)  \n",
       "499998  (40.839882158779105, -73.91678321635897)  \n",
       "499999   (40.84637632367179, -73.93404825809533)  \n",
       "\n",
       "[10 rows x 41 columns]"
      ]
     },
     "execution_count": 5,
     "metadata": {},
     "output_type": "execute_result"
    }
   ],
   "source": [
    "requests.tail(10)  # last 10 records in the DataFrame"
   ]
  },
  {
   "cell_type": "code",
   "execution_count": 6,
   "metadata": {
    "id": "eH6-z-3vM0QI",
    "outputId": "46ab7edf-2b18-43f2-8d83-f90f0cc91be3",
    "slideshow": {
     "slide_type": "subslide"
    }
   },
   "outputs": [
    {
     "data": {
      "text/html": [
       "<div>\n",
       "<style scoped>\n",
       "    .dataframe tbody tr th:only-of-type {\n",
       "        vertical-align: middle;\n",
       "    }\n",
       "\n",
       "    .dataframe tbody tr th {\n",
       "        vertical-align: top;\n",
       "    }\n",
       "\n",
       "    .dataframe thead th {\n",
       "        text-align: right;\n",
       "    }\n",
       "</style>\n",
       "<table border=\"1\" class=\"dataframe\">\n",
       "  <thead>\n",
       "    <tr style=\"text-align: right;\">\n",
       "      <th></th>\n",
       "      <th>Unique Key</th>\n",
       "      <th>Created Date</th>\n",
       "      <th>Closed Date</th>\n",
       "      <th>Agency</th>\n",
       "      <th>Agency Name</th>\n",
       "      <th>Complaint Type</th>\n",
       "      <th>Descriptor</th>\n",
       "      <th>Location Type</th>\n",
       "      <th>Incident Zip</th>\n",
       "      <th>Incident Address</th>\n",
       "      <th>...</th>\n",
       "      <th>Vehicle Type</th>\n",
       "      <th>Taxi Company Borough</th>\n",
       "      <th>Taxi Pick Up Location</th>\n",
       "      <th>Bridge Highway Name</th>\n",
       "      <th>Bridge Highway Direction</th>\n",
       "      <th>Road Ramp</th>\n",
       "      <th>Bridge Highway Segment</th>\n",
       "      <th>Latitude</th>\n",
       "      <th>Longitude</th>\n",
       "      <th>Location</th>\n",
       "    </tr>\n",
       "  </thead>\n",
       "  <tbody>\n",
       "    <tr>\n",
       "      <th>311150</th>\n",
       "      <td>42044618</td>\n",
       "      <td>03/25/2019 10:16:38 PM</td>\n",
       "      <td>03/25/2019 11:47:09 PM</td>\n",
       "      <td>NYPD</td>\n",
       "      <td>New York City Police Department</td>\n",
       "      <td>Noise - Residential</td>\n",
       "      <td>Loud Talking</td>\n",
       "      <td>Residential Building/House</td>\n",
       "      <td>10453.0</td>\n",
       "      <td>1800 POPHAM AVENUE</td>\n",
       "      <td>...</td>\n",
       "      <td>NaN</td>\n",
       "      <td>NaN</td>\n",
       "      <td>NaN</td>\n",
       "      <td>NaN</td>\n",
       "      <td>NaN</td>\n",
       "      <td>NaN</td>\n",
       "      <td>NaN</td>\n",
       "      <td>40.851389</td>\n",
       "      <td>-73.917651</td>\n",
       "      <td>(40.85138859491611, -73.91765079814148)</td>\n",
       "    </tr>\n",
       "    <tr>\n",
       "      <th>32142</th>\n",
       "      <td>40107788</td>\n",
       "      <td>08/25/2018 10:24:40 AM</td>\n",
       "      <td>08/25/2018 04:30:08 PM</td>\n",
       "      <td>NYPD</td>\n",
       "      <td>New York City Police Department</td>\n",
       "      <td>Blocked Driveway</td>\n",
       "      <td>No Access</td>\n",
       "      <td>Street/Sidewalk</td>\n",
       "      <td>11419.0</td>\n",
       "      <td>133-05 107 AVENUE</td>\n",
       "      <td>...</td>\n",
       "      <td>NaN</td>\n",
       "      <td>NaN</td>\n",
       "      <td>NaN</td>\n",
       "      <td>NaN</td>\n",
       "      <td>NaN</td>\n",
       "      <td>NaN</td>\n",
       "      <td>NaN</td>\n",
       "      <td>40.687721</td>\n",
       "      <td>-73.811536</td>\n",
       "      <td>(40.6877211401399, -73.8115361385404)</td>\n",
       "    </tr>\n",
       "    <tr>\n",
       "      <th>120849</th>\n",
       "      <td>40692417</td>\n",
       "      <td>10/29/2018 07:23:28 AM</td>\n",
       "      <td>11/01/2018 09:52:41 PM</td>\n",
       "      <td>HPD</td>\n",
       "      <td>Department of Housing Preservation and Develop...</td>\n",
       "      <td>HEAT/HOT WATER</td>\n",
       "      <td>APARTMENT ONLY</td>\n",
       "      <td>RESIDENTIAL BUILDING</td>\n",
       "      <td>10040</td>\n",
       "      <td>660 FT WASHINGTON AVENUE</td>\n",
       "      <td>...</td>\n",
       "      <td>NaN</td>\n",
       "      <td>NaN</td>\n",
       "      <td>NaN</td>\n",
       "      <td>NaN</td>\n",
       "      <td>NaN</td>\n",
       "      <td>NaN</td>\n",
       "      <td>NaN</td>\n",
       "      <td>40.856431</td>\n",
       "      <td>-73.936092</td>\n",
       "      <td>(40.856431325229096, -73.93609157070478)</td>\n",
       "    </tr>\n",
       "    <tr>\n",
       "      <th>471582</th>\n",
       "      <td>43386392</td>\n",
       "      <td>07/26/2019 11:17:21 PM</td>\n",
       "      <td>07/27/2019 02:36:26 AM</td>\n",
       "      <td>NYPD</td>\n",
       "      <td>New York City Police Department</td>\n",
       "      <td>Noise - Residential</td>\n",
       "      <td>Loud Music/Party</td>\n",
       "      <td>Residential Building/House</td>\n",
       "      <td>10303.0</td>\n",
       "      <td>351 HARBOR ROAD</td>\n",
       "      <td>...</td>\n",
       "      <td>NaN</td>\n",
       "      <td>NaN</td>\n",
       "      <td>NaN</td>\n",
       "      <td>NaN</td>\n",
       "      <td>NaN</td>\n",
       "      <td>NaN</td>\n",
       "      <td>NaN</td>\n",
       "      <td>40.627510</td>\n",
       "      <td>-74.160446</td>\n",
       "      <td>(40.62751009515846, -74.16044618563123)</td>\n",
       "    </tr>\n",
       "    <tr>\n",
       "      <th>455213</th>\n",
       "      <td>43253780</td>\n",
       "      <td>07/11/2019 03:23:28 PM</td>\n",
       "      <td>07/12/2019 11:25:43 AM</td>\n",
       "      <td>NYPD</td>\n",
       "      <td>New York City Police Department</td>\n",
       "      <td>Illegal Parking</td>\n",
       "      <td>Double Parked Blocking Traffic</td>\n",
       "      <td>Street/Sidewalk</td>\n",
       "      <td>11204.0</td>\n",
       "      <td>61 STREET</td>\n",
       "      <td>...</td>\n",
       "      <td>NaN</td>\n",
       "      <td>NaN</td>\n",
       "      <td>NaN</td>\n",
       "      <td>NaN</td>\n",
       "      <td>NaN</td>\n",
       "      <td>NaN</td>\n",
       "      <td>NaN</td>\n",
       "      <td>NaN</td>\n",
       "      <td>NaN</td>\n",
       "      <td>NaN</td>\n",
       "    </tr>\n",
       "  </tbody>\n",
       "</table>\n",
       "<p>5 rows × 41 columns</p>\n",
       "</div>"
      ],
      "text/plain": [
       "        Unique Key            Created Date             Closed Date Agency  \\\n",
       "311150    42044618  03/25/2019 10:16:38 PM  03/25/2019 11:47:09 PM   NYPD   \n",
       "32142     40107788  08/25/2018 10:24:40 AM  08/25/2018 04:30:08 PM   NYPD   \n",
       "120849    40692417  10/29/2018 07:23:28 AM  11/01/2018 09:52:41 PM    HPD   \n",
       "471582    43386392  07/26/2019 11:17:21 PM  07/27/2019 02:36:26 AM   NYPD   \n",
       "455213    43253780  07/11/2019 03:23:28 PM  07/12/2019 11:25:43 AM   NYPD   \n",
       "\n",
       "                                              Agency Name  \\\n",
       "311150                    New York City Police Department   \n",
       "32142                     New York City Police Department   \n",
       "120849  Department of Housing Preservation and Develop...   \n",
       "471582                    New York City Police Department   \n",
       "455213                    New York City Police Department   \n",
       "\n",
       "             Complaint Type                      Descriptor  \\\n",
       "311150  Noise - Residential                    Loud Talking   \n",
       "32142      Blocked Driveway                       No Access   \n",
       "120849       HEAT/HOT WATER                  APARTMENT ONLY   \n",
       "471582  Noise - Residential                Loud Music/Party   \n",
       "455213      Illegal Parking  Double Parked Blocking Traffic   \n",
       "\n",
       "                     Location Type Incident Zip          Incident Address  \\\n",
       "311150  Residential Building/House      10453.0        1800 POPHAM AVENUE   \n",
       "32142              Street/Sidewalk      11419.0         133-05 107 AVENUE   \n",
       "120849        RESIDENTIAL BUILDING        10040  660 FT WASHINGTON AVENUE   \n",
       "471582  Residential Building/House      10303.0           351 HARBOR ROAD   \n",
       "455213             Street/Sidewalk      11204.0                 61 STREET   \n",
       "\n",
       "        ... Vehicle Type Taxi Company Borough Taxi Pick Up Location  \\\n",
       "311150  ...          NaN                  NaN                   NaN   \n",
       "32142   ...          NaN                  NaN                   NaN   \n",
       "120849  ...          NaN                  NaN                   NaN   \n",
       "471582  ...          NaN                  NaN                   NaN   \n",
       "455213  ...          NaN                  NaN                   NaN   \n",
       "\n",
       "       Bridge Highway Name Bridge Highway Direction Road Ramp  \\\n",
       "311150                 NaN                      NaN       NaN   \n",
       "32142                  NaN                      NaN       NaN   \n",
       "120849                 NaN                      NaN       NaN   \n",
       "471582                 NaN                      NaN       NaN   \n",
       "455213                 NaN                      NaN       NaN   \n",
       "\n",
       "       Bridge Highway Segment   Latitude  Longitude  \\\n",
       "311150                    NaN  40.851389 -73.917651   \n",
       "32142                     NaN  40.687721 -73.811536   \n",
       "120849                    NaN  40.856431 -73.936092   \n",
       "471582                    NaN  40.627510 -74.160446   \n",
       "455213                    NaN        NaN        NaN   \n",
       "\n",
       "                                        Location  \n",
       "311150   (40.85138859491611, -73.91765079814148)  \n",
       "32142      (40.6877211401399, -73.8115361385404)  \n",
       "120849  (40.856431325229096, -73.93609157070478)  \n",
       "471582   (40.62751009515846, -74.16044618563123)  \n",
       "455213                                       NaN  \n",
       "\n",
       "[5 rows x 41 columns]"
      ]
     },
     "execution_count": 6,
     "metadata": {},
     "output_type": "execute_result"
    }
   ],
   "source": [
    "requests.sample(5)  # random sample of size determined by you"
   ]
  },
  {
   "cell_type": "markdown",
   "metadata": {
    "editable": true,
    "slideshow": {
     "slide_type": "slide"
    },
    "tags": []
   },
   "source": [
    "## Pandas data structures\n",
    "\n",
    "<!-- source: https://docs.google.com/document/d/1HGw2BdbuXSIwcgDWXkzZGPXYr5yJ_WEM3Gw-nLoHzCo/edit#heading=h.7z4rqdvodt9j -->\n",
    "\n",
    "![Diagram showing a DataFrame, Series, labels, and indexes](extras/img/data_structures-1.png)"
   ]
  },
  {
   "cell_type": "markdown",
   "metadata": {
    "editable": true,
    "id": "7DPo85wSNU6q",
    "slideshow": {
     "slide_type": "slide"
    },
    "tags": [],
    "toc-hr-collapsed": true,
    "toc-nb-collapsed": true
   },
   "source": [
    "## DataFrame information"
   ]
  },
  {
   "cell_type": "code",
   "execution_count": 7,
   "metadata": {
    "editable": true,
    "id": "--ben4hfmTaB",
    "outputId": "62bae542-8fda-40c4-82f6-7a6410c2a90b",
    "scrolled": true,
    "slideshow": {
     "slide_type": ""
    },
    "tags": []
   },
   "outputs": [
    {
     "name": "stdout",
     "output_type": "stream",
     "text": [
      "<class 'pandas.core.frame.DataFrame'>\n",
      "RangeIndex: 500000 entries, 0 to 499999\n",
      "Data columns (total 41 columns):\n",
      " #   Column                          Non-Null Count   Dtype  \n",
      "---  ------                          --------------   -----  \n",
      " 0   Unique Key                      500000 non-null  int64  \n",
      " 1   Created Date                    500000 non-null  object \n",
      " 2   Closed Date                     476156 non-null  object \n",
      " 3   Agency                          500000 non-null  object \n",
      " 4   Agency Name                     500000 non-null  object \n",
      " 5   Complaint Type                  500000 non-null  object \n",
      " 6   Descriptor                      492534 non-null  object \n",
      " 7   Location Type                   392590 non-null  object \n",
      " 8   Incident Zip                    480411 non-null  object \n",
      " 9   Incident Address                434544 non-null  object \n",
      " 10  Street Name                     434519 non-null  object \n",
      " 11  Cross Street 1                  300838 non-null  object \n",
      " 12  Cross Street 2                  299635 non-null  object \n",
      " 13  Intersection Street 1           107383 non-null  object \n",
      " 14  Intersection Street 2           107048 non-null  object \n",
      " 15  Address Type                    451018 non-null  object \n",
      " 16  City                            476649 non-null  object \n",
      " 17  Landmark                        32521 non-null   object \n",
      " 18  Facility Type                   134923 non-null  object \n",
      " 19  Status                          500000 non-null  object \n",
      " 20  Due Date                        171559 non-null  object \n",
      " 21  Resolution Description          457389 non-null  object \n",
      " 22  Resolution Action Updated Date  488801 non-null  object \n",
      " 23  Community Board                 500000 non-null  object \n",
      " 24  BBL                             407355 non-null  float64\n",
      " 25  Borough                         500000 non-null  object \n",
      " 26  X Coordinate (State Plane)      470830 non-null  float64\n",
      " 27  Y Coordinate (State Plane)      470830 non-null  float64\n",
      " 28  Open Data Channel Type          500000 non-null  object \n",
      " 29  Park Facility Name              499973 non-null  object \n",
      " 30  Park Borough                    500000 non-null  object \n",
      " 31  Vehicle Type                    37 non-null      object \n",
      " 32  Taxi Company Borough            403 non-null     object \n",
      " 33  Taxi Pick Up Location           4475 non-null    object \n",
      " 34  Bridge Highway Name             697 non-null     object \n",
      " 35  Bridge Highway Direction        766 non-null     object \n",
      " 36  Road Ramp                       759 non-null     object \n",
      " 37  Bridge Highway Segment          1027 non-null    object \n",
      " 38  Latitude                        470830 non-null  float64\n",
      " 39  Longitude                       470830 non-null  float64\n",
      " 40  Location                        470830 non-null  object \n",
      "dtypes: float64(5), int64(1), object(35)\n",
      "memory usage: 156.4+ MB\n"
     ]
    }
   ],
   "source": [
    "requests.info()"
   ]
  },
  {
   "cell_type": "markdown",
   "metadata": {
    "editable": true,
    "slideshow": {
     "slide_type": "slide"
    },
    "tags": []
   },
   "source": [
    "## Demo"
   ]
  },
  {
   "cell_type": "markdown",
   "metadata": {
    "editable": true,
    "slideshow": {
     "slide_type": "subslide"
    },
    "tags": []
   },
   "source": [
    "### Analysis"
   ]
  },
  {
   "cell_type": "markdown",
   "metadata": {
    "editable": true,
    "slideshow": {
     "slide_type": ""
    },
    "tags": []
   },
   "source": [
    "#### Which complaints are most common?"
   ]
  },
  {
   "cell_type": "code",
   "execution_count": 11,
   "metadata": {
    "editable": true,
    "slideshow": {
     "slide_type": ""
    },
    "tags": []
   },
   "outputs": [],
   "source": [
    "# code goes here"
   ]
  },
  {
   "cell_type": "markdown",
   "metadata": {
    "editable": true,
    "slideshow": {
     "slide_type": "subslide"
    },
    "tags": []
   },
   "source": [
    "#### What's the most frequent request per agency?"
   ]
  },
  {
   "cell_type": "code",
   "execution_count": 12,
   "metadata": {
    "editable": true,
    "slideshow": {
     "slide_type": ""
    },
    "tags": []
   },
   "outputs": [],
   "source": [
    "# code goes here"
   ]
  },
  {
   "cell_type": "markdown",
   "metadata": {
    "editable": true,
    "slideshow": {
     "slide_type": "subslide"
    },
    "tags": []
   },
   "source": [
    "- [`groupby()`](https://pandas.pydata.org/pandas-docs/stable/user_guide/10min.html#grouping) similar to [pivot tables](https://support.google.com/docs/answer/1272900) in spreadsheets\n",
    "- [`to_frame()`](https://pandas.pydata.org/pandas-docs/stable/reference/api/pandas.Series.to_frame.html)\n",
    "- [`reset_index()`](https://pandas.pydata.org/pandas-docs/stable/reference/api/pandas.Series.reset_index.html)"
   ]
  },
  {
   "cell_type": "markdown",
   "metadata": {
    "editable": true,
    "id": "qeYA8-rMlpJa",
    "slideshow": {
     "slide_type": "subslide"
    },
    "tags": []
   },
   "source": [
    "### Exclude bad records from the DataFrame"
   ]
  },
  {
   "cell_type": "markdown",
   "metadata": {
    "editable": true,
    "id": "RgP7ehPsmozX",
    "slideshow": {
     "slide_type": ""
    },
    "tags": []
   },
   "source": [
    "Let's look at the complaint types."
   ]
  },
  {
   "cell_type": "code",
   "execution_count": 9,
   "metadata": {
    "editable": true,
    "slideshow": {
     "slide_type": ""
    },
    "tags": []
   },
   "outputs": [],
   "source": [
    "# code goes here"
   ]
  },
  {
   "cell_type": "markdown",
   "metadata": {
    "editable": true,
    "id": "RrwqSmKSbiYC",
    "slideshow": {
     "slide_type": "subslide"
    },
    "tags": []
   },
   "source": [
    "How should we go about cleaning those up?"
   ]
  },
  {
   "cell_type": "code",
   "execution_count": 10,
   "metadata": {
    "editable": true,
    "slideshow": {
     "slide_type": ""
    },
    "tags": []
   },
   "outputs": [],
   "source": [
    "# code goes here"
   ]
  },
  {
   "cell_type": "markdown",
   "metadata": {
    "editable": true,
    "slideshow": {
     "slide_type": "slide"
    },
    "tags": []
   },
   "source": [
    "## [Best practices](https://python-public-policy.afeld.me/en/columbia/assignments.html#tips)"
   ]
  },
  {
   "cell_type": "markdown",
   "metadata": {
    "editable": true,
    "id": "ddj8VVZRixCn",
    "slideshow": {
     "slide_type": "slide"
    },
    "tags": []
   },
   "source": [
    "## [Homework 1](https://python-public-policy.afeld.me/en/columbia/hw_1.html)"
   ]
  }
 ],
 "metadata": {
  "celltoolbar": "Slideshow",
  "kernelspec": {
   "display_name": "Python 3",
   "language": "python",
   "name": "python3"
  },
  "language_info": {
   "codemirror_mode": {
    "name": "ipython",
    "version": 3
   },
   "file_extension": ".py",
   "mimetype": "text/x-python",
   "name": "python",
   "nbconvert_exporter": "python",
   "pygments_lexer": "ipython3",
   "version": "3.11.11"
  }
 },
 "nbformat": 4,
 "nbformat_minor": 4
}
