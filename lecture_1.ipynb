{
 "cells": [
  {
   "cell_type": "code",
   "execution_count": 1,
   "metadata": {
    "editable": true,
    "slideshow": {
     "slide_type": "skip"
    },
    "tags": []
   },
   "outputs": [],
   "source": [
    "# a bit of setup just for lecture; ignore me\n",
    "import numpy as np\n",
    "\n",
    "np.random.seed(5)"
   ]
  },
  {
   "cell_type": "markdown",
   "metadata": {
    "id": "SA9q8DQPL6oZ",
    "slideshow": {
     "slide_type": "slide"
    }
   },
   "source": [
    "# Lecture 1: Working with data\n",
    "\n",
    "_Please sign attendance sheet_"
   ]
  },
  {
   "cell_type": "markdown",
   "metadata": {
    "editable": true,
    "slideshow": {
     "slide_type": "slide"
    },
    "tags": []
   },
   "source": [
    "- How was the homework? 👍/👎\n",
    "- Questions?\n",
    "- Reminder about the [between-class participation](https://python-public-policy.afeld.me/en/columbia/syllabus.html#participation)"
   ]
  },
  {
   "cell_type": "markdown",
   "metadata": {
    "editable": true,
    "slideshow": {
     "slide_type": "slide"
    },
    "tags": [
     "columbia-only"
    ]
   },
   "source": [
    "## Additional programming concepts"
   ]
  },
  {
   "cell_type": "markdown",
   "metadata": {
    "editable": true,
    "slideshow": {
     "slide_type": "subslide"
    },
    "tags": [
     "columbia-only"
    ]
   },
   "source": [
    "### Functions\n",
    "\n",
    "- Functions == methods\n",
    "- Arguments == parameters\n",
    "\n",
    "For simplicity, we'll use them interchangeably."
   ]
  },
  {
   "cell_type": "markdown",
   "metadata": {
    "editable": true,
    "slideshow": {
     "slide_type": "subslide"
    },
    "tags": [
     "columbia-only"
    ]
   },
   "source": [
    "### Packages\n",
    "\n",
    "- a.k.a. \"libraries\"\n",
    "- Developers have create them to make code/functionality reusable and easily sharable\n",
    "- Software plugins that you `import`\n",
    "- Main packages we’ll use:\n",
    "    - `pandas`\n",
    "    - `plotly`"
   ]
  },
  {
   "cell_type": "markdown",
   "metadata": {
    "editable": true,
    "slideshow": {
     "slide_type": "subslide"
    },
    "tags": [
     "columbia-only"
    ]
   },
   "source": [
    "> A module is a file containing Python definitions and statements.\n",
    "\n",
    "https://docs.python.org/3/tutorial/modules.html"
   ]
  },
  {
   "cell_type": "markdown",
   "metadata": {
    "editable": true,
    "slideshow": {
     "slide_type": "slide"
    },
    "tags": [
     "columbia-only"
    ]
   },
   "source": [
    "## Working with files in Python\n",
    "\n",
    "We'll open the file, then read it row by row.\n",
    "\n",
    "```python\n",
    "# set up the file object\n",
    "with open(\"moby_dick.txt\") as file:\n",
    "    for line in file:\n",
    "        print(line)\n",
    "```"
   ]
  },
  {
   "cell_type": "markdown",
   "metadata": {
    "editable": true,
    "slideshow": {
     "slide_type": "slide"
    },
    "tags": []
   },
   "source": [
    "## Working with CSVs in pure Python\n",
    "\n",
    "We will use Python's CSV [DictReader](https://docs.python.org/3/library/csv.html#csv.DictReader). We'll open the file, parse it as a CSV, then operate row by row."
   ]
  },
  {
   "cell_type": "markdown",
   "metadata": {
    "editable": true,
    "slideshow": {
     "slide_type": "subslide"
    },
    "tags": []
   },
   "source": [
    "### Example\n",
    "\n",
    "```python\n",
    "import csv\n",
    "\n",
    "\n",
    "# set up the file object\n",
    "with open(\"people.csv\") as csvfile:\n",
    "    # set up the reader\n",
    "    reader = csv.DictReader(csvfile)\n",
    "    # loop through the rows\n",
    "    for row in reader:\n",
    "        # access the data in various columns\n",
    "        first = row[\"first_name\"]\n",
    "        last = row[\"last_name\"]\n",
    "\n",
    "        print(f\"{first} {last}\")\n",
    "```"
   ]
  },
  {
   "cell_type": "markdown",
   "metadata": {
    "editable": true,
    "slideshow": {
     "slide_type": "subslide"
    },
    "tags": []
   },
   "source": [
    "### [In-class exercise](https://python-public-policy.afeld.me/en/columbia/lecture_1_exercise.html)"
   ]
  },
  {
   "cell_type": "markdown",
   "metadata": {
    "editable": true,
    "slideshow": {
     "slide_type": "slide"
    },
    "tags": []
   },
   "source": [
    "## 311 requests\n",
    "\n",
    "Who's called 311 before?"
   ]
  },
  {
   "cell_type": "markdown",
   "metadata": {
    "editable": true,
    "slideshow": {
     "slide_type": "subslide"
    },
    "tags": []
   },
   "source": [
    "[NYC 311 homepage](https://portal.311.nyc.gov/)"
   ]
  },
  {
   "cell_type": "markdown",
   "metadata": {
    "editable": true,
    "slideshow": {
     "slide_type": "subslide"
    },
    "tags": []
   },
   "source": [
    "### [311 data](https://data.cityofnewyork.us/Social-Services/311-Service-Requests-from-2010-to-Present/erm2-nwe9)"
   ]
  },
  {
   "cell_type": "markdown",
   "metadata": {
    "editable": true,
    "id": "CRAqTQ2rbXAA",
    "slideshow": {
     "slide_type": "slide"
    },
    "tags": []
   },
   "source": [
    "## Today's goal\n",
    "\n",
    "- Which 311 complaints are most common?\n",
    "- Which agencies are responsible for handling them?"
   ]
  },
  {
   "cell_type": "markdown",
   "metadata": {
    "id": "9rvnMzjSMK36",
    "slideshow": {
     "slide_type": "slide"
    }
   },
   "source": [
    "## Pandas\n",
    "\n",
    "- A Python package (bundled up code that you can reuse)\n",
    "- Very common for data science in Python\n",
    "- [A lot like R](https://pandas.pydata.org/docs/getting_started/comparison/comparison_with_r.html)\n",
    "   - Both organize around \"data frames\""
   ]
  },
  {
   "cell_type": "markdown",
   "metadata": {
    "editable": true,
    "slideshow": {
     "slide_type": "subslide"
    },
    "tags": []
   },
   "source": [
    "### Import package"
   ]
  },
  {
   "cell_type": "code",
   "execution_count": 2,
   "metadata": {
    "editable": true,
    "id": "Q4l2QosJLzP6",
    "slideshow": {
     "slide_type": ""
    },
    "tags": []
   },
   "outputs": [],
   "source": [
    "import pandas as pd"
   ]
  },
  {
   "cell_type": "markdown",
   "metadata": {
    "editable": true,
    "id": "R1G04BmMMFJb",
    "slideshow": {
     "slide_type": "subslide"
    },
    "tags": []
   },
   "source": [
    "### Read data\n",
    "\n",
    "We're using a sample to make it easier/faster to work with. This will take a while (~30 seconds)."
   ]
  },
  {
   "cell_type": "code",
   "execution_count": 3,
   "metadata": {
    "editable": true,
    "id": "iQgE8qFAMbiF",
    "slideshow": {
     "slide_type": ""
    },
    "tags": []
   },
   "outputs": [
    {
     "name": "stderr",
     "output_type": "stream",
     "text": [
      "/var/folders/kr/nx0m1j811kz5vy8c87ffchzr0000gn/T/ipykernel_29431/4056869583.py:1: DtypeWarning: Columns (8,20,31,34) have mixed types. Specify dtype option on import or set low_memory=False.\n",
      "  requests = pd.read_csv(\n"
     ]
    }
   ],
   "source": [
    "requests = pd.read_csv(\n",
    "    \"https://storage.googleapis.com/python-public-policy2/data/311_requests_2018-19_sample.csv.zip\"\n",
    ")"
   ]
  },
  {
   "cell_type": "markdown",
   "metadata": {},
   "source": [
    "Ignore the `DtypeWarning` for now; we'll come back to it."
   ]
  },
  {
   "cell_type": "markdown",
   "metadata": {
    "editable": true,
    "id": "MgQ0ykVeNFsF",
    "slideshow": {
     "slide_type": "slide"
    },
    "tags": []
   },
   "source": [
    "## Preview the data"
   ]
  },
  {
   "cell_type": "code",
   "execution_count": 4,
   "metadata": {
    "editable": true,
    "scrolled": true,
    "slideshow": {
     "slide_type": ""
    },
    "tags": []
   },
   "outputs": [
    {
     "data": {
      "text/html": [
       "<div>\n",
       "<style scoped>\n",
       "    .dataframe tbody tr th:only-of-type {\n",
       "        vertical-align: middle;\n",
       "    }\n",
       "\n",
       "    .dataframe tbody tr th {\n",
       "        vertical-align: top;\n",
       "    }\n",
       "\n",
       "    .dataframe thead th {\n",
       "        text-align: right;\n",
       "    }\n",
       "</style>\n",
       "<table border=\"1\" class=\"dataframe\">\n",
       "  <thead>\n",
       "    <tr style=\"text-align: right;\">\n",
       "      <th></th>\n",
       "      <th>Unique Key</th>\n",
       "      <th>Created Date</th>\n",
       "      <th>Closed Date</th>\n",
       "      <th>Agency</th>\n",
       "      <th>Agency Name</th>\n",
       "      <th>Complaint Type</th>\n",
       "      <th>Descriptor</th>\n",
       "      <th>Location Type</th>\n",
       "      <th>Incident Zip</th>\n",
       "      <th>Incident Address</th>\n",
       "      <th>...</th>\n",
       "      <th>Vehicle Type</th>\n",
       "      <th>Taxi Company Borough</th>\n",
       "      <th>Taxi Pick Up Location</th>\n",
       "      <th>Bridge Highway Name</th>\n",
       "      <th>Bridge Highway Direction</th>\n",
       "      <th>Road Ramp</th>\n",
       "      <th>Bridge Highway Segment</th>\n",
       "      <th>Latitude</th>\n",
       "      <th>Longitude</th>\n",
       "      <th>Location</th>\n",
       "    </tr>\n",
       "  </thead>\n",
       "  <tbody>\n",
       "    <tr>\n",
       "      <th>0</th>\n",
       "      <td>39885889</td>\n",
       "      <td>08/01/2018 12:05:13 AM</td>\n",
       "      <td>08/01/2018 12:05:13 AM</td>\n",
       "      <td>DOT</td>\n",
       "      <td>Department of Transportation</td>\n",
       "      <td>Street Condition</td>\n",
       "      <td>Pothole</td>\n",
       "      <td>NaN</td>\n",
       "      <td>11235</td>\n",
       "      <td>3143 SHORE PARKWAY</td>\n",
       "      <td>...</td>\n",
       "      <td>NaN</td>\n",
       "      <td>NaN</td>\n",
       "      <td>NaN</td>\n",
       "      <td>NaN</td>\n",
       "      <td>NaN</td>\n",
       "      <td>NaN</td>\n",
       "      <td>NaN</td>\n",
       "      <td>40.585156</td>\n",
       "      <td>-73.959119</td>\n",
       "      <td>(40.585155533520144, -73.95911915841708)</td>\n",
       "    </tr>\n",
       "    <tr>\n",
       "      <th>1</th>\n",
       "      <td>39886470</td>\n",
       "      <td>08/01/2018 12:06:05 AM</td>\n",
       "      <td>08/01/2018 12:06:05 AM</td>\n",
       "      <td>DOT</td>\n",
       "      <td>Department of Transportation</td>\n",
       "      <td>Street Condition</td>\n",
       "      <td>Pothole</td>\n",
       "      <td>NaN</td>\n",
       "      <td>11235</td>\n",
       "      <td>3153 SHORE PARKWAY</td>\n",
       "      <td>...</td>\n",
       "      <td>NaN</td>\n",
       "      <td>NaN</td>\n",
       "      <td>NaN</td>\n",
       "      <td>NaN</td>\n",
       "      <td>NaN</td>\n",
       "      <td>NaN</td>\n",
       "      <td>NaN</td>\n",
       "      <td>40.585218</td>\n",
       "      <td>-73.958608</td>\n",
       "      <td>(40.58521848090658, -73.95860788382927)</td>\n",
       "    </tr>\n",
       "    <tr>\n",
       "      <th>2</th>\n",
       "      <td>39893543</td>\n",
       "      <td>08/01/2018 12:06:16 AM</td>\n",
       "      <td>08/03/2018 02:03:55 PM</td>\n",
       "      <td>HPD</td>\n",
       "      <td>Department of Housing Preservation and Develop...</td>\n",
       "      <td>HEAT/HOT WATER</td>\n",
       "      <td>ENTIRE BUILDING</td>\n",
       "      <td>RESIDENTIAL BUILDING</td>\n",
       "      <td>11221</td>\n",
       "      <td>729 LAFAYETTE AVENUE</td>\n",
       "      <td>...</td>\n",
       "      <td>NaN</td>\n",
       "      <td>NaN</td>\n",
       "      <td>NaN</td>\n",
       "      <td>NaN</td>\n",
       "      <td>NaN</td>\n",
       "      <td>NaN</td>\n",
       "      <td>NaN</td>\n",
       "      <td>40.690733</td>\n",
       "      <td>-73.943964</td>\n",
       "      <td>(40.69073285353906, -73.943963521266)</td>\n",
       "    </tr>\n",
       "    <tr>\n",
       "      <th>3</th>\n",
       "      <td>39886233</td>\n",
       "      <td>08/01/2018 12:06:29 AM</td>\n",
       "      <td>08/01/2018 02:54:24 AM</td>\n",
       "      <td>NYPD</td>\n",
       "      <td>New York City Police Department</td>\n",
       "      <td>Noise - Residential</td>\n",
       "      <td>Banging/Pounding</td>\n",
       "      <td>Residential Building/House</td>\n",
       "      <td>11693</td>\n",
       "      <td>82-01 BEACH CHANNEL DRIVE</td>\n",
       "      <td>...</td>\n",
       "      <td>NaN</td>\n",
       "      <td>NaN</td>\n",
       "      <td>NaN</td>\n",
       "      <td>NaN</td>\n",
       "      <td>NaN</td>\n",
       "      <td>NaN</td>\n",
       "      <td>NaN</td>\n",
       "      <td>40.589931</td>\n",
       "      <td>-73.808896</td>\n",
       "      <td>(40.58993080750793, -73.80889570815852)</td>\n",
       "    </tr>\n",
       "    <tr>\n",
       "      <th>4</th>\n",
       "      <td>39880309</td>\n",
       "      <td>08/01/2018 12:06:51 AM</td>\n",
       "      <td>08/01/2018 04:54:26 AM</td>\n",
       "      <td>NYPD</td>\n",
       "      <td>New York City Police Department</td>\n",
       "      <td>Noise - Residential</td>\n",
       "      <td>Loud Music/Party</td>\n",
       "      <td>Residential Building/House</td>\n",
       "      <td>11216</td>\n",
       "      <td>64 HERKIMER STREET</td>\n",
       "      <td>...</td>\n",
       "      <td>NaN</td>\n",
       "      <td>NaN</td>\n",
       "      <td>NaN</td>\n",
       "      <td>NaN</td>\n",
       "      <td>NaN</td>\n",
       "      <td>NaN</td>\n",
       "      <td>NaN</td>\n",
       "      <td>40.679716</td>\n",
       "      <td>-73.951234</td>\n",
       "      <td>(40.67971590505359, -73.95123396494363)</td>\n",
       "    </tr>\n",
       "    <tr>\n",
       "      <th>...</th>\n",
       "      <td>...</td>\n",
       "      <td>...</td>\n",
       "      <td>...</td>\n",
       "      <td>...</td>\n",
       "      <td>...</td>\n",
       "      <td>...</td>\n",
       "      <td>...</td>\n",
       "      <td>...</td>\n",
       "      <td>...</td>\n",
       "      <td>...</td>\n",
       "      <td>...</td>\n",
       "      <td>...</td>\n",
       "      <td>...</td>\n",
       "      <td>...</td>\n",
       "      <td>...</td>\n",
       "      <td>...</td>\n",
       "      <td>...</td>\n",
       "      <td>...</td>\n",
       "      <td>...</td>\n",
       "      <td>...</td>\n",
       "      <td>...</td>\n",
       "    </tr>\n",
       "    <tr>\n",
       "      <th>499995</th>\n",
       "      <td>43622302</td>\n",
       "      <td>08/24/2019 01:46:09 AM</td>\n",
       "      <td>NaN</td>\n",
       "      <td>NYPD</td>\n",
       "      <td>New York City Police Department</td>\n",
       "      <td>Noise - Residential</td>\n",
       "      <td>Loud Music/Party</td>\n",
       "      <td>Residential Building/House</td>\n",
       "      <td>10009.0</td>\n",
       "      <td>431 EAST    9 STREET</td>\n",
       "      <td>...</td>\n",
       "      <td>NaN</td>\n",
       "      <td>NaN</td>\n",
       "      <td>NaN</td>\n",
       "      <td>NaN</td>\n",
       "      <td>NaN</td>\n",
       "      <td>NaN</td>\n",
       "      <td>NaN</td>\n",
       "      <td>40.727536</td>\n",
       "      <td>-73.983295</td>\n",
       "      <td>(40.72753608835362, -73.98329522742081)</td>\n",
       "    </tr>\n",
       "    <tr>\n",
       "      <th>499996</th>\n",
       "      <td>43619709</td>\n",
       "      <td>08/24/2019 01:49:49 AM</td>\n",
       "      <td>NaN</td>\n",
       "      <td>NYPD</td>\n",
       "      <td>New York City Police Department</td>\n",
       "      <td>Noise - Residential</td>\n",
       "      <td>Loud Music/Party</td>\n",
       "      <td>Residential Building/House</td>\n",
       "      <td>10304.0</td>\n",
       "      <td>191 BROAD STREET</td>\n",
       "      <td>...</td>\n",
       "      <td>NaN</td>\n",
       "      <td>NaN</td>\n",
       "      <td>NaN</td>\n",
       "      <td>NaN</td>\n",
       "      <td>NaN</td>\n",
       "      <td>NaN</td>\n",
       "      <td>NaN</td>\n",
       "      <td>40.624157</td>\n",
       "      <td>-74.081006</td>\n",
       "      <td>(40.62415703282506, -74.08100614362155)</td>\n",
       "    </tr>\n",
       "    <tr>\n",
       "      <th>499997</th>\n",
       "      <td>43623124</td>\n",
       "      <td>08/24/2019 01:56:35 AM</td>\n",
       "      <td>NaN</td>\n",
       "      <td>NYPD</td>\n",
       "      <td>New York City Police Department</td>\n",
       "      <td>Noise - Street/Sidewalk</td>\n",
       "      <td>Loud Music/Party</td>\n",
       "      <td>Street/Sidewalk</td>\n",
       "      <td>10031.0</td>\n",
       "      <td>534 WEST  153 STREET</td>\n",
       "      <td>...</td>\n",
       "      <td>NaN</td>\n",
       "      <td>NaN</td>\n",
       "      <td>NaN</td>\n",
       "      <td>NaN</td>\n",
       "      <td>NaN</td>\n",
       "      <td>NaN</td>\n",
       "      <td>NaN</td>\n",
       "      <td>40.830718</td>\n",
       "      <td>-73.945006</td>\n",
       "      <td>(40.83071800761314, -73.94500557250639)</td>\n",
       "    </tr>\n",
       "    <tr>\n",
       "      <th>499998</th>\n",
       "      <td>43625595</td>\n",
       "      <td>08/24/2019 01:56:40 AM</td>\n",
       "      <td>NaN</td>\n",
       "      <td>NYPD</td>\n",
       "      <td>New York City Police Department</td>\n",
       "      <td>Noise - Commercial</td>\n",
       "      <td>Loud Music/Party</td>\n",
       "      <td>Club/Bar/Restaurant</td>\n",
       "      <td>10452.0</td>\n",
       "      <td>EAST  170 STREET</td>\n",
       "      <td>...</td>\n",
       "      <td>NaN</td>\n",
       "      <td>NaN</td>\n",
       "      <td>NaN</td>\n",
       "      <td>NaN</td>\n",
       "      <td>NaN</td>\n",
       "      <td>NaN</td>\n",
       "      <td>NaN</td>\n",
       "      <td>40.839882</td>\n",
       "      <td>-73.916783</td>\n",
       "      <td>(40.839882158779105, -73.91678321635897)</td>\n",
       "    </tr>\n",
       "    <tr>\n",
       "      <th>499999</th>\n",
       "      <td>43622817</td>\n",
       "      <td>08/24/2019 01:57:58 AM</td>\n",
       "      <td>NaN</td>\n",
       "      <td>NYPD</td>\n",
       "      <td>New York City Police Department</td>\n",
       "      <td>Noise - Commercial</td>\n",
       "      <td>Loud Music/Party</td>\n",
       "      <td>Store/Commercial</td>\n",
       "      <td>10033.0</td>\n",
       "      <td>247 AUDUBON AVENUE</td>\n",
       "      <td>...</td>\n",
       "      <td>NaN</td>\n",
       "      <td>NaN</td>\n",
       "      <td>NaN</td>\n",
       "      <td>NaN</td>\n",
       "      <td>NaN</td>\n",
       "      <td>NaN</td>\n",
       "      <td>NaN</td>\n",
       "      <td>40.846376</td>\n",
       "      <td>-73.934048</td>\n",
       "      <td>(40.84637632367179, -73.93404825809533)</td>\n",
       "    </tr>\n",
       "  </tbody>\n",
       "</table>\n",
       "<p>500000 rows × 41 columns</p>\n",
       "</div>"
      ],
      "text/plain": [
       "        Unique Key            Created Date             Closed Date Agency  \\\n",
       "0         39885889  08/01/2018 12:05:13 AM  08/01/2018 12:05:13 AM    DOT   \n",
       "1         39886470  08/01/2018 12:06:05 AM  08/01/2018 12:06:05 AM    DOT   \n",
       "2         39893543  08/01/2018 12:06:16 AM  08/03/2018 02:03:55 PM    HPD   \n",
       "3         39886233  08/01/2018 12:06:29 AM  08/01/2018 02:54:24 AM   NYPD   \n",
       "4         39880309  08/01/2018 12:06:51 AM  08/01/2018 04:54:26 AM   NYPD   \n",
       "...            ...                     ...                     ...    ...   \n",
       "499995    43622302  08/24/2019 01:46:09 AM                     NaN   NYPD   \n",
       "499996    43619709  08/24/2019 01:49:49 AM                     NaN   NYPD   \n",
       "499997    43623124  08/24/2019 01:56:35 AM                     NaN   NYPD   \n",
       "499998    43625595  08/24/2019 01:56:40 AM                     NaN   NYPD   \n",
       "499999    43622817  08/24/2019 01:57:58 AM                     NaN   NYPD   \n",
       "\n",
       "                                              Agency Name  \\\n",
       "0                            Department of Transportation   \n",
       "1                            Department of Transportation   \n",
       "2       Department of Housing Preservation and Develop...   \n",
       "3                         New York City Police Department   \n",
       "4                         New York City Police Department   \n",
       "...                                                   ...   \n",
       "499995                    New York City Police Department   \n",
       "499996                    New York City Police Department   \n",
       "499997                    New York City Police Department   \n",
       "499998                    New York City Police Department   \n",
       "499999                    New York City Police Department   \n",
       "\n",
       "                 Complaint Type        Descriptor               Location Type  \\\n",
       "0              Street Condition           Pothole                         NaN   \n",
       "1              Street Condition           Pothole                         NaN   \n",
       "2                HEAT/HOT WATER   ENTIRE BUILDING        RESIDENTIAL BUILDING   \n",
       "3           Noise - Residential  Banging/Pounding  Residential Building/House   \n",
       "4           Noise - Residential  Loud Music/Party  Residential Building/House   \n",
       "...                         ...               ...                         ...   \n",
       "499995      Noise - Residential  Loud Music/Party  Residential Building/House   \n",
       "499996      Noise - Residential  Loud Music/Party  Residential Building/House   \n",
       "499997  Noise - Street/Sidewalk  Loud Music/Party             Street/Sidewalk   \n",
       "499998       Noise - Commercial  Loud Music/Party         Club/Bar/Restaurant   \n",
       "499999       Noise - Commercial  Loud Music/Party            Store/Commercial   \n",
       "\n",
       "       Incident Zip           Incident Address  ... Vehicle Type  \\\n",
       "0             11235         3143 SHORE PARKWAY  ...          NaN   \n",
       "1             11235         3153 SHORE PARKWAY  ...          NaN   \n",
       "2             11221       729 LAFAYETTE AVENUE  ...          NaN   \n",
       "3             11693  82-01 BEACH CHANNEL DRIVE  ...          NaN   \n",
       "4             11216         64 HERKIMER STREET  ...          NaN   \n",
       "...             ...                        ...  ...          ...   \n",
       "499995      10009.0       431 EAST    9 STREET  ...          NaN   \n",
       "499996      10304.0           191 BROAD STREET  ...          NaN   \n",
       "499997      10031.0       534 WEST  153 STREET  ...          NaN   \n",
       "499998      10452.0           EAST  170 STREET  ...          NaN   \n",
       "499999      10033.0         247 AUDUBON AVENUE  ...          NaN   \n",
       "\n",
       "       Taxi Company Borough Taxi Pick Up Location Bridge Highway Name  \\\n",
       "0                       NaN                   NaN                 NaN   \n",
       "1                       NaN                   NaN                 NaN   \n",
       "2                       NaN                   NaN                 NaN   \n",
       "3                       NaN                   NaN                 NaN   \n",
       "4                       NaN                   NaN                 NaN   \n",
       "...                     ...                   ...                 ...   \n",
       "499995                  NaN                   NaN                 NaN   \n",
       "499996                  NaN                   NaN                 NaN   \n",
       "499997                  NaN                   NaN                 NaN   \n",
       "499998                  NaN                   NaN                 NaN   \n",
       "499999                  NaN                   NaN                 NaN   \n",
       "\n",
       "       Bridge Highway Direction Road Ramp Bridge Highway Segment   Latitude  \\\n",
       "0                           NaN       NaN                    NaN  40.585156   \n",
       "1                           NaN       NaN                    NaN  40.585218   \n",
       "2                           NaN       NaN                    NaN  40.690733   \n",
       "3                           NaN       NaN                    NaN  40.589931   \n",
       "4                           NaN       NaN                    NaN  40.679716   \n",
       "...                         ...       ...                    ...        ...   \n",
       "499995                      NaN       NaN                    NaN  40.727536   \n",
       "499996                      NaN       NaN                    NaN  40.624157   \n",
       "499997                      NaN       NaN                    NaN  40.830718   \n",
       "499998                      NaN       NaN                    NaN  40.839882   \n",
       "499999                      NaN       NaN                    NaN  40.846376   \n",
       "\n",
       "        Longitude                                  Location  \n",
       "0      -73.959119  (40.585155533520144, -73.95911915841708)  \n",
       "1      -73.958608   (40.58521848090658, -73.95860788382927)  \n",
       "2      -73.943964     (40.69073285353906, -73.943963521266)  \n",
       "3      -73.808896   (40.58993080750793, -73.80889570815852)  \n",
       "4      -73.951234   (40.67971590505359, -73.95123396494363)  \n",
       "...           ...                                       ...  \n",
       "499995 -73.983295   (40.72753608835362, -73.98329522742081)  \n",
       "499996 -74.081006   (40.62415703282506, -74.08100614362155)  \n",
       "499997 -73.945006   (40.83071800761314, -73.94500557250639)  \n",
       "499998 -73.916783  (40.839882158779105, -73.91678321635897)  \n",
       "499999 -73.934048   (40.84637632367179, -73.93404825809533)  \n",
       "\n",
       "[500000 rows x 41 columns]"
      ]
     },
     "execution_count": 4,
     "metadata": {},
     "output_type": "execute_result"
    }
   ],
   "source": [
    "requests"
   ]
  },
  {
   "cell_type": "markdown",
   "metadata": {
    "editable": true,
    "slideshow": {
     "slide_type": "subslide"
    },
    "tags": []
   },
   "source": [
    "`.head()` defaults to providing the first 5 if you don't specify a number. Can also use `.tail()`."
   ]
  },
  {
   "cell_type": "code",
   "execution_count": 5,
   "metadata": {
    "editable": true,
    "id": "YdtFBy0Il7E7",
    "outputId": "7bb49293-60dd-4df6-e5df-1eec7f2343ce",
    "scrolled": true,
    "slideshow": {
     "slide_type": ""
    },
    "tags": []
   },
   "outputs": [
    {
     "data": {
      "text/html": [
       "<div>\n",
       "<style scoped>\n",
       "    .dataframe tbody tr th:only-of-type {\n",
       "        vertical-align: middle;\n",
       "    }\n",
       "\n",
       "    .dataframe tbody tr th {\n",
       "        vertical-align: top;\n",
       "    }\n",
       "\n",
       "    .dataframe thead th {\n",
       "        text-align: right;\n",
       "    }\n",
       "</style>\n",
       "<table border=\"1\" class=\"dataframe\">\n",
       "  <thead>\n",
       "    <tr style=\"text-align: right;\">\n",
       "      <th></th>\n",
       "      <th>Unique Key</th>\n",
       "      <th>Created Date</th>\n",
       "      <th>Closed Date</th>\n",
       "      <th>Agency</th>\n",
       "      <th>Agency Name</th>\n",
       "      <th>Complaint Type</th>\n",
       "      <th>Descriptor</th>\n",
       "      <th>Location Type</th>\n",
       "      <th>Incident Zip</th>\n",
       "      <th>Incident Address</th>\n",
       "      <th>...</th>\n",
       "      <th>Vehicle Type</th>\n",
       "      <th>Taxi Company Borough</th>\n",
       "      <th>Taxi Pick Up Location</th>\n",
       "      <th>Bridge Highway Name</th>\n",
       "      <th>Bridge Highway Direction</th>\n",
       "      <th>Road Ramp</th>\n",
       "      <th>Bridge Highway Segment</th>\n",
       "      <th>Latitude</th>\n",
       "      <th>Longitude</th>\n",
       "      <th>Location</th>\n",
       "    </tr>\n",
       "  </thead>\n",
       "  <tbody>\n",
       "    <tr>\n",
       "      <th>0</th>\n",
       "      <td>39885889</td>\n",
       "      <td>08/01/2018 12:05:13 AM</td>\n",
       "      <td>08/01/2018 12:05:13 AM</td>\n",
       "      <td>DOT</td>\n",
       "      <td>Department of Transportation</td>\n",
       "      <td>Street Condition</td>\n",
       "      <td>Pothole</td>\n",
       "      <td>NaN</td>\n",
       "      <td>11235</td>\n",
       "      <td>3143 SHORE PARKWAY</td>\n",
       "      <td>...</td>\n",
       "      <td>NaN</td>\n",
       "      <td>NaN</td>\n",
       "      <td>NaN</td>\n",
       "      <td>NaN</td>\n",
       "      <td>NaN</td>\n",
       "      <td>NaN</td>\n",
       "      <td>NaN</td>\n",
       "      <td>40.585156</td>\n",
       "      <td>-73.959119</td>\n",
       "      <td>(40.585155533520144, -73.95911915841708)</td>\n",
       "    </tr>\n",
       "    <tr>\n",
       "      <th>1</th>\n",
       "      <td>39886470</td>\n",
       "      <td>08/01/2018 12:06:05 AM</td>\n",
       "      <td>08/01/2018 12:06:05 AM</td>\n",
       "      <td>DOT</td>\n",
       "      <td>Department of Transportation</td>\n",
       "      <td>Street Condition</td>\n",
       "      <td>Pothole</td>\n",
       "      <td>NaN</td>\n",
       "      <td>11235</td>\n",
       "      <td>3153 SHORE PARKWAY</td>\n",
       "      <td>...</td>\n",
       "      <td>NaN</td>\n",
       "      <td>NaN</td>\n",
       "      <td>NaN</td>\n",
       "      <td>NaN</td>\n",
       "      <td>NaN</td>\n",
       "      <td>NaN</td>\n",
       "      <td>NaN</td>\n",
       "      <td>40.585218</td>\n",
       "      <td>-73.958608</td>\n",
       "      <td>(40.58521848090658, -73.95860788382927)</td>\n",
       "    </tr>\n",
       "    <tr>\n",
       "      <th>2</th>\n",
       "      <td>39893543</td>\n",
       "      <td>08/01/2018 12:06:16 AM</td>\n",
       "      <td>08/03/2018 02:03:55 PM</td>\n",
       "      <td>HPD</td>\n",
       "      <td>Department of Housing Preservation and Develop...</td>\n",
       "      <td>HEAT/HOT WATER</td>\n",
       "      <td>ENTIRE BUILDING</td>\n",
       "      <td>RESIDENTIAL BUILDING</td>\n",
       "      <td>11221</td>\n",
       "      <td>729 LAFAYETTE AVENUE</td>\n",
       "      <td>...</td>\n",
       "      <td>NaN</td>\n",
       "      <td>NaN</td>\n",
       "      <td>NaN</td>\n",
       "      <td>NaN</td>\n",
       "      <td>NaN</td>\n",
       "      <td>NaN</td>\n",
       "      <td>NaN</td>\n",
       "      <td>40.690733</td>\n",
       "      <td>-73.943964</td>\n",
       "      <td>(40.69073285353906, -73.943963521266)</td>\n",
       "    </tr>\n",
       "    <tr>\n",
       "      <th>3</th>\n",
       "      <td>39886233</td>\n",
       "      <td>08/01/2018 12:06:29 AM</td>\n",
       "      <td>08/01/2018 02:54:24 AM</td>\n",
       "      <td>NYPD</td>\n",
       "      <td>New York City Police Department</td>\n",
       "      <td>Noise - Residential</td>\n",
       "      <td>Banging/Pounding</td>\n",
       "      <td>Residential Building/House</td>\n",
       "      <td>11693</td>\n",
       "      <td>82-01 BEACH CHANNEL DRIVE</td>\n",
       "      <td>...</td>\n",
       "      <td>NaN</td>\n",
       "      <td>NaN</td>\n",
       "      <td>NaN</td>\n",
       "      <td>NaN</td>\n",
       "      <td>NaN</td>\n",
       "      <td>NaN</td>\n",
       "      <td>NaN</td>\n",
       "      <td>40.589931</td>\n",
       "      <td>-73.808896</td>\n",
       "      <td>(40.58993080750793, -73.80889570815852)</td>\n",
       "    </tr>\n",
       "    <tr>\n",
       "      <th>4</th>\n",
       "      <td>39880309</td>\n",
       "      <td>08/01/2018 12:06:51 AM</td>\n",
       "      <td>08/01/2018 04:54:26 AM</td>\n",
       "      <td>NYPD</td>\n",
       "      <td>New York City Police Department</td>\n",
       "      <td>Noise - Residential</td>\n",
       "      <td>Loud Music/Party</td>\n",
       "      <td>Residential Building/House</td>\n",
       "      <td>11216</td>\n",
       "      <td>64 HERKIMER STREET</td>\n",
       "      <td>...</td>\n",
       "      <td>NaN</td>\n",
       "      <td>NaN</td>\n",
       "      <td>NaN</td>\n",
       "      <td>NaN</td>\n",
       "      <td>NaN</td>\n",
       "      <td>NaN</td>\n",
       "      <td>NaN</td>\n",
       "      <td>40.679716</td>\n",
       "      <td>-73.951234</td>\n",
       "      <td>(40.67971590505359, -73.95123396494363)</td>\n",
       "    </tr>\n",
       "    <tr>\n",
       "      <th>5</th>\n",
       "      <td>39878305</td>\n",
       "      <td>08/01/2018 12:07:41 AM</td>\n",
       "      <td>08/01/2018 12:07:41 AM</td>\n",
       "      <td>DOT</td>\n",
       "      <td>Department of Transportation</td>\n",
       "      <td>Street Condition</td>\n",
       "      <td>Pothole</td>\n",
       "      <td>NaN</td>\n",
       "      <td>11235</td>\n",
       "      <td>3167 SHORE PARKWAY</td>\n",
       "      <td>...</td>\n",
       "      <td>NaN</td>\n",
       "      <td>NaN</td>\n",
       "      <td>NaN</td>\n",
       "      <td>NaN</td>\n",
       "      <td>NaN</td>\n",
       "      <td>NaN</td>\n",
       "      <td>NaN</td>\n",
       "      <td>40.585254</td>\n",
       "      <td>-73.958302</td>\n",
       "      <td>(40.585254052666755, -73.95830184003603)</td>\n",
       "    </tr>\n",
       "    <tr>\n",
       "      <th>6</th>\n",
       "      <td>39878821</td>\n",
       "      <td>08/01/2018 12:10:04 AM</td>\n",
       "      <td>08/01/2018 02:04:49 AM</td>\n",
       "      <td>NYPD</td>\n",
       "      <td>New York City Police Department</td>\n",
       "      <td>Illegal Parking</td>\n",
       "      <td>Commercial Overnight Parking</td>\n",
       "      <td>Street/Sidewalk</td>\n",
       "      <td>10465</td>\n",
       "      <td>245 THROGGS NECK BOULEVARD</td>\n",
       "      <td>...</td>\n",
       "      <td>NaN</td>\n",
       "      <td>NaN</td>\n",
       "      <td>NaN</td>\n",
       "      <td>NaN</td>\n",
       "      <td>NaN</td>\n",
       "      <td>NaN</td>\n",
       "      <td>NaN</td>\n",
       "      <td>40.818533</td>\n",
       "      <td>-73.813294</td>\n",
       "      <td>(40.8185333998848, -73.81329367027502)</td>\n",
       "    </tr>\n",
       "    <tr>\n",
       "      <th>7</th>\n",
       "      <td>39881328</td>\n",
       "      <td>08/01/2018 12:11:00 AM</td>\n",
       "      <td>08/09/2018 12:00:00 AM</td>\n",
       "      <td>DSNY</td>\n",
       "      <td>Department of Sanitation</td>\n",
       "      <td>Request Large Bulky Item Collection</td>\n",
       "      <td>Request Large Bulky Item Collection</td>\n",
       "      <td>Sidewalk</td>\n",
       "      <td>11367</td>\n",
       "      <td>147-46 77 ROAD</td>\n",
       "      <td>...</td>\n",
       "      <td>NaN</td>\n",
       "      <td>NaN</td>\n",
       "      <td>NaN</td>\n",
       "      <td>NaN</td>\n",
       "      <td>NaN</td>\n",
       "      <td>NaN</td>\n",
       "      <td>NaN</td>\n",
       "      <td>40.721380</td>\n",
       "      <td>-73.816326</td>\n",
       "      <td>(40.72137977337607, -73.8163256713087)</td>\n",
       "    </tr>\n",
       "    <tr>\n",
       "      <th>8</th>\n",
       "      <td>39885268</td>\n",
       "      <td>08/01/2018 12:14:41 AM</td>\n",
       "      <td>08/01/2018 03:03:31 AM</td>\n",
       "      <td>NYPD</td>\n",
       "      <td>New York City Police Department</td>\n",
       "      <td>Noise - Residential</td>\n",
       "      <td>Loud Music/Party</td>\n",
       "      <td>Residential Building/House</td>\n",
       "      <td>10459</td>\n",
       "      <td>951 HOE AVENUE</td>\n",
       "      <td>...</td>\n",
       "      <td>NaN</td>\n",
       "      <td>NaN</td>\n",
       "      <td>NaN</td>\n",
       "      <td>NaN</td>\n",
       "      <td>NaN</td>\n",
       "      <td>NaN</td>\n",
       "      <td>NaN</td>\n",
       "      <td>40.822088</td>\n",
       "      <td>-73.890340</td>\n",
       "      <td>(40.82208801817637, -73.89033972476959)</td>\n",
       "    </tr>\n",
       "    <tr>\n",
       "      <th>9</th>\n",
       "      <td>39897573</td>\n",
       "      <td>08/01/2018 12:17:02 AM</td>\n",
       "      <td>08/13/2018 01:05:32 PM</td>\n",
       "      <td>HPD</td>\n",
       "      <td>Department of Housing Preservation and Develop...</td>\n",
       "      <td>HEAT/HOT WATER</td>\n",
       "      <td>ENTIRE BUILDING</td>\n",
       "      <td>RESIDENTIAL BUILDING</td>\n",
       "      <td>11101</td>\n",
       "      <td>33-01 38 AVENUE</td>\n",
       "      <td>...</td>\n",
       "      <td>NaN</td>\n",
       "      <td>NaN</td>\n",
       "      <td>NaN</td>\n",
       "      <td>NaN</td>\n",
       "      <td>NaN</td>\n",
       "      <td>NaN</td>\n",
       "      <td>NaN</td>\n",
       "      <td>40.752911</td>\n",
       "      <td>-73.930358</td>\n",
       "      <td>(40.752910688469996, -73.93035822987532)</td>\n",
       "    </tr>\n",
       "  </tbody>\n",
       "</table>\n",
       "<p>10 rows × 41 columns</p>\n",
       "</div>"
      ],
      "text/plain": [
       "   Unique Key            Created Date             Closed Date Agency  \\\n",
       "0    39885889  08/01/2018 12:05:13 AM  08/01/2018 12:05:13 AM    DOT   \n",
       "1    39886470  08/01/2018 12:06:05 AM  08/01/2018 12:06:05 AM    DOT   \n",
       "2    39893543  08/01/2018 12:06:16 AM  08/03/2018 02:03:55 PM    HPD   \n",
       "3    39886233  08/01/2018 12:06:29 AM  08/01/2018 02:54:24 AM   NYPD   \n",
       "4    39880309  08/01/2018 12:06:51 AM  08/01/2018 04:54:26 AM   NYPD   \n",
       "5    39878305  08/01/2018 12:07:41 AM  08/01/2018 12:07:41 AM    DOT   \n",
       "6    39878821  08/01/2018 12:10:04 AM  08/01/2018 02:04:49 AM   NYPD   \n",
       "7    39881328  08/01/2018 12:11:00 AM  08/09/2018 12:00:00 AM   DSNY   \n",
       "8    39885268  08/01/2018 12:14:41 AM  08/01/2018 03:03:31 AM   NYPD   \n",
       "9    39897573  08/01/2018 12:17:02 AM  08/13/2018 01:05:32 PM    HPD   \n",
       "\n",
       "                                         Agency Name  \\\n",
       "0                       Department of Transportation   \n",
       "1                       Department of Transportation   \n",
       "2  Department of Housing Preservation and Develop...   \n",
       "3                    New York City Police Department   \n",
       "4                    New York City Police Department   \n",
       "5                       Department of Transportation   \n",
       "6                    New York City Police Department   \n",
       "7                           Department of Sanitation   \n",
       "8                    New York City Police Department   \n",
       "9  Department of Housing Preservation and Develop...   \n",
       "\n",
       "                        Complaint Type                           Descriptor  \\\n",
       "0                     Street Condition                              Pothole   \n",
       "1                     Street Condition                              Pothole   \n",
       "2                       HEAT/HOT WATER                      ENTIRE BUILDING   \n",
       "3                  Noise - Residential                     Banging/Pounding   \n",
       "4                  Noise - Residential                     Loud Music/Party   \n",
       "5                     Street Condition                              Pothole   \n",
       "6                      Illegal Parking         Commercial Overnight Parking   \n",
       "7  Request Large Bulky Item Collection  Request Large Bulky Item Collection   \n",
       "8                  Noise - Residential                     Loud Music/Party   \n",
       "9                       HEAT/HOT WATER                      ENTIRE BUILDING   \n",
       "\n",
       "                Location Type Incident Zip            Incident Address  ...  \\\n",
       "0                         NaN        11235          3143 SHORE PARKWAY  ...   \n",
       "1                         NaN        11235          3153 SHORE PARKWAY  ...   \n",
       "2        RESIDENTIAL BUILDING        11221        729 LAFAYETTE AVENUE  ...   \n",
       "3  Residential Building/House        11693   82-01 BEACH CHANNEL DRIVE  ...   \n",
       "4  Residential Building/House        11216          64 HERKIMER STREET  ...   \n",
       "5                         NaN        11235          3167 SHORE PARKWAY  ...   \n",
       "6             Street/Sidewalk        10465  245 THROGGS NECK BOULEVARD  ...   \n",
       "7                    Sidewalk        11367              147-46 77 ROAD  ...   \n",
       "8  Residential Building/House        10459              951 HOE AVENUE  ...   \n",
       "9        RESIDENTIAL BUILDING        11101             33-01 38 AVENUE  ...   \n",
       "\n",
       "  Vehicle Type Taxi Company Borough Taxi Pick Up Location Bridge Highway Name  \\\n",
       "0          NaN                  NaN                   NaN                 NaN   \n",
       "1          NaN                  NaN                   NaN                 NaN   \n",
       "2          NaN                  NaN                   NaN                 NaN   \n",
       "3          NaN                  NaN                   NaN                 NaN   \n",
       "4          NaN                  NaN                   NaN                 NaN   \n",
       "5          NaN                  NaN                   NaN                 NaN   \n",
       "6          NaN                  NaN                   NaN                 NaN   \n",
       "7          NaN                  NaN                   NaN                 NaN   \n",
       "8          NaN                  NaN                   NaN                 NaN   \n",
       "9          NaN                  NaN                   NaN                 NaN   \n",
       "\n",
       "  Bridge Highway Direction Road Ramp Bridge Highway Segment   Latitude  \\\n",
       "0                      NaN       NaN                    NaN  40.585156   \n",
       "1                      NaN       NaN                    NaN  40.585218   \n",
       "2                      NaN       NaN                    NaN  40.690733   \n",
       "3                      NaN       NaN                    NaN  40.589931   \n",
       "4                      NaN       NaN                    NaN  40.679716   \n",
       "5                      NaN       NaN                    NaN  40.585254   \n",
       "6                      NaN       NaN                    NaN  40.818533   \n",
       "7                      NaN       NaN                    NaN  40.721380   \n",
       "8                      NaN       NaN                    NaN  40.822088   \n",
       "9                      NaN       NaN                    NaN  40.752911   \n",
       "\n",
       "   Longitude                                  Location  \n",
       "0 -73.959119  (40.585155533520144, -73.95911915841708)  \n",
       "1 -73.958608   (40.58521848090658, -73.95860788382927)  \n",
       "2 -73.943964     (40.69073285353906, -73.943963521266)  \n",
       "3 -73.808896   (40.58993080750793, -73.80889570815852)  \n",
       "4 -73.951234   (40.67971590505359, -73.95123396494363)  \n",
       "5 -73.958302  (40.585254052666755, -73.95830184003603)  \n",
       "6 -73.813294    (40.8185333998848, -73.81329367027502)  \n",
       "7 -73.816326    (40.72137977337607, -73.8163256713087)  \n",
       "8 -73.890340   (40.82208801817637, -73.89033972476959)  \n",
       "9 -73.930358  (40.752910688469996, -73.93035822987532)  \n",
       "\n",
       "[10 rows x 41 columns]"
      ]
     },
     "execution_count": 5,
     "metadata": {},
     "output_type": "execute_result"
    }
   ],
   "source": [
    "requests.head(10)"
   ]
  },
  {
   "cell_type": "code",
   "execution_count": 6,
   "metadata": {
    "editable": true,
    "id": "eH6-z-3vM0QI",
    "outputId": "46ab7edf-2b18-43f2-8d83-f90f0cc91be3",
    "slideshow": {
     "slide_type": "subslide"
    },
    "tags": []
   },
   "outputs": [
    {
     "data": {
      "text/html": [
       "<div>\n",
       "<style scoped>\n",
       "    .dataframe tbody tr th:only-of-type {\n",
       "        vertical-align: middle;\n",
       "    }\n",
       "\n",
       "    .dataframe tbody tr th {\n",
       "        vertical-align: top;\n",
       "    }\n",
       "\n",
       "    .dataframe thead th {\n",
       "        text-align: right;\n",
       "    }\n",
       "</style>\n",
       "<table border=\"1\" class=\"dataframe\">\n",
       "  <thead>\n",
       "    <tr style=\"text-align: right;\">\n",
       "      <th></th>\n",
       "      <th>Unique Key</th>\n",
       "      <th>Created Date</th>\n",
       "      <th>Closed Date</th>\n",
       "      <th>Agency</th>\n",
       "      <th>Agency Name</th>\n",
       "      <th>Complaint Type</th>\n",
       "      <th>Descriptor</th>\n",
       "      <th>Location Type</th>\n",
       "      <th>Incident Zip</th>\n",
       "      <th>Incident Address</th>\n",
       "      <th>...</th>\n",
       "      <th>Vehicle Type</th>\n",
       "      <th>Taxi Company Borough</th>\n",
       "      <th>Taxi Pick Up Location</th>\n",
       "      <th>Bridge Highway Name</th>\n",
       "      <th>Bridge Highway Direction</th>\n",
       "      <th>Road Ramp</th>\n",
       "      <th>Bridge Highway Segment</th>\n",
       "      <th>Latitude</th>\n",
       "      <th>Longitude</th>\n",
       "      <th>Location</th>\n",
       "    </tr>\n",
       "  </thead>\n",
       "  <tbody>\n",
       "    <tr>\n",
       "      <th>311150</th>\n",
       "      <td>42044618</td>\n",
       "      <td>03/25/2019 10:16:38 PM</td>\n",
       "      <td>03/25/2019 11:47:09 PM</td>\n",
       "      <td>NYPD</td>\n",
       "      <td>New York City Police Department</td>\n",
       "      <td>Noise - Residential</td>\n",
       "      <td>Loud Talking</td>\n",
       "      <td>Residential Building/House</td>\n",
       "      <td>10453.0</td>\n",
       "      <td>1800 POPHAM AVENUE</td>\n",
       "      <td>...</td>\n",
       "      <td>NaN</td>\n",
       "      <td>NaN</td>\n",
       "      <td>NaN</td>\n",
       "      <td>NaN</td>\n",
       "      <td>NaN</td>\n",
       "      <td>NaN</td>\n",
       "      <td>NaN</td>\n",
       "      <td>40.851389</td>\n",
       "      <td>-73.917651</td>\n",
       "      <td>(40.85138859491611, -73.91765079814148)</td>\n",
       "    </tr>\n",
       "    <tr>\n",
       "      <th>32142</th>\n",
       "      <td>40107788</td>\n",
       "      <td>08/25/2018 10:24:40 AM</td>\n",
       "      <td>08/25/2018 04:30:08 PM</td>\n",
       "      <td>NYPD</td>\n",
       "      <td>New York City Police Department</td>\n",
       "      <td>Blocked Driveway</td>\n",
       "      <td>No Access</td>\n",
       "      <td>Street/Sidewalk</td>\n",
       "      <td>11419.0</td>\n",
       "      <td>133-05 107 AVENUE</td>\n",
       "      <td>...</td>\n",
       "      <td>NaN</td>\n",
       "      <td>NaN</td>\n",
       "      <td>NaN</td>\n",
       "      <td>NaN</td>\n",
       "      <td>NaN</td>\n",
       "      <td>NaN</td>\n",
       "      <td>NaN</td>\n",
       "      <td>40.687721</td>\n",
       "      <td>-73.811536</td>\n",
       "      <td>(40.6877211401399, -73.8115361385404)</td>\n",
       "    </tr>\n",
       "    <tr>\n",
       "      <th>120849</th>\n",
       "      <td>40692417</td>\n",
       "      <td>10/29/2018 07:23:28 AM</td>\n",
       "      <td>11/01/2018 09:52:41 PM</td>\n",
       "      <td>HPD</td>\n",
       "      <td>Department of Housing Preservation and Develop...</td>\n",
       "      <td>HEAT/HOT WATER</td>\n",
       "      <td>APARTMENT ONLY</td>\n",
       "      <td>RESIDENTIAL BUILDING</td>\n",
       "      <td>10040</td>\n",
       "      <td>660 FT WASHINGTON AVENUE</td>\n",
       "      <td>...</td>\n",
       "      <td>NaN</td>\n",
       "      <td>NaN</td>\n",
       "      <td>NaN</td>\n",
       "      <td>NaN</td>\n",
       "      <td>NaN</td>\n",
       "      <td>NaN</td>\n",
       "      <td>NaN</td>\n",
       "      <td>40.856431</td>\n",
       "      <td>-73.936092</td>\n",
       "      <td>(40.856431325229096, -73.93609157070478)</td>\n",
       "    </tr>\n",
       "    <tr>\n",
       "      <th>471582</th>\n",
       "      <td>43386392</td>\n",
       "      <td>07/26/2019 11:17:21 PM</td>\n",
       "      <td>07/27/2019 02:36:26 AM</td>\n",
       "      <td>NYPD</td>\n",
       "      <td>New York City Police Department</td>\n",
       "      <td>Noise - Residential</td>\n",
       "      <td>Loud Music/Party</td>\n",
       "      <td>Residential Building/House</td>\n",
       "      <td>10303.0</td>\n",
       "      <td>351 HARBOR ROAD</td>\n",
       "      <td>...</td>\n",
       "      <td>NaN</td>\n",
       "      <td>NaN</td>\n",
       "      <td>NaN</td>\n",
       "      <td>NaN</td>\n",
       "      <td>NaN</td>\n",
       "      <td>NaN</td>\n",
       "      <td>NaN</td>\n",
       "      <td>40.627510</td>\n",
       "      <td>-74.160446</td>\n",
       "      <td>(40.62751009515846, -74.16044618563123)</td>\n",
       "    </tr>\n",
       "    <tr>\n",
       "      <th>455213</th>\n",
       "      <td>43253780</td>\n",
       "      <td>07/11/2019 03:23:28 PM</td>\n",
       "      <td>07/12/2019 11:25:43 AM</td>\n",
       "      <td>NYPD</td>\n",
       "      <td>New York City Police Department</td>\n",
       "      <td>Illegal Parking</td>\n",
       "      <td>Double Parked Blocking Traffic</td>\n",
       "      <td>Street/Sidewalk</td>\n",
       "      <td>11204.0</td>\n",
       "      <td>61 STREET</td>\n",
       "      <td>...</td>\n",
       "      <td>NaN</td>\n",
       "      <td>NaN</td>\n",
       "      <td>NaN</td>\n",
       "      <td>NaN</td>\n",
       "      <td>NaN</td>\n",
       "      <td>NaN</td>\n",
       "      <td>NaN</td>\n",
       "      <td>NaN</td>\n",
       "      <td>NaN</td>\n",
       "      <td>NaN</td>\n",
       "    </tr>\n",
       "  </tbody>\n",
       "</table>\n",
       "<p>5 rows × 41 columns</p>\n",
       "</div>"
      ],
      "text/plain": [
       "        Unique Key            Created Date             Closed Date Agency  \\\n",
       "311150    42044618  03/25/2019 10:16:38 PM  03/25/2019 11:47:09 PM   NYPD   \n",
       "32142     40107788  08/25/2018 10:24:40 AM  08/25/2018 04:30:08 PM   NYPD   \n",
       "120849    40692417  10/29/2018 07:23:28 AM  11/01/2018 09:52:41 PM    HPD   \n",
       "471582    43386392  07/26/2019 11:17:21 PM  07/27/2019 02:36:26 AM   NYPD   \n",
       "455213    43253780  07/11/2019 03:23:28 PM  07/12/2019 11:25:43 AM   NYPD   \n",
       "\n",
       "                                              Agency Name  \\\n",
       "311150                    New York City Police Department   \n",
       "32142                     New York City Police Department   \n",
       "120849  Department of Housing Preservation and Develop...   \n",
       "471582                    New York City Police Department   \n",
       "455213                    New York City Police Department   \n",
       "\n",
       "             Complaint Type                      Descriptor  \\\n",
       "311150  Noise - Residential                    Loud Talking   \n",
       "32142      Blocked Driveway                       No Access   \n",
       "120849       HEAT/HOT WATER                  APARTMENT ONLY   \n",
       "471582  Noise - Residential                Loud Music/Party   \n",
       "455213      Illegal Parking  Double Parked Blocking Traffic   \n",
       "\n",
       "                     Location Type Incident Zip          Incident Address  \\\n",
       "311150  Residential Building/House      10453.0        1800 POPHAM AVENUE   \n",
       "32142              Street/Sidewalk      11419.0         133-05 107 AVENUE   \n",
       "120849        RESIDENTIAL BUILDING        10040  660 FT WASHINGTON AVENUE   \n",
       "471582  Residential Building/House      10303.0           351 HARBOR ROAD   \n",
       "455213             Street/Sidewalk      11204.0                 61 STREET   \n",
       "\n",
       "        ... Vehicle Type Taxi Company Borough Taxi Pick Up Location  \\\n",
       "311150  ...          NaN                  NaN                   NaN   \n",
       "32142   ...          NaN                  NaN                   NaN   \n",
       "120849  ...          NaN                  NaN                   NaN   \n",
       "471582  ...          NaN                  NaN                   NaN   \n",
       "455213  ...          NaN                  NaN                   NaN   \n",
       "\n",
       "       Bridge Highway Name Bridge Highway Direction Road Ramp  \\\n",
       "311150                 NaN                      NaN       NaN   \n",
       "32142                  NaN                      NaN       NaN   \n",
       "120849                 NaN                      NaN       NaN   \n",
       "471582                 NaN                      NaN       NaN   \n",
       "455213                 NaN                      NaN       NaN   \n",
       "\n",
       "       Bridge Highway Segment   Latitude  Longitude  \\\n",
       "311150                    NaN  40.851389 -73.917651   \n",
       "32142                     NaN  40.687721 -73.811536   \n",
       "120849                    NaN  40.856431 -73.936092   \n",
       "471582                    NaN  40.627510 -74.160446   \n",
       "455213                    NaN        NaN        NaN   \n",
       "\n",
       "                                        Location  \n",
       "311150   (40.85138859491611, -73.91765079814148)  \n",
       "32142      (40.6877211401399, -73.8115361385404)  \n",
       "120849  (40.856431325229096, -73.93609157070478)  \n",
       "471582   (40.62751009515846, -74.16044618563123)  \n",
       "455213                                       NaN  \n",
       "\n",
       "[5 rows x 41 columns]"
      ]
     },
     "execution_count": 6,
     "metadata": {},
     "output_type": "execute_result"
    }
   ],
   "source": [
    "requests.sample(5)"
   ]
  },
  {
   "cell_type": "markdown",
   "metadata": {
    "editable": true,
    "slideshow": {
     "slide_type": "slide"
    },
    "tags": []
   },
   "source": [
    "## Pandas data structures\n",
    "\n",
    "<!-- source: https://docs.google.com/document/d/1HGw2BdbuXSIwcgDWXkzZGPXYr5yJ_WEM3Gw-nLoHzCo/edit#heading=h.7z4rqdvodt9j -->\n",
    "\n",
    "![Diagram showing a DataFrame, Series, labels, and indexes](extras/img/data_structures-1.png)"
   ]
  },
  {
   "cell_type": "markdown",
   "metadata": {
    "editable": true,
    "id": "7DPo85wSNU6q",
    "slideshow": {
     "slide_type": "slide"
    },
    "tags": [],
    "toc-hr-collapsed": true,
    "toc-nb-collapsed": true
   },
   "source": [
    "## DataFrame information"
   ]
  },
  {
   "cell_type": "code",
   "execution_count": 7,
   "metadata": {
    "editable": true,
    "id": "--ben4hfmTaB",
    "outputId": "62bae542-8fda-40c4-82f6-7a6410c2a90b",
    "scrolled": true,
    "slideshow": {
     "slide_type": ""
    },
    "tags": []
   },
   "outputs": [
    {
     "name": "stdout",
     "output_type": "stream",
     "text": [
      "<class 'pandas.core.frame.DataFrame'>\n",
      "RangeIndex: 500000 entries, 0 to 499999\n",
      "Data columns (total 41 columns):\n",
      " #   Column                          Non-Null Count   Dtype  \n",
      "---  ------                          --------------   -----  \n",
      " 0   Unique Key                      500000 non-null  int64  \n",
      " 1   Created Date                    500000 non-null  object \n",
      " 2   Closed Date                     476156 non-null  object \n",
      " 3   Agency                          500000 non-null  object \n",
      " 4   Agency Name                     500000 non-null  object \n",
      " 5   Complaint Type                  500000 non-null  object \n",
      " 6   Descriptor                      492534 non-null  object \n",
      " 7   Location Type                   392590 non-null  object \n",
      " 8   Incident Zip                    480411 non-null  object \n",
      " 9   Incident Address                434544 non-null  object \n",
      " 10  Street Name                     434519 non-null  object \n",
      " 11  Cross Street 1                  300838 non-null  object \n",
      " 12  Cross Street 2                  299635 non-null  object \n",
      " 13  Intersection Street 1           107383 non-null  object \n",
      " 14  Intersection Street 2           107048 non-null  object \n",
      " 15  Address Type                    451018 non-null  object \n",
      " 16  City                            476649 non-null  object \n",
      " 17  Landmark                        32521 non-null   object \n",
      " 18  Facility Type                   134923 non-null  object \n",
      " 19  Status                          500000 non-null  object \n",
      " 20  Due Date                        171559 non-null  object \n",
      " 21  Resolution Description          457389 non-null  object \n",
      " 22  Resolution Action Updated Date  488801 non-null  object \n",
      " 23  Community Board                 500000 non-null  object \n",
      " 24  BBL                             407355 non-null  float64\n",
      " 25  Borough                         500000 non-null  object \n",
      " 26  X Coordinate (State Plane)      470830 non-null  float64\n",
      " 27  Y Coordinate (State Plane)      470830 non-null  float64\n",
      " 28  Open Data Channel Type          500000 non-null  object \n",
      " 29  Park Facility Name              499973 non-null  object \n",
      " 30  Park Borough                    500000 non-null  object \n",
      " 31  Vehicle Type                    37 non-null      object \n",
      " 32  Taxi Company Borough            403 non-null     object \n",
      " 33  Taxi Pick Up Location           4475 non-null    object \n",
      " 34  Bridge Highway Name             697 non-null     object \n",
      " 35  Bridge Highway Direction        766 non-null     object \n",
      " 36  Road Ramp                       759 non-null     object \n",
      " 37  Bridge Highway Segment          1027 non-null    object \n",
      " 38  Latitude                        470830 non-null  float64\n",
      " 39  Longitude                       470830 non-null  float64\n",
      " 40  Location                        470830 non-null  object \n",
      "dtypes: float64(5), int64(1), object(35)\n",
      "memory usage: 156.4+ MB\n"
     ]
    }
   ],
   "source": [
    "requests.info()"
   ]
  },
  {
   "cell_type": "markdown",
   "metadata": {
    "editable": true,
    "slideshow": {
     "slide_type": "slide"
    },
    "tags": []
   },
   "source": [
    "## Demo"
   ]
  },
  {
   "cell_type": "markdown",
   "metadata": {
    "editable": true,
    "slideshow": {
     "slide_type": "subslide"
    },
    "tags": []
   },
   "source": [
    "### Analysis"
   ]
  },
  {
   "cell_type": "markdown",
   "metadata": {
    "editable": true,
    "slideshow": {
     "slide_type": ""
    },
    "tags": []
   },
   "source": [
    "#### Which complaints are most common?"
   ]
  },
  {
   "cell_type": "code",
   "execution_count": 8,
   "metadata": {
    "editable": true,
    "slideshow": {
     "slide_type": ""
    },
    "tags": []
   },
   "outputs": [],
   "source": [
    "# code goes here"
   ]
  },
  {
   "cell_type": "markdown",
   "metadata": {
    "editable": true,
    "slideshow": {
     "slide_type": "subslide"
    },
    "tags": []
   },
   "source": [
    "#### What's the most frequent request per agency?"
   ]
  },
  {
   "cell_type": "code",
   "execution_count": 9,
   "metadata": {
    "editable": true,
    "slideshow": {
     "slide_type": ""
    },
    "tags": []
   },
   "outputs": [],
   "source": [
    "# code goes here"
   ]
  },
  {
   "cell_type": "markdown",
   "metadata": {
    "editable": true,
    "slideshow": {
     "slide_type": "subslide"
    },
    "tags": []
   },
   "source": [
    "- [`groupby()`](https://pandas.pydata.org/pandas-docs/stable/user_guide/10min.html#grouping) similar to [pivot tables](https://support.google.com/docs/answer/1272900) in spreadsheets\n",
    "- [`to_frame()`](https://pandas.pydata.org/pandas-docs/stable/reference/api/pandas.Series.to_frame.html)\n",
    "- [`reset_index()`](https://pandas.pydata.org/pandas-docs/stable/reference/api/pandas.Series.reset_index.html)"
   ]
  },
  {
   "cell_type": "markdown",
   "metadata": {
    "editable": true,
    "id": "qeYA8-rMlpJa",
    "slideshow": {
     "slide_type": "subslide"
    },
    "tags": []
   },
   "source": [
    "### Exclude bad records from the DataFrame"
   ]
  },
  {
   "cell_type": "markdown",
   "metadata": {
    "editable": true,
    "id": "RgP7ehPsmozX",
    "slideshow": {
     "slide_type": ""
    },
    "tags": []
   },
   "source": [
    "Let's look at the complaint types."
   ]
  },
  {
   "cell_type": "code",
   "execution_count": 10,
   "metadata": {
    "editable": true,
    "slideshow": {
     "slide_type": ""
    },
    "tags": []
   },
   "outputs": [],
   "source": [
    "# code goes here"
   ]
  },
  {
   "cell_type": "markdown",
   "metadata": {
    "editable": true,
    "id": "RrwqSmKSbiYC",
    "slideshow": {
     "slide_type": "subslide"
    },
    "tags": []
   },
   "source": [
    "How should we go about cleaning those up?"
   ]
  },
  {
   "cell_type": "code",
   "execution_count": 11,
   "metadata": {
    "editable": true,
    "slideshow": {
     "slide_type": ""
    },
    "tags": []
   },
   "outputs": [],
   "source": [
    "# code goes here"
   ]
  },
  {
   "cell_type": "markdown",
   "metadata": {
    "editable": true,
    "slideshow": {
     "slide_type": "slide"
    },
    "tags": []
   },
   "source": [
    "## [Best practices](https://python-public-policy.afeld.me/en/columbia/assignments.html#tips)"
   ]
  },
  {
   "cell_type": "markdown",
   "metadata": {
    "editable": true,
    "id": "ddj8VVZRixCn",
    "slideshow": {
     "slide_type": "slide"
    },
    "tags": []
   },
   "source": [
    "## [Homework 1](https://python-public-policy.afeld.me/en/columbia/hw_1.html)"
   ]
  }
 ],
 "metadata": {
  "celltoolbar": "Slideshow",
  "kernelspec": {
   "display_name": "Python 3",
   "language": "python",
   "name": "python3"
  },
  "language_info": {
   "codemirror_mode": {
    "name": "ipython",
    "version": 3
   },
   "file_extension": ".py",
   "mimetype": "text/x-python",
   "name": "python",
   "nbconvert_exporter": "python",
   "pygments_lexer": "ipython3",
   "version": "3.11.13"
  }
 },
 "nbformat": 4,
 "nbformat_minor": 4
}
