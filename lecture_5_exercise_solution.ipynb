{
 "cells": [
  {
   "cell_type": "markdown",
   "id": "b8f040ad",
   "metadata": {},
   "source": [
    "# Lecture 5 in-class exercise solution"
   ]
  },
  {
   "cell_type": "code",
   "execution_count": 1,
   "id": "b60cf351",
   "metadata": {},
   "outputs": [
    {
     "data": {
      "text/plain": [
       "[{'place_id': 321631063,\n",
       "  'licence': 'Data © OpenStreetMap contributors, ODbL 1.0. http://osm.org/copyright',\n",
       "  'osm_type': 'way',\n",
       "  'osm_id': 238241022,\n",
       "  'lat': '38.897699700000004',\n",
       "  'lon': '-77.03655315',\n",
       "  'category': 'office',\n",
       "  'type': 'government',\n",
       "  'place_rank': 30,\n",
       "  'importance': 0.6863355973183977,\n",
       "  'addresstype': 'office',\n",
       "  'name': 'White House',\n",
       "  'display_name': 'White House, 1600, Pennsylvania Avenue Northwest, Ward 2, Washington, District of Columbia, 20500, United States',\n",
       "  'boundingbox': ['38.8974908', '38.8979110', '-77.0368537', '-77.0362519']}]"
      ]
     },
     "execution_count": 1,
     "metadata": {},
     "output_type": "execute_result"
    }
   ],
   "source": [
    "import requests\n",
    "\n",
    "params = {\n",
    "    \"q\": \"White House, Washington, D.C.\",\n",
    "    \"format\": \"jsonv2\",\n",
    "}\n",
    "response = requests.get(\n",
    "    \"https://nominatim.openstreetmap.org/search\",\n",
    "    params=params,\n",
    "    headers={\"user-agent\": \"Python in-class exercise\"},\n",
    ")\n",
    "data = response.json()\n",
    "data"
   ]
  },
  {
   "cell_type": "code",
   "execution_count": 2,
   "id": "697f889e",
   "metadata": {},
   "outputs": [
    {
     "data": {
      "text/plain": [
       "'Coordinates: 38.897699700000004, -77.03655315'"
      ]
     },
     "execution_count": 2,
     "metadata": {},
     "output_type": "execute_result"
    }
   ],
   "source": [
    "place = data[0]\n",
    "lat = place[\"lat\"]\n",
    "lon = place[\"lon\"]\n",
    "f\"Coordinates: {lat}, {lon}\""
   ]
  }
 ],
 "metadata": {
  "kernelspec": {
   "display_name": "Python 3",
   "language": "python",
   "name": "python3"
  },
  "language_info": {
   "codemirror_mode": {
    "name": "ipython",
    "version": 3
   },
   "file_extension": ".py",
   "mimetype": "text/x-python",
   "name": "python",
   "nbconvert_exporter": "python",
   "pygments_lexer": "ipython3",
   "version": "3.11.11"
  }
 },
 "nbformat": 4,
 "nbformat_minor": 5
}
