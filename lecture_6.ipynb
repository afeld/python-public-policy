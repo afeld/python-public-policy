{
 "cells": [
  {
   "cell_type": "markdown",
   "metadata": {
    "id": "Omm4n3FmPHlF",
    "slideshow": {
     "slide_type": "slide"
    }
   },
   "source": [
    "# Lecture 6: The Bigger Picture\n",
    "\n",
    "Please:\n",
    "\n",
    "- sign attendance sheet\n",
    "- put away devices"
   ]
  },
  {
   "cell_type": "markdown",
   "metadata": {
    "editable": true,
    "slideshow": {
     "slide_type": "slide"
    },
    "tags": []
   },
   "source": [
    "## Guest speaker: [Rachael Fauss](https://www.linkedin.com/in/rachaelfauss)\n",
    "\n",
    "> Rachael Fauss is the Senior Policy Advisor at [Reinvent Albany](https://reinventalbany.org/), has more than fifteen years of experience in state and city budget and public policy analysis and is an expert on conflict of interest and ethics issues. Rachael leads Reinvent Albany’s work on ethics, governance, transparency and budget issues. Previously, Rachael worked at Citizens Union and the New York State Assembly. Rachael has an MPA from Rockefeller College at SUNY Albany."
   ]
  },
  {
   "cell_type": "markdown",
   "metadata": {
    "editable": true,
    "slideshow": {
     "slide_type": "subslide"
    },
    "tags": []
   },
   "source": [
    "### Questions?"
   ]
  },
  {
   "cell_type": "markdown",
   "metadata": {
    "editable": true,
    "slideshow": {
     "slide_type": "slide"
    },
    "tags": []
   },
   "source": [
    "## [Final Project](https://python-public-policy.afeld.me/en/{{school_slug}}/final_project.html)\n",
    "\n",
    "How did it go?"
   ]
  },
  {
   "cell_type": "markdown",
   "metadata": {
    "editable": true,
    "slideshow": {
     "slide_type": "subslide"
    },
    "tags": []
   },
   "source": [
    "### [Peer grading](https://python-public-policy.afeld.me/en/{{school_slug}}/final_project/peer_grading.html)"
   ]
  },
  {
   "cell_type": "markdown",
   "metadata": {
    "editable": true,
    "slideshow": {
     "slide_type": "slide"
    },
    "tags": []
   },
   "source": [
    "## Ask Me Anything (AMA)\n",
    "\n",
    "Have slides on \"Python beyond data analysis\" as backup, but would rather talk about what you want to hear about."
   ]
  },
  {
   "cell_type": "markdown",
   "metadata": {
    "editable": true,
    "slideshow": {
     "slide_type": "slide"
    },
    "tags": []
   },
   "source": [
    "## [Data warehousing](https://docs.google.com/presentation/d/1-dr8oT9QsjrimhrFPiJQqDI91rMK28HZRsnx9wjGwlw/edit#slide=id.p)"
   ]
  },
  {
   "cell_type": "markdown",
   "metadata": {
    "slideshow": {
     "slide_type": "slide"
    }
   },
   "source": [
    "## Python beyond data analysis\n",
    "\n",
    "We've been focusing on using Python and pandas for data analysis. What else is Python used for?"
   ]
  },
  {
   "cell_type": "markdown",
   "metadata": {
    "slideshow": {
     "slide_type": "subslide"
    }
   },
   "source": [
    "### Data engineering\n",
    "\n",
    "- Automation / recurring processes\n",
    "- Copying/moving/processing/publishing data, especially Big Data\n",
    "- Monitoring/alerting"
   ]
  },
  {
   "cell_type": "markdown",
   "metadata": {
    "slideshow": {
     "slide_type": "subslide"
    }
   },
   "source": [
    "### Web development\n",
    "\n",
    "- Building web sites that are interactive (more than just content)\n",
    "- Forms\n",
    "- Presenting data\n",
    "- Workflows, such as:\n",
    "   - Signing up for things\n",
    "   - Paying for things"
   ]
  },
  {
   "cell_type": "markdown",
   "metadata": {
    "slideshow": {
     "slide_type": "subslide"
    }
   },
   "source": [
    "### Machine learning\n",
    "\n",
    "- Statistics, but _fancy_\n",
    "- Building models\n",
    "   - [Examples](https://tfhub.dev/)\n",
    "- Finding patterns\n",
    "- Recommendations\n",
    "- Detection"
   ]
  },
  {
   "cell_type": "markdown",
   "metadata": {
    "slideshow": {
     "slide_type": "subslide"
    }
   },
   "source": [
    "When people say \"artificial intelligence,\" they usually mean \"machine learning.\""
   ]
  },
  {
   "cell_type": "markdown",
   "metadata": {
    "slideshow": {
     "slide_type": "subslide"
    }
   },
   "source": [
    "![Diagram showing what type of machine learning may be useful, if at all](https://mitsloan.mit.edu/sites/default/files/2021-04/machine-learning-infographic_2.jpg)\n",
    "\n",
    "[Source, with more thorough explanation](https://mitsloan.mit.edu/ideas-made-to-matter/machine-learning-explained)"
   ]
  },
  {
   "cell_type": "markdown",
   "metadata": {
    "slideshow": {
     "slide_type": "subslide"
    }
   },
   "source": [
    "#### The process\n",
    "\n",
    "_High-level_\n",
    "\n",
    "1. Create a model\n",
    "   1. Gather a bunch of data for training\n",
    "   1. If supervised machine learning, label it (give it the right answers)\n",
    "   1. Segment into training and test data\n",
    "   1. Train the model against the training dataset (have it identify patterns)\n",
    "   1. Test the model against the test dataset\n",
    "1. Run against new data\n",
    "1. If reinforcement learning, model refines itself"
   ]
  },
  {
   "cell_type": "markdown",
   "metadata": {
    "editable": true,
    "slideshow": {
     "slide_type": "subslide"
    },
    "tags": []
   },
   "source": [
    "You have a head start: [The fundamentals](https://python-public-policy.afeld.me/en/{{school_slug}}/syllabus.html#learning-objectives) are applicable anywhere you're using code."
   ]
  },
  {
   "cell_type": "markdown",
   "metadata": {
    "editable": true,
    "slideshow": {
     "slide_type": "slide"
    },
    "tags": []
   },
   "source": [
    "## [Resources](https://python-public-policy.afeld.me/en/{{school_slug}}/resources.html)"
   ]
  },
  {
   "cell_type": "markdown",
   "metadata": {
    "editable": true,
    "slideshow": {
     "slide_type": "slide"
    },
    "tags": [
     "nyu-only"
    ]
   },
   "source": [
    "## Post-Google Colab\n",
    "\n",
    "- Google Colab instance (and your copy of files) will be deleted\n",
    "    - Download things you want to keep, particularly edited notebooks\n",
    "- Class materials will remain available on [the site](https://python-public-policy.afeld.me/en/{{school_slug}}/) and [through GitHub](https://github.com/afeld/python-public-policy/tree/{{school_slug}})\n",
    "- [Running notebooks elsewhere](https://python-public-policy.afeld.me/en/{{school_slug}}/resources.html#jupyter-outside-this-course)"
   ]
  },
  {
   "cell_type": "markdown",
   "metadata": {
    "editable": true,
    "slideshow": {
     "slide_type": "slide"
    },
    "tags": [
     "nyu-only"
    ]
   },
   "source": [
    "## [Course evaluations](https://coursefeedback.nyu.edu/nyu/)\n",
    "\n",
    "They are:\n",
    "\n",
    "- Totally anonymous\n",
    "- Not visible to me until grades are released\n",
    "- A big help. Some things I took from the past:\n",
    "    - Making assignments more rigorous\n",
    "    - Students are hungry for more\n",
    "    - People like the in-class exercises\n",
    "\n",
    "[More info.](https://www.nyu.edu/students/student-information-and-resources/registration-records-and-graduation/final-exams-and-course-evaluations/course-evaluation.html) Please complete now, if you haven't already."
   ]
  },
  {
   "cell_type": "markdown",
   "metadata": {
    "editable": true,
    "slideshow": {
     "slide_type": "slide"
    },
    "tags": [
     "columbia-only"
    ]
   },
   "source": [
    "Thanks to the {{assistant_name}}!"
   ]
  },
  {
   "cell_type": "markdown",
   "metadata": {
    "editable": true,
    "slideshow": {
     "slide_type": "slide"
    },
    "tags": []
   },
   "source": [
    "## Thank you!\n",
    "\n",
    "Keep in touch."
   ]
  }
 ],
 "metadata": {
  "celltoolbar": "Slideshow",
  "kernelspec": {
   "display_name": "Python [conda env:python-public-policy] *",
   "language": "python",
   "name": "conda-env-python-public-policy-py"
  },
  "language_info": {
   "codemirror_mode": {
    "name": "ipython",
    "version": 3
   },
   "file_extension": ".py",
   "mimetype": "text/x-python",
   "name": "python",
   "nbconvert_exporter": "python",
   "pygments_lexer": "ipython3",
   "version": "3.12.11"
  }
 },
 "nbformat": 4,
 "nbformat_minor": 4
}
