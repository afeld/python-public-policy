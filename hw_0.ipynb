{
 "cells": [
  {
   "cell_type": "markdown",
   "metadata": {
    "editable": true,
    "slideshow": {
     "slide_type": ""
    },
    "tags": []
   },
   "source": [
    "# Homework 0\n",
    "\n",
    "_[General assignment information](https://python-public-policy.afeld.me/en/{{school_slug}}/assignments.html)_\n",
    "\n",
    "## One-time setup\n",
    "\n",
    "Please do the following:\n",
    "\n",
    "- [Add your name pronunciation and pronouns]({{name_tool_url}})\n",
    "- Set your profile photo\n",
    "  - [{{lms_name}}]({{lms_profile_pic_url}})\n",
    "  - [Ed Discussion](https://edstem.org/us/settings/account)\n",
    "- Double-check your notification settings\n",
    "  - [{{lms_name}}]({{lms_notification_settings_url}})\n",
    "  - [Ed Discussion](https://edstem.org/us/settings/notifications)\n",
    "- Adjust notebook settings\n",
    "  1. [Open this notebook in Google Colab.](https://python-public-policy.afeld.me/en/{{school_slug}}/assignments.html#getting-started)\n",
    "  1. In the menu bar, click `Tools`.\n",
    "  1. Click `Settings`.\n",
    "  1. Click `Editor`.\n",
    "  1. Check the box for `Show line numbers`.\n",
    "  1. Click `AI Assistance`.\n",
    "  1. Recommended: Disable \"Show AI-powered inline completions\".\n",
    "     - [It's ok to use generative AI](https://python-public-policy.afeld.me/en/{{school_slug}}/syllabus.html#academic-integrity), but when you're new to coding, you will learn more if you write the code yourself.\n",
    "- Optional: [Get free upgrade to Colab Pro](https://research.google.com/colaboratory/faq.html#edu-faq-heading)\n",
    "\n",
    "## Tutorials\n",
    "\n",
    "1. Watch [Crash Course Computer Science: Statements & Functions](https://thecrashcourse.com/courses/programming-basics-statements-functions-crash-course-computer-science-12/)\n",
    "1. Do [Learn Python](https://www.learnpython.org/)'s Learn the Basics. You can skip the chapters on:\n",
    "   - Functions\n",
    "   - Classes and Objects\n",
    "   - Modules and Packages\n",
    "1. Read about:\n",
    "   - [Precedence and Associativity of Operators](https://www.geeksforgeeks.org/precedence-and-associativity-of-operators-in-python/)\n",
    "   - [Working with Lists and Dictionaries](https://web.archive.org/web/20230113111903/https://www.section.io/engineering-education/lists-and-dictionaries-python/)\n",
    "   - [Errors and exceptions](https://swcarpentry.github.io/python-novice-inflammation/09-errors.html)\n",
    "\n",
    "It's important that you have a good understanding of these fundamentals - otherwise, the rest of the course will be hard to follow. If you're feeling lost / find the rest of this assignment challenging, do one or both of the following in the next week or so:\n",
    "\n",
    "- Go through the corresponding topics in one of [the Python resources](https://python-public-policy.afeld.me/en/{{school_slug}}/resources.html#python-fundamentals)\n",
    "- [Ask for help.](https://python-public-policy.afeld.me/en/{{school_slug}}/assignments.html#tips)\n",
    "\n",
    "## Coding\n",
    "\n",
    "### Getting input\n",
    "\n",
    "To get information from a user, we can use Python's [`input()`](https://docs.python.org/3/library/functions.html#input) function. Run this cell and try it out:\n"
   ]
  },
  {
   "cell_type": "code",
   "execution_count": null,
   "metadata": {},
   "outputs": [],
   "source": [
    "word = input(\"Give me a word: \")\n",
    "word"
   ]
  },
  {
   "cell_type": "markdown",
   "metadata": {},
   "source": [
    "`input()` box not (always) showing up? See [common issues](https://python-public-policy.afeld.me/en/{{school_slug}}/assignments.html#common-issues).\n"
   ]
  },
  {
   "cell_type": "markdown",
   "metadata": {},
   "source": [
    "### Step 0: Mad lib\n",
    "\n",
    "You are going to make a (short) interactive [mad lib](https://hobbylark.com/party-games/How-to-Make-Your-Own-Mad-Libs). Use a paragraph of a story or the chorus from a song, or make one up. Prompt for each of the words (\"noun\", \"verb\", \"vehicle\", etc.), then once they are all entered, it output the mad lib with the provided words filled in. You will be using multiple `inputs()` and string concatentation.\n"
   ]
  },
  {
   "cell_type": "code",
   "execution_count": null,
   "metadata": {
    "tags": [
     "solution"
    ]
   },
   "outputs": [],
   "source": [
    "# your code here"
   ]
  },
  {
   "cell_type": "markdown",
   "metadata": {},
   "source": [
    "### Numeric input\n",
    "\n",
    "`input()` always returns a string. To get a number from a user in Python, you need to [convert that input into a integer](https://realpython.com/python-input-integer/) (or float). Run these cells in order to try it out:\n"
   ]
  },
  {
   "cell_type": "code",
   "execution_count": null,
   "metadata": {},
   "outputs": [],
   "source": [
    "num = input(\n",
    "    \"Pick a number, any number. Please enter the value without commas or decimals. > \"\n",
    ")\n",
    "num"
   ]
  },
  {
   "cell_type": "code",
   "execution_count": null,
   "metadata": {},
   "outputs": [],
   "source": [
    "type(num)"
   ]
  },
  {
   "cell_type": "code",
   "execution_count": null,
   "metadata": {},
   "outputs": [],
   "source": [
    "int(num)"
   ]
  },
  {
   "cell_type": "markdown",
   "metadata": {},
   "source": [
    "### Step 1: Unemployment benefit eligibility assessment\n",
    "\n",
    "We will now make an interactive tool to assess people for unemployment benefits. We will use a simplified set of rules. To be elegible, one must:\n",
    "\n",
    "- Have lost employment\n",
    "- Have made at least $10,000 in the past year\n",
    "  - Ask for their salary rather than as a yes-or-no question\n",
    "- Be ready, willing and able to work immediately\n",
    "- Be actively seeking work\n",
    "\n",
    "The program should then print `\"You are eligible\"` or `\"You are not eligible\"`.\n",
    "\n",
    "<details>\n",
    "<summary><strong>Hint</strong></summary>\n",
    "You will need:\n",
    "\n",
    "- `input()`s\n",
    "- `int()`\n",
    "- Conditional(s)\n",
    "</details>\n"
   ]
  },
  {
   "cell_type": "code",
   "execution_count": null,
   "metadata": {
    "tags": [
     "solution"
    ]
   },
   "outputs": [],
   "source": [
    "# your code here"
   ]
  },
  {
   "cell_type": "markdown",
   "metadata": {},
   "source": [
    "Now [turn in the assignment](https://python-public-policy.afeld.me/en/{{school_slug}}/assignments.html).\n",
    "\n",
    "## Tutorials, continued\n",
    "\n",
    "[Kaggle](https://www.kaggle.com/) is a data science platform that has various [tutorials](https://www.kaggle.com/learn/overview) and [competitions](https://www.kaggle.com/competitions), which you may want to go back to later. You are welcome to create a Kaggle account to save your progress, but it's not required.\n",
    "\n",
    "Kaggle, like Google Colab, is built around Jupyter notebooks. They are not _exactly_ the same, but will feel similar. Do the following Kaggle tutorial. You do not need to turn this in.\n",
    "\n",
    "- [Creating, Reading, and Writing with Pandas](https://www.kaggle.com/residentmario/creating-reading-and-writing)\n",
    "\n",
    "## Participation\n",
    "\n",
    "Reminder about the [between-class participation requirement](https://python-public-policy.afeld.me/en/{{school_slug}}/syllabus.html#participation).\n"
   ]
  }
 ],
 "metadata": {
  "file_extension": ".py",
  "kernelspec": {
   "display_name": "Python 3 (ipykernel)",
   "language": "python",
   "name": "python3"
  },
  "language_info": {
   "codemirror_mode": {
    "name": "ipython",
    "version": 3
   },
   "file_extension": ".py",
   "mimetype": "text/x-python",
   "name": "python",
   "nbconvert_exporter": "python",
   "pygments_lexer": "ipython3",
   "version": "3.12.12"
  },
  "mimetype": "text/x-python",
  "name": "python",
  "npconvert_exporter": "python",
  "pygments_lexer": "ipython3",
  "version": 3
 },
 "nbformat": 4,
 "nbformat_minor": 4
}
